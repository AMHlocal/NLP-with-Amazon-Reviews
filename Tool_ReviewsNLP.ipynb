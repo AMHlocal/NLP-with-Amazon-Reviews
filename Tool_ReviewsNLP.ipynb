{
  "nbformat": 4,
  "nbformat_minor": 0,
  "metadata": {
    "colab": {
      "name": "Tool ReviewsNLP.ipynb",
      "provenance": [],
      "collapsed_sections": [],
      "authorship_tag": "ABX9TyNjUlWjZfodTARxjHwFTGHd",
      "include_colab_link": true
    },
    "kernelspec": {
      "name": "python3",
      "display_name": "Python 3"
    }
  },
  "cells": [
    {
      "cell_type": "markdown",
      "metadata": {
        "id": "view-in-github",
        "colab_type": "text"
      },
      "source": [
        "<a href=\"https://colab.research.google.com/github/AMHlocal/final-project/blob/austin_branch/Tool_ReviewsNLP.ipynb\" target=\"_parent\"><img src=\"https://colab.research.google.com/assets/colab-badge.svg\" alt=\"Open In Colab\"/></a>"
      ]
    },
    {
      "cell_type": "code",
      "metadata": {
        "colab": {
          "base_uri": "https://localhost:8080/"
        },
        "id": "IuAQbm1bWxP4",
        "outputId": "5929f8b6-94f6-4dea-b95a-3df58e34269d"
      },
      "source": [
        "import os\n",
        "#latest version of spark 3.0 from http://www-us.apache.org/dist/spark/ and enter as the spark version\n",
        "spark_version = 'spark-3.0.1'\n",
        "os.environ['SPARK_VERSION']=spark_version\n",
        "\n",
        "#Install spark and Java\n",
        "!apt-get update\n",
        "!apt-get install openjdk-11-jdk-headless -qq > /dev/null\n",
        "!wget -q http://www-us.apache.org/dist/spark/$SPARK_VERSION/$SPARK_VERSION-bin-hadoop2.7.tgz\n",
        "!tar xf $SPARK_VERSION-bin-hadoop2.7.tgz\n",
        "!pip install -q findspark\n",
        "\n",
        "#Set Environment Variables\n",
        "os.environ[\"JAVA_HOME\"] = \"/usr/lib/jvm/java-11-openjdk-amd64\"\n",
        "os.environ[\"SPARK_HOME\"] = f\"/content/{spark_version}-bin-hadoop2.7\"\n",
        "\n",
        "# Start a SparkSession\n",
        "import findspark\n",
        "findspark.init()"
      ],
      "execution_count": 95,
      "outputs": [
        {
          "output_type": "stream",
          "text": [
            "\r0% [Working]\r            \rGet:1 http://security.ubuntu.com/ubuntu bionic-security InRelease [88.7 kB]\n",
            "\r0% [Connecting to archive.ubuntu.com (91.189.88.152)] [1 InRelease 14.2 kB/88.7\r0% [Connecting to archive.ubuntu.com (91.189.88.152)] [Connected to cloud.r-pro\r                                                                               \rIgn:2 https://developer.download.nvidia.com/compute/cuda/repos/ubuntu1804/x86_64  InRelease\n",
            "\r0% [Waiting for headers] [Waiting for headers] [Waiting for headers] [Waiting f\r                                                                               \rGet:3 https://cloud.r-project.org/bin/linux/ubuntu bionic-cran40/ InRelease [3,626 B]\n",
            "\r                                                                               \r0% [Waiting for headers] [Waiting for headers] [Waiting for headers]\r0% [1 InRelease gpgv 88.7 kB] [Waiting for headers] [Waiting for headers] [Wait\r                                                                               \rHit:4 http://ppa.launchpad.net/c2d4u.team/c2d4u4.0+/ubuntu bionic InRelease\n",
            "\r0% [1 InRelease gpgv 88.7 kB] [Waiting for headers] [Connecting to ppa.launchpa\r                                                                               \rIgn:5 https://developer.download.nvidia.com/compute/machine-learning/repos/ubuntu1804/x86_64  InRelease\n",
            "\r0% [1 InRelease gpgv 88.7 kB] [Waiting for headers] [Connecting to ppa.launchpa\r                                                                               \rHit:6 http://archive.ubuntu.com/ubuntu bionic InRelease\n",
            "\r0% [1 InRelease gpgv 88.7 kB] [Connecting to ppa.launchpad.net (91.189.95.83)] \r                                                                               \rHit:7 https://developer.download.nvidia.com/compute/cuda/repos/ubuntu1804/x86_64  Release\n",
            "Hit:8 https://developer.download.nvidia.com/compute/machine-learning/repos/ubuntu1804/x86_64  Release\n",
            "Get:9 http://archive.ubuntu.com/ubuntu bionic-updates InRelease [88.7 kB]\n",
            "Hit:10 http://ppa.launchpad.net/graphics-drivers/ppa/ubuntu bionic InRelease\n",
            "Get:11 http://archive.ubuntu.com/ubuntu bionic-backports InRelease [74.6 kB]\n",
            "Fetched 256 kB in 9s (29.0 kB/s)\n",
            "Reading package lists... Done\n"
          ],
          "name": "stdout"
        }
      ]
    },
    {
      "cell_type": "code",
      "metadata": {
        "id": "vjTKROG9enQj"
      },
      "source": [
        "#Start Spark session\n",
        "from pyspark.sql import SparkSession\n",
        "spark = SparkSession.builder.appName(\"AmazonReviews\").getOrCreate()"
      ],
      "execution_count": 96,
      "outputs": []
    },
    {
      "cell_type": "code",
      "metadata": {
        "colab": {
          "base_uri": "https://localhost:8080/"
        },
        "id": "lUgTRsK9fvJy",
        "outputId": "f31d3b5c-4168-4e07-9903-6dda8c83397d"
      },
      "source": [
        "#Read in data from S3 Buckets\n",
        "from pyspark import SparkFiles\n",
        "url = \"https://cobrakaireviews.s3.us-east-2.amazonaws.com/amazon_reviews_us_Tools_v1_00.tsv\"\n",
        "spark.sparkContext.addFile(url)\n",
        "df = spark.read.csv(SparkFiles.get(\"amazon_reviews_us_Tools_v1_00.tsv\"), sep=\"\\t\", header=True)\n",
        "\n",
        "#Show DF\n",
        "df.show()"
      ],
      "execution_count": 97,
      "outputs": [
        {
          "output_type": "stream",
          "text": [
            "+-----------+-----------+--------------+----------+--------------+--------------------+----------------+-----------+-------------+-----------+----+-----------------+--------------------+--------------------+-----------+\n",
            "|marketplace|customer_id|     review_id|product_id|product_parent|       product_title|product_category|star_rating|helpful_votes|total_votes|vine|verified_purchase|     review_headline|         review_body|review_date|\n",
            "+-----------+-----------+--------------+----------+--------------+--------------------+----------------+-----------+-------------+-----------+----+-----------------+--------------------+--------------------+-----------+\n",
            "|         US|   15785389|R2UM5QMHBHC90Q|B00H5U9ZD6|     115362950|WallPeg 12 sq ft ...|           Tools|          5|            0|          0|   N|                Y|Great organizer, ...|Very nice. Will o...| 2015-08-31|\n",
            "|         US|   47910848|  RF0D1LEIF6L7|B001TJGCS0|     570955425|Nite Ize Nite Daw...|           Tools|          4|            0|          0|   N|                Y|Like it, but the ...|Like it, but the ...| 2015-08-31|\n",
            "|         US|   36328996|  RM6YKIWQVNSY|B000NIK8JW|     128843593|Stanley 84-058 4 ...|           Tools|          1|            6|          6|   N|                Y|        poor quality|We were excited t...| 2015-08-31|\n",
            "|         US|   51785809|R1RL3L68ASPS36|B008ZYRGUA|     407828107|Powerextra 14.4V ...|           Tools|          4|            0|          0|   N|                Y|          Four Stars|Quick delivery. P...| 2015-08-31|\n",
            "|         US|   40757491|R1U4XFBFAG34CY|B00K5CA0GC|     490746675|Waterproof Invisi...|           Tools|          5|            0|          0|   N|                Y|          Five Stars|Quality waterproo...| 2015-08-31|\n",
            "|         US|   35544833|R3KFIK8P0I91PL|B00AIJAA94|     148352067|Crime Scene Do No...|           Tools|          5|            0|          0|   N|                Y|Excellent Decorat...|Ordered for my hu...| 2015-08-31|\n",
            "|         US|   16474909| RENOAY76PPK1O|B00JKEI6K8|     331801084|Aweek® 2 Pcs Bicy...|           Tools|          5|            0|          0|   N|                Y|          Five Stars|GREAT SELLER PROD...| 2015-08-31|\n",
            "|         US|   22601598| RINV884I0NL5V|B00AGCHVS6|     471514859|Ryobi P102 Genuin...|           Tools|          1|            0|          0|   N|                Y|Worked great for ...|My battery has di...| 2015-08-31|\n",
            "|         US|   16129808| R5KJH6CXZH2PX|B002S0O7U4|     162253576|Wiha 66995 6-Piec...|           Tools|          5|            0|          0|   N|                Y|       Great quality|Great product at ...| 2015-08-31|\n",
            "|         US|   24382335| RO69JF6QWD0W1|B0084YHXMW|      69530650|TOMTOP LED Submar...|           Tools|          5|            0|          0|   N|                Y|          Five Stars|           Excellent| 2015-08-31|\n",
            "|         US|   49796324|R3L9NQBH3FI55C|B00MLSS1SW|     916693555|Black & Decker BD...|           Tools|          4|            1|          1|   N|                Y|Really worked great!|This little sande...| 2015-08-31|\n",
            "|         US|   33289687| R4YH95YPHVU0C|B00D4WLS2A|      39333316|Crain 126 Staple ...|           Tools|          5|            0|          0|   N|                Y|         LOVE IT!!!!|This is the most ...| 2015-08-31|\n",
            "|         US|   10916386|R10M1WWDDQBGG2|B00JGCDV5Y|     550596607|Diamond Semi Roun...|           Tools|          2|            0|          0|   N|                Y|I needed to cut s...|I needed to cut s...| 2015-08-31|\n",
            "|         US|   34071500| RV3KWQBTNIO62|B00N0PS3YM|     735538025|It Mall 9 LED 375...|           Tools|          5|            1|          1|   N|                Y|   Works pretty well|Lights up small d...| 2015-08-31|\n",
            "|         US|   50594486|R1M7YUNLZI0G9F|B0000DD4KV|     506501960|IRWIN Tools Metri...|           Tools|          5|            1|          1|   N|                Y|          Five Stars|Great product for...| 2015-08-31|\n",
            "|         US|   21945887|R2MTL2D4E4HEF4|B0009H5FB8|     268586246|743022-A Backing ...|           Tools|          5|            0|          0|   N|                Y|          Five Stars|Many thanks for t...| 2015-08-31|\n",
            "|         US|   47749608| RXAHWIC1584UQ|B00NKSMPZW|     824618679|ClearArmor 141001...|           Tools|          5|           20|         23|   N|                Y|          Five Stars|geart product :) ...| 2015-08-31|\n",
            "|         US|   48880662| RMOIQFERVQDWS|B00RBAB92K|     156791442|KKmoon 9cm Mini A...|           Tools|          5|            0|          0|   N|                Y|          Five Stars|           very good| 2015-08-31|\n",
            "|         US|    4660265| R710G45MKODY9|B00QGBNZVI|     962324810|Refun E6 High Pow...|           Tools|          2|            1|          1|   N|                Y|           Two Stars|Scratches on lenses.| 2015-08-31|\n",
            "|         US|   18397238|R23ZIUGUM7TBMY|B00XXU3CDG|     543062309|Dr.meter S20 Mois...|           Tools|          1|            0|          1|   N|                Y|Don't waste your ...|It's a piece of $...| 2015-08-31|\n",
            "+-----------+-----------+--------------+----------+--------------+--------------------+----------------+-----------+-------------+-----------+----+-----------------+--------------------+--------------------+-----------+\n",
            "only showing top 20 rows\n",
            "\n"
          ],
          "name": "stdout"
        }
      ]
    },
    {
      "cell_type": "code",
      "metadata": {
        "colab": {
          "base_uri": "https://localhost:8080/"
        },
        "id": "ue4_64lkHYQh",
        "outputId": "901f8618-0de4-4c0d-d1c3-089d7b55911e"
      },
      "source": [
        "# count how many rows before dropping nulls\n",
        "df.count()"
      ],
      "execution_count": 98,
      "outputs": [
        {
          "output_type": "execute_result",
          "data": {
            "text/plain": [
              "1741100"
            ]
          },
          "metadata": {
            "tags": []
          },
          "execution_count": 98
        }
      ]
    },
    {
      "cell_type": "code",
      "metadata": {
        "colab": {
          "base_uri": "https://localhost:8080/"
        },
        "id": "aU3Stq10MxTT",
        "outputId": "90f821fe-fe42-48eb-8600-22d9ebd05ea7"
      },
      "source": [
        "# Find nulls in data\n",
        "from pyspark.sql.functions import isnan, when, count, col\n",
        "df.select([count(when(isnan(c) | col(c).isNull(), c)).alias(c) for c in df.columns]).show()"
      ],
      "execution_count": 99,
      "outputs": [
        {
          "output_type": "stream",
          "text": [
            "+-----------+-----------+---------+----------+--------------+-------------+----------------+-----------+-------------+-----------+----+-----------------+---------------+-----------+-----------+\n",
            "|marketplace|customer_id|review_id|product_id|product_parent|product_title|product_category|star_rating|helpful_votes|total_votes|vine|verified_purchase|review_headline|review_body|review_date|\n",
            "+-----------+-----------+---------+----------+--------------+-------------+----------------+-----------+-------------+-----------+----+-----------------+---------------+-----------+-----------+\n",
            "|          0|          0|        0|         0|             0|            0|               4|          4|            5|          5|   5|                5|              6|        121|         79|\n",
            "+-----------+-----------+---------+----------+--------------+-------------+----------------+-----------+-------------+-----------+----+-----------------+---------------+-----------+-----------+\n",
            "\n"
          ],
          "name": "stdout"
        }
      ]
    },
    {
      "cell_type": "code",
      "metadata": {
        "colab": {
          "base_uri": "https://localhost:8080/"
        },
        "id": "g2r1A4kvEtlc",
        "outputId": "6e860280-a40f-46f3-f9d3-bb378c15a79a"
      },
      "source": [
        "# Drop nulls in data\n",
        "df1=df.dropna()\n",
        "df1.show()"
      ],
      "execution_count": 100,
      "outputs": [
        {
          "output_type": "stream",
          "text": [
            "+-----------+-----------+--------------+----------+--------------+--------------------+----------------+-----------+-------------+-----------+----+-----------------+--------------------+--------------------+-----------+\n",
            "|marketplace|customer_id|     review_id|product_id|product_parent|       product_title|product_category|star_rating|helpful_votes|total_votes|vine|verified_purchase|     review_headline|         review_body|review_date|\n",
            "+-----------+-----------+--------------+----------+--------------+--------------------+----------------+-----------+-------------+-----------+----+-----------------+--------------------+--------------------+-----------+\n",
            "|         US|   15785389|R2UM5QMHBHC90Q|B00H5U9ZD6|     115362950|WallPeg 12 sq ft ...|           Tools|          5|            0|          0|   N|                Y|Great organizer, ...|Very nice. Will o...| 2015-08-31|\n",
            "|         US|   47910848|  RF0D1LEIF6L7|B001TJGCS0|     570955425|Nite Ize Nite Daw...|           Tools|          4|            0|          0|   N|                Y|Like it, but the ...|Like it, but the ...| 2015-08-31|\n",
            "|         US|   36328996|  RM6YKIWQVNSY|B000NIK8JW|     128843593|Stanley 84-058 4 ...|           Tools|          1|            6|          6|   N|                Y|        poor quality|We were excited t...| 2015-08-31|\n",
            "|         US|   51785809|R1RL3L68ASPS36|B008ZYRGUA|     407828107|Powerextra 14.4V ...|           Tools|          4|            0|          0|   N|                Y|          Four Stars|Quick delivery. P...| 2015-08-31|\n",
            "|         US|   40757491|R1U4XFBFAG34CY|B00K5CA0GC|     490746675|Waterproof Invisi...|           Tools|          5|            0|          0|   N|                Y|          Five Stars|Quality waterproo...| 2015-08-31|\n",
            "|         US|   35544833|R3KFIK8P0I91PL|B00AIJAA94|     148352067|Crime Scene Do No...|           Tools|          5|            0|          0|   N|                Y|Excellent Decorat...|Ordered for my hu...| 2015-08-31|\n",
            "|         US|   16474909| RENOAY76PPK1O|B00JKEI6K8|     331801084|Aweek® 2 Pcs Bicy...|           Tools|          5|            0|          0|   N|                Y|          Five Stars|GREAT SELLER PROD...| 2015-08-31|\n",
            "|         US|   22601598| RINV884I0NL5V|B00AGCHVS6|     471514859|Ryobi P102 Genuin...|           Tools|          1|            0|          0|   N|                Y|Worked great for ...|My battery has di...| 2015-08-31|\n",
            "|         US|   16129808| R5KJH6CXZH2PX|B002S0O7U4|     162253576|Wiha 66995 6-Piec...|           Tools|          5|            0|          0|   N|                Y|       Great quality|Great product at ...| 2015-08-31|\n",
            "|         US|   24382335| RO69JF6QWD0W1|B0084YHXMW|      69530650|TOMTOP LED Submar...|           Tools|          5|            0|          0|   N|                Y|          Five Stars|           Excellent| 2015-08-31|\n",
            "|         US|   49796324|R3L9NQBH3FI55C|B00MLSS1SW|     916693555|Black & Decker BD...|           Tools|          4|            1|          1|   N|                Y|Really worked great!|This little sande...| 2015-08-31|\n",
            "|         US|   33289687| R4YH95YPHVU0C|B00D4WLS2A|      39333316|Crain 126 Staple ...|           Tools|          5|            0|          0|   N|                Y|         LOVE IT!!!!|This is the most ...| 2015-08-31|\n",
            "|         US|   10916386|R10M1WWDDQBGG2|B00JGCDV5Y|     550596607|Diamond Semi Roun...|           Tools|          2|            0|          0|   N|                Y|I needed to cut s...|I needed to cut s...| 2015-08-31|\n",
            "|         US|   34071500| RV3KWQBTNIO62|B00N0PS3YM|     735538025|It Mall 9 LED 375...|           Tools|          5|            1|          1|   N|                Y|   Works pretty well|Lights up small d...| 2015-08-31|\n",
            "|         US|   50594486|R1M7YUNLZI0G9F|B0000DD4KV|     506501960|IRWIN Tools Metri...|           Tools|          5|            1|          1|   N|                Y|          Five Stars|Great product for...| 2015-08-31|\n",
            "|         US|   21945887|R2MTL2D4E4HEF4|B0009H5FB8|     268586246|743022-A Backing ...|           Tools|          5|            0|          0|   N|                Y|          Five Stars|Many thanks for t...| 2015-08-31|\n",
            "|         US|   47749608| RXAHWIC1584UQ|B00NKSMPZW|     824618679|ClearArmor 141001...|           Tools|          5|           20|         23|   N|                Y|          Five Stars|geart product :) ...| 2015-08-31|\n",
            "|         US|   48880662| RMOIQFERVQDWS|B00RBAB92K|     156791442|KKmoon 9cm Mini A...|           Tools|          5|            0|          0|   N|                Y|          Five Stars|           very good| 2015-08-31|\n",
            "|         US|    4660265| R710G45MKODY9|B00QGBNZVI|     962324810|Refun E6 High Pow...|           Tools|          2|            1|          1|   N|                Y|           Two Stars|Scratches on lenses.| 2015-08-31|\n",
            "|         US|   18397238|R23ZIUGUM7TBMY|B00XXU3CDG|     543062309|Dr.meter S20 Mois...|           Tools|          1|            0|          1|   N|                Y|Don't waste your ...|It's a piece of $...| 2015-08-31|\n",
            "+-----------+-----------+--------------+----------+--------------+--------------------+----------------+-----------+-------------+-----------+----+-----------------+--------------------+--------------------+-----------+\n",
            "only showing top 20 rows\n",
            "\n"
          ],
          "name": "stdout"
        }
      ]
    },
    {
      "cell_type": "code",
      "metadata": {
        "colab": {
          "base_uri": "https://localhost:8080/"
        },
        "id": "Cx1XOKZiHnQX",
        "outputId": "d871f15c-2ab0-4618-9a66-bf3d604ba3a9"
      },
      "source": [
        "# count number of rows after drop (should be less than 1741100(tools), 2402458(Grocery))\n",
        "df1.count()"
      ],
      "execution_count": 101,
      "outputs": [
        {
          "output_type": "execute_result",
          "data": {
            "text/plain": [
              "1740974"
            ]
          },
          "metadata": {
            "tags": []
          },
          "execution_count": 101
        }
      ]
    },
    {
      "cell_type": "code",
      "metadata": {
        "colab": {
          "base_uri": "https://localhost:8080/"
        },
        "id": "uclKzVxw8wLq",
        "outputId": "84a3ce58-dc5a-49f4-b5d8-898df7b4b90a"
      },
      "source": [
        "#Concatenate headline and body columns\n",
        "from pyspark.sql import functions as sf\n",
        "df2 = df1.withColumn('joined', sf.concat(sf.col('review_headline'), sf.lit(' '), sf.col('review_body')))\n",
        "df2.show()"
      ],
      "execution_count": 102,
      "outputs": [
        {
          "output_type": "stream",
          "text": [
            "+-----------+-----------+--------------+----------+--------------+--------------------+----------------+-----------+-------------+-----------+----+-----------------+--------------------+--------------------+-----------+--------------------+\n",
            "|marketplace|customer_id|     review_id|product_id|product_parent|       product_title|product_category|star_rating|helpful_votes|total_votes|vine|verified_purchase|     review_headline|         review_body|review_date|              joined|\n",
            "+-----------+-----------+--------------+----------+--------------+--------------------+----------------+-----------+-------------+-----------+----+-----------------+--------------------+--------------------+-----------+--------------------+\n",
            "|         US|   15785389|R2UM5QMHBHC90Q|B00H5U9ZD6|     115362950|WallPeg 12 sq ft ...|           Tools|          5|            0|          0|   N|                Y|Great organizer, ...|Very nice. Will o...| 2015-08-31|Great organizer, ...|\n",
            "|         US|   47910848|  RF0D1LEIF6L7|B001TJGCS0|     570955425|Nite Ize Nite Daw...|           Tools|          4|            0|          0|   N|                Y|Like it, but the ...|Like it, but the ...| 2015-08-31|Like it, but the ...|\n",
            "|         US|   36328996|  RM6YKIWQVNSY|B000NIK8JW|     128843593|Stanley 84-058 4 ...|           Tools|          1|            6|          6|   N|                Y|        poor quality|We were excited t...| 2015-08-31|poor quality We w...|\n",
            "|         US|   51785809|R1RL3L68ASPS36|B008ZYRGUA|     407828107|Powerextra 14.4V ...|           Tools|          4|            0|          0|   N|                Y|          Four Stars|Quick delivery. P...| 2015-08-31|Four Stars Quick ...|\n",
            "|         US|   40757491|R1U4XFBFAG34CY|B00K5CA0GC|     490746675|Waterproof Invisi...|           Tools|          5|            0|          0|   N|                Y|          Five Stars|Quality waterproo...| 2015-08-31|Five Stars Qualit...|\n",
            "|         US|   35544833|R3KFIK8P0I91PL|B00AIJAA94|     148352067|Crime Scene Do No...|           Tools|          5|            0|          0|   N|                Y|Excellent Decorat...|Ordered for my hu...| 2015-08-31|Excellent Decorat...|\n",
            "|         US|   16474909| RENOAY76PPK1O|B00JKEI6K8|     331801084|Aweek® 2 Pcs Bicy...|           Tools|          5|            0|          0|   N|                Y|          Five Stars|GREAT SELLER PROD...| 2015-08-31|Five Stars GREAT ...|\n",
            "|         US|   22601598| RINV884I0NL5V|B00AGCHVS6|     471514859|Ryobi P102 Genuin...|           Tools|          1|            0|          0|   N|                Y|Worked great for ...|My battery has di...| 2015-08-31|Worked great for ...|\n",
            "|         US|   16129808| R5KJH6CXZH2PX|B002S0O7U4|     162253576|Wiha 66995 6-Piec...|           Tools|          5|            0|          0|   N|                Y|       Great quality|Great product at ...| 2015-08-31|Great quality Gre...|\n",
            "|         US|   24382335| RO69JF6QWD0W1|B0084YHXMW|      69530650|TOMTOP LED Submar...|           Tools|          5|            0|          0|   N|                Y|          Five Stars|           Excellent| 2015-08-31|Five Stars Excellent|\n",
            "|         US|   49796324|R3L9NQBH3FI55C|B00MLSS1SW|     916693555|Black & Decker BD...|           Tools|          4|            1|          1|   N|                Y|Really worked great!|This little sande...| 2015-08-31|Really worked gre...|\n",
            "|         US|   33289687| R4YH95YPHVU0C|B00D4WLS2A|      39333316|Crain 126 Staple ...|           Tools|          5|            0|          0|   N|                Y|         LOVE IT!!!!|This is the most ...| 2015-08-31|LOVE IT!!!! This ...|\n",
            "|         US|   10916386|R10M1WWDDQBGG2|B00JGCDV5Y|     550596607|Diamond Semi Roun...|           Tools|          2|            0|          0|   N|                Y|I needed to cut s...|I needed to cut s...| 2015-08-31|I needed to cut s...|\n",
            "|         US|   34071500| RV3KWQBTNIO62|B00N0PS3YM|     735538025|It Mall 9 LED 375...|           Tools|          5|            1|          1|   N|                Y|   Works pretty well|Lights up small d...| 2015-08-31|Works pretty well...|\n",
            "|         US|   50594486|R1M7YUNLZI0G9F|B0000DD4KV|     506501960|IRWIN Tools Metri...|           Tools|          5|            1|          1|   N|                Y|          Five Stars|Great product for...| 2015-08-31|Five Stars Great ...|\n",
            "|         US|   21945887|R2MTL2D4E4HEF4|B0009H5FB8|     268586246|743022-A Backing ...|           Tools|          5|            0|          0|   N|                Y|          Five Stars|Many thanks for t...| 2015-08-31|Five Stars Many t...|\n",
            "|         US|   47749608| RXAHWIC1584UQ|B00NKSMPZW|     824618679|ClearArmor 141001...|           Tools|          5|           20|         23|   N|                Y|          Five Stars|geart product :) ...| 2015-08-31|Five Stars geart ...|\n",
            "|         US|   48880662| RMOIQFERVQDWS|B00RBAB92K|     156791442|KKmoon 9cm Mini A...|           Tools|          5|            0|          0|   N|                Y|          Five Stars|           very good| 2015-08-31|Five Stars very good|\n",
            "|         US|    4660265| R710G45MKODY9|B00QGBNZVI|     962324810|Refun E6 High Pow...|           Tools|          2|            1|          1|   N|                Y|           Two Stars|Scratches on lenses.| 2015-08-31|Two Stars Scratch...|\n",
            "|         US|   18397238|R23ZIUGUM7TBMY|B00XXU3CDG|     543062309|Dr.meter S20 Mois...|           Tools|          1|            0|          1|   N|                Y|Don't waste your ...|It's a piece of $...| 2015-08-31|Don't waste your ...|\n",
            "+-----------+-----------+--------------+----------+--------------+--------------------+----------------+-----------+-------------+-----------+----+-----------------+--------------------+--------------------+-----------+--------------------+\n",
            "only showing top 20 rows\n",
            "\n"
          ],
          "name": "stdout"
        }
      ]
    },
    {
      "cell_type": "markdown",
      "metadata": {
        "id": "_4LNmvk0xZVb"
      },
      "source": [
        "### Feature Transformations\n"
      ]
    },
    {
      "cell_type": "code",
      "metadata": {
        "id": "7Hu7VA2YhjBT"
      },
      "source": [
        "from pyspark.ml.feature import Tokenizer, StopWordsRemover, HashingTF, IDF, StringIndexer\n",
        "# Create all the features to the data set\n",
        "tokenizer = Tokenizer(inputCol='joined', outputCol='tokened')\n",
        "stopremove = StopWordsRemover(inputCol='tokened', outputCol='stopped')\n",
        "hashing = HashingTF(inputCol='stopped', outputCol='hashed', numFeatures=pow(2,4))\n",
        "IDF = IDF(inputCol='hashed', outputCol='idf')"
      ],
      "execution_count": 103,
      "outputs": []
    },
    {
      "cell_type": "code",
      "metadata": {
        "colab": {
          "base_uri": "https://localhost:8080/"
        },
        "id": "153cX1ZbhjYt",
        "outputId": "ff0dd6ba-9442-4a24-8b35-bbad514c5d81"
      },
      "source": [
        "# tokenize review body\n",
        "token = tokenizer.transform(df2)\n",
        "token.show()"
      ],
      "execution_count": 104,
      "outputs": [
        {
          "output_type": "stream",
          "text": [
            "+-----------+-----------+--------------+----------+--------------+--------------------+----------------+-----------+-------------+-----------+----+-----------------+--------------------+--------------------+-----------+--------------------+--------------------+\n",
            "|marketplace|customer_id|     review_id|product_id|product_parent|       product_title|product_category|star_rating|helpful_votes|total_votes|vine|verified_purchase|     review_headline|         review_body|review_date|              joined|             tokened|\n",
            "+-----------+-----------+--------------+----------+--------------+--------------------+----------------+-----------+-------------+-----------+----+-----------------+--------------------+--------------------+-----------+--------------------+--------------------+\n",
            "|         US|   15785389|R2UM5QMHBHC90Q|B00H5U9ZD6|     115362950|WallPeg 12 sq ft ...|           Tools|          5|            0|          0|   N|                Y|Great organizer, ...|Very nice. Will o...| 2015-08-31|Great organizer, ...|[great, organizer...|\n",
            "|         US|   47910848|  RF0D1LEIF6L7|B001TJGCS0|     570955425|Nite Ize Nite Daw...|           Tools|          4|            0|          0|   N|                Y|Like it, but the ...|Like it, but the ...| 2015-08-31|Like it, but the ...|[like, it,, but, ...|\n",
            "|         US|   36328996|  RM6YKIWQVNSY|B000NIK8JW|     128843593|Stanley 84-058 4 ...|           Tools|          1|            6|          6|   N|                Y|        poor quality|We were excited t...| 2015-08-31|poor quality We w...|[poor, quality, w...|\n",
            "|         US|   51785809|R1RL3L68ASPS36|B008ZYRGUA|     407828107|Powerextra 14.4V ...|           Tools|          4|            0|          0|   N|                Y|          Four Stars|Quick delivery. P...| 2015-08-31|Four Stars Quick ...|[four, stars, qui...|\n",
            "|         US|   40757491|R1U4XFBFAG34CY|B00K5CA0GC|     490746675|Waterproof Invisi...|           Tools|          5|            0|          0|   N|                Y|          Five Stars|Quality waterproo...| 2015-08-31|Five Stars Qualit...|[five, stars, qua...|\n",
            "|         US|   35544833|R3KFIK8P0I91PL|B00AIJAA94|     148352067|Crime Scene Do No...|           Tools|          5|            0|          0|   N|                Y|Excellent Decorat...|Ordered for my hu...| 2015-08-31|Excellent Decorat...|[excellent, decor...|\n",
            "|         US|   16474909| RENOAY76PPK1O|B00JKEI6K8|     331801084|Aweek® 2 Pcs Bicy...|           Tools|          5|            0|          0|   N|                Y|          Five Stars|GREAT SELLER PROD...| 2015-08-31|Five Stars GREAT ...|[five, stars, gre...|\n",
            "|         US|   22601598| RINV884I0NL5V|B00AGCHVS6|     471514859|Ryobi P102 Genuin...|           Tools|          1|            0|          0|   N|                Y|Worked great for ...|My battery has di...| 2015-08-31|Worked great for ...|[worked, great, f...|\n",
            "|         US|   16129808| R5KJH6CXZH2PX|B002S0O7U4|     162253576|Wiha 66995 6-Piec...|           Tools|          5|            0|          0|   N|                Y|       Great quality|Great product at ...| 2015-08-31|Great quality Gre...|[great, quality, ...|\n",
            "|         US|   24382335| RO69JF6QWD0W1|B0084YHXMW|      69530650|TOMTOP LED Submar...|           Tools|          5|            0|          0|   N|                Y|          Five Stars|           Excellent| 2015-08-31|Five Stars Excellent|[five, stars, exc...|\n",
            "|         US|   49796324|R3L9NQBH3FI55C|B00MLSS1SW|     916693555|Black & Decker BD...|           Tools|          4|            1|          1|   N|                Y|Really worked great!|This little sande...| 2015-08-31|Really worked gre...|[really, worked, ...|\n",
            "|         US|   33289687| R4YH95YPHVU0C|B00D4WLS2A|      39333316|Crain 126 Staple ...|           Tools|          5|            0|          0|   N|                Y|         LOVE IT!!!!|This is the most ...| 2015-08-31|LOVE IT!!!! This ...|[love, it!!!!, th...|\n",
            "|         US|   10916386|R10M1WWDDQBGG2|B00JGCDV5Y|     550596607|Diamond Semi Roun...|           Tools|          2|            0|          0|   N|                Y|I needed to cut s...|I needed to cut s...| 2015-08-31|I needed to cut s...|[i, needed, to, c...|\n",
            "|         US|   34071500| RV3KWQBTNIO62|B00N0PS3YM|     735538025|It Mall 9 LED 375...|           Tools|          5|            1|          1|   N|                Y|   Works pretty well|Lights up small d...| 2015-08-31|Works pretty well...|[works, pretty, w...|\n",
            "|         US|   50594486|R1M7YUNLZI0G9F|B0000DD4KV|     506501960|IRWIN Tools Metri...|           Tools|          5|            1|          1|   N|                Y|          Five Stars|Great product for...| 2015-08-31|Five Stars Great ...|[five, stars, gre...|\n",
            "|         US|   21945887|R2MTL2D4E4HEF4|B0009H5FB8|     268586246|743022-A Backing ...|           Tools|          5|            0|          0|   N|                Y|          Five Stars|Many thanks for t...| 2015-08-31|Five Stars Many t...|[five, stars, man...|\n",
            "|         US|   47749608| RXAHWIC1584UQ|B00NKSMPZW|     824618679|ClearArmor 141001...|           Tools|          5|           20|         23|   N|                Y|          Five Stars|geart product :) ...| 2015-08-31|Five Stars geart ...|[five, stars, gea...|\n",
            "|         US|   48880662| RMOIQFERVQDWS|B00RBAB92K|     156791442|KKmoon 9cm Mini A...|           Tools|          5|            0|          0|   N|                Y|          Five Stars|           very good| 2015-08-31|Five Stars very good|[five, stars, ver...|\n",
            "|         US|    4660265| R710G45MKODY9|B00QGBNZVI|     962324810|Refun E6 High Pow...|           Tools|          2|            1|          1|   N|                Y|           Two Stars|Scratches on lenses.| 2015-08-31|Two Stars Scratch...|[two, stars, scra...|\n",
            "|         US|   18397238|R23ZIUGUM7TBMY|B00XXU3CDG|     543062309|Dr.meter S20 Mois...|           Tools|          1|            0|          1|   N|                Y|Don't waste your ...|It's a piece of $...| 2015-08-31|Don't waste your ...|[don't, waste, yo...|\n",
            "+-----------+-----------+--------------+----------+--------------+--------------------+----------------+-----------+-------------+-----------+----+-----------------+--------------------+--------------------+-----------+--------------------+--------------------+\n",
            "only showing top 20 rows\n",
            "\n"
          ],
          "name": "stdout"
        }
      ]
    },
    {
      "cell_type": "code",
      "metadata": {
        "colab": {
          "base_uri": "https://localhost:8080/"
        },
        "id": "Q6a-5cKTrwXU",
        "outputId": "3fda0b76-df2d-43f6-8b40-868bb71a64ef"
      },
      "source": [
        "#stopwords\n",
        "stopped = stopremove.transform(token)\n",
        "stopped.show()"
      ],
      "execution_count": 105,
      "outputs": [
        {
          "output_type": "stream",
          "text": [
            "+-----------+-----------+--------------+----------+--------------+--------------------+----------------+-----------+-------------+-----------+----+-----------------+--------------------+--------------------+-----------+--------------------+--------------------+--------------------+\n",
            "|marketplace|customer_id|     review_id|product_id|product_parent|       product_title|product_category|star_rating|helpful_votes|total_votes|vine|verified_purchase|     review_headline|         review_body|review_date|              joined|             tokened|             stopped|\n",
            "+-----------+-----------+--------------+----------+--------------+--------------------+----------------+-----------+-------------+-----------+----+-----------------+--------------------+--------------------+-----------+--------------------+--------------------+--------------------+\n",
            "|         US|   15785389|R2UM5QMHBHC90Q|B00H5U9ZD6|     115362950|WallPeg 12 sq ft ...|           Tools|          5|            0|          0|   N|                Y|Great organizer, ...|Very nice. Will o...| 2015-08-31|Great organizer, ...|[great, organizer...|[great, organizer...|\n",
            "|         US|   47910848|  RF0D1LEIF6L7|B001TJGCS0|     570955425|Nite Ize Nite Daw...|           Tools|          4|            0|          0|   N|                Y|Like it, but the ...|Like it, but the ...| 2015-08-31|Like it, but the ...|[like, it,, but, ...|[like, it,, batte...|\n",
            "|         US|   36328996|  RM6YKIWQVNSY|B000NIK8JW|     128843593|Stanley 84-058 4 ...|           Tools|          1|            6|          6|   N|                Y|        poor quality|We were excited t...| 2015-08-31|poor quality We w...|[poor, quality, w...|[poor, quality, e...|\n",
            "|         US|   51785809|R1RL3L68ASPS36|B008ZYRGUA|     407828107|Powerextra 14.4V ...|           Tools|          4|            0|          0|   N|                Y|          Four Stars|Quick delivery. P...| 2015-08-31|Four Stars Quick ...|[four, stars, qui...|[four, stars, qui...|\n",
            "|         US|   40757491|R1U4XFBFAG34CY|B00K5CA0GC|     490746675|Waterproof Invisi...|           Tools|          5|            0|          0|   N|                Y|          Five Stars|Quality waterproo...| 2015-08-31|Five Stars Qualit...|[five, stars, qua...|[five, stars, qua...|\n",
            "|         US|   35544833|R3KFIK8P0I91PL|B00AIJAA94|     148352067|Crime Scene Do No...|           Tools|          5|            0|          0|   N|                Y|Excellent Decorat...|Ordered for my hu...| 2015-08-31|Excellent Decorat...|[excellent, decor...|[excellent, decor...|\n",
            "|         US|   16474909| RENOAY76PPK1O|B00JKEI6K8|     331801084|Aweek® 2 Pcs Bicy...|           Tools|          5|            0|          0|   N|                Y|          Five Stars|GREAT SELLER PROD...| 2015-08-31|Five Stars GREAT ...|[five, stars, gre...|[five, stars, gre...|\n",
            "|         US|   22601598| RINV884I0NL5V|B00AGCHVS6|     471514859|Ryobi P102 Genuin...|           Tools|          1|            0|          0|   N|                Y|Worked great for ...|My battery has di...| 2015-08-31|Worked great for ...|[worked, great, f...|[worked, great, 3...|\n",
            "|         US|   16129808| R5KJH6CXZH2PX|B002S0O7U4|     162253576|Wiha 66995 6-Piec...|           Tools|          5|            0|          0|   N|                Y|       Great quality|Great product at ...| 2015-08-31|Great quality Gre...|[great, quality, ...|[great, quality, ...|\n",
            "|         US|   24382335| RO69JF6QWD0W1|B0084YHXMW|      69530650|TOMTOP LED Submar...|           Tools|          5|            0|          0|   N|                Y|          Five Stars|           Excellent| 2015-08-31|Five Stars Excellent|[five, stars, exc...|[five, stars, exc...|\n",
            "|         US|   49796324|R3L9NQBH3FI55C|B00MLSS1SW|     916693555|Black & Decker BD...|           Tools|          4|            1|          1|   N|                Y|Really worked great!|This little sande...| 2015-08-31|Really worked gre...|[really, worked, ...|[really, worked, ...|\n",
            "|         US|   33289687| R4YH95YPHVU0C|B00D4WLS2A|      39333316|Crain 126 Staple ...|           Tools|          5|            0|          0|   N|                Y|         LOVE IT!!!!|This is the most ...| 2015-08-31|LOVE IT!!!! This ...|[love, it!!!!, th...|[love, it!!!!, fa...|\n",
            "|         US|   10916386|R10M1WWDDQBGG2|B00JGCDV5Y|     550596607|Diamond Semi Roun...|           Tools|          2|            0|          0|   N|                Y|I needed to cut s...|I needed to cut s...| 2015-08-31|I needed to cut s...|[i, needed, to, c...|[needed, cut, cer...|\n",
            "|         US|   34071500| RV3KWQBTNIO62|B00N0PS3YM|     735538025|It Mall 9 LED 375...|           Tools|          5|            1|          1|   N|                Y|   Works pretty well|Lights up small d...| 2015-08-31|Works pretty well...|[works, pretty, w...|[works, pretty, w...|\n",
            "|         US|   50594486|R1M7YUNLZI0G9F|B0000DD4KV|     506501960|IRWIN Tools Metri...|           Tools|          5|            1|          1|   N|                Y|          Five Stars|Great product for...| 2015-08-31|Five Stars Great ...|[five, stars, gre...|[five, stars, gre...|\n",
            "|         US|   21945887|R2MTL2D4E4HEF4|B0009H5FB8|     268586246|743022-A Backing ...|           Tools|          5|            0|          0|   N|                Y|          Five Stars|Many thanks for t...| 2015-08-31|Five Stars Many t...|[five, stars, man...|[five, stars, man...|\n",
            "|         US|   47749608| RXAHWIC1584UQ|B00NKSMPZW|     824618679|ClearArmor 141001...|           Tools|          5|           20|         23|   N|                Y|          Five Stars|geart product :) ...| 2015-08-31|Five Stars geart ...|[five, stars, gea...|[five, stars, gea...|\n",
            "|         US|   48880662| RMOIQFERVQDWS|B00RBAB92K|     156791442|KKmoon 9cm Mini A...|           Tools|          5|            0|          0|   N|                Y|          Five Stars|           very good| 2015-08-31|Five Stars very good|[five, stars, ver...| [five, stars, good]|\n",
            "|         US|    4660265| R710G45MKODY9|B00QGBNZVI|     962324810|Refun E6 High Pow...|           Tools|          2|            1|          1|   N|                Y|           Two Stars|Scratches on lenses.| 2015-08-31|Two Stars Scratch...|[two, stars, scra...|[two, stars, scra...|\n",
            "|         US|   18397238|R23ZIUGUM7TBMY|B00XXU3CDG|     543062309|Dr.meter S20 Mois...|           Tools|          1|            0|          1|   N|                Y|Don't waste your ...|It's a piece of $...| 2015-08-31|Don't waste your ...|[don't, waste, yo...|[waste, time, mon...|\n",
            "+-----------+-----------+--------------+----------+--------------+--------------------+----------------+-----------+-------------+-----------+----+-----------------+--------------------+--------------------+-----------+--------------------+--------------------+--------------------+\n",
            "only showing top 20 rows\n",
            "\n"
          ],
          "name": "stdout"
        }
      ]
    },
    {
      "cell_type": "code",
      "metadata": {
        "colab": {
          "base_uri": "https://localhost:8080/"
        },
        "id": "eDPkduZHrwaN",
        "outputId": "f34bac4c-ec35-4b90-c128-81739865752d"
      },
      "source": [
        "#hashing dataframe\n",
        "hashed_df = hashing.transform(stopped)\n",
        "hashed_df.show()"
      ],
      "execution_count": 106,
      "outputs": [
        {
          "output_type": "stream",
          "text": [
            "+-----------+-----------+--------------+----------+--------------+--------------------+----------------+-----------+-------------+-----------+----+-----------------+--------------------+--------------------+-----------+--------------------+--------------------+--------------------+--------------------+\n",
            "|marketplace|customer_id|     review_id|product_id|product_parent|       product_title|product_category|star_rating|helpful_votes|total_votes|vine|verified_purchase|     review_headline|         review_body|review_date|              joined|             tokened|             stopped|              hashed|\n",
            "+-----------+-----------+--------------+----------+--------------+--------------------+----------------+-----------+-------------+-----------+----+-----------------+--------------------+--------------------+-----------+--------------------+--------------------+--------------------+--------------------+\n",
            "|         US|   15785389|R2UM5QMHBHC90Q|B00H5U9ZD6|     115362950|WallPeg 12 sq ft ...|           Tools|          5|            0|          0|   N|                Y|Great organizer, ...|Very nice. Will o...| 2015-08-31|Great organizer, ...|[great, organizer...|[great, organizer...|(16,[1,4,5,8,11,1...|\n",
            "|         US|   47910848|  RF0D1LEIF6L7|B001TJGCS0|     570955425|Nite Ize Nite Daw...|           Tools|          4|            0|          0|   N|                Y|Like it, but the ...|Like it, but the ...| 2015-08-31|Like it, but the ...|[like, it,, but, ...|[like, it,, batte...|(16,[0,1,2,3,4,5,...|\n",
            "|         US|   36328996|  RM6YKIWQVNSY|B000NIK8JW|     128843593|Stanley 84-058 4 ...|           Tools|          1|            6|          6|   N|                Y|        poor quality|We were excited t...| 2015-08-31|poor quality We w...|[poor, quality, w...|[poor, quality, e...|(16,[0,2,3,4,5,6,...|\n",
            "|         US|   51785809|R1RL3L68ASPS36|B008ZYRGUA|     407828107|Powerextra 14.4V ...|           Tools|          4|            0|          0|   N|                Y|          Four Stars|Quick delivery. P...| 2015-08-31|Four Stars Quick ...|[four, stars, qui...|[four, stars, qui...|(16,[2,8,9,11,12,...|\n",
            "|         US|   40757491|R1U4XFBFAG34CY|B00K5CA0GC|     490746675|Waterproof Invisi...|           Tools|          5|            0|          0|   N|                Y|          Five Stars|Quality waterproo...| 2015-08-31|Five Stars Qualit...|[five, stars, qua...|[five, stars, qua...|(16,[2,5,6,11,15]...|\n",
            "|         US|   35544833|R3KFIK8P0I91PL|B00AIJAA94|     148352067|Crime Scene Do No...|           Tools|          5|            0|          0|   N|                Y|Excellent Decorat...|Ordered for my hu...| 2015-08-31|Excellent Decorat...|[excellent, decor...|[excellent, decor...|(16,[1,4,9,10,11,...|\n",
            "|         US|   16474909| RENOAY76PPK1O|B00JKEI6K8|     331801084|Aweek® 2 Pcs Bicy...|           Tools|          5|            0|          0|   N|                Y|          Five Stars|GREAT SELLER PROD...| 2015-08-31|Five Stars GREAT ...|[five, stars, gre...|[five, stars, gre...|(16,[2,6,10,14,15...|\n",
            "|         US|   22601598| RINV884I0NL5V|B00AGCHVS6|     471514859|Ryobi P102 Genuin...|           Tools|          1|            0|          0|   N|                Y|Worked great for ...|My battery has di...| 2015-08-31|Worked great for ...|[worked, great, f...|[worked, great, 3...|(16,[3,4,9,10,11,...|\n",
            "|         US|   16129808| R5KJH6CXZH2PX|B002S0O7U4|     162253576|Wiha 66995 6-Piec...|           Tools|          5|            0|          0|   N|                Y|       Great quality|Great product at ...| 2015-08-31|Great quality Gre...|[great, quality, ...|[great, quality, ...|(16,[1,2,3,5,6,8,...|\n",
            "|         US|   24382335| RO69JF6QWD0W1|B0084YHXMW|      69530650|TOMTOP LED Submar...|           Tools|          5|            0|          0|   N|                Y|          Five Stars|           Excellent| 2015-08-31|Five Stars Excellent|[five, stars, exc...|[five, stars, exc...|(16,[2,6,9],[1.0,...|\n",
            "|         US|   49796324|R3L9NQBH3FI55C|B00MLSS1SW|     916693555|Black & Decker BD...|           Tools|          4|            1|          1|   N|                Y|Really worked great!|This little sande...| 2015-08-31|Really worked gre...|[really, worked, ...|[really, worked, ...|(16,[0,1,2,3,4,5,...|\n",
            "|         US|   33289687| R4YH95YPHVU0C|B00D4WLS2A|      39333316|Crain 126 Staple ...|           Tools|          5|            0|          0|   N|                Y|         LOVE IT!!!!|This is the most ...| 2015-08-31|LOVE IT!!!! This ...|[love, it!!!!, th...|[love, it!!!!, fa...|(16,[0,1,2,3,4,5,...|\n",
            "|         US|   10916386|R10M1WWDDQBGG2|B00JGCDV5Y|     550596607|Diamond Semi Roun...|           Tools|          2|            0|          0|   N|                Y|I needed to cut s...|I needed to cut s...| 2015-08-31|I needed to cut s...|[i, needed, to, c...|[needed, cut, cer...|(16,[0,1,2,3,4,6,...|\n",
            "|         US|   34071500| RV3KWQBTNIO62|B00N0PS3YM|     735538025|It Mall 9 LED 375...|           Tools|          5|            1|          1|   N|                Y|   Works pretty well|Lights up small d...| 2015-08-31|Works pretty well...|[works, pretty, w...|[works, pretty, w...|(16,[0,3,4,5,6,7,...|\n",
            "|         US|   50594486|R1M7YUNLZI0G9F|B0000DD4KV|     506501960|IRWIN Tools Metri...|           Tools|          5|            1|          1|   N|                Y|          Five Stars|Great product for...| 2015-08-31|Five Stars Great ...|[five, stars, gre...|[five, stars, gre...|(16,[1,2,5,6,8,10...|\n",
            "|         US|   21945887|R2MTL2D4E4HEF4|B0009H5FB8|     268586246|743022-A Backing ...|           Tools|          5|            0|          0|   N|                Y|          Five Stars|Many thanks for t...| 2015-08-31|Five Stars Many t...|[five, stars, man...|[five, stars, man...|(16,[2,4,6,9,14,1...|\n",
            "|         US|   47749608| RXAHWIC1584UQ|B00NKSMPZW|     824618679|ClearArmor 141001...|           Tools|          5|           20|         23|   N|                Y|          Five Stars|geart product :) ...| 2015-08-31|Five Stars geart ...|[five, stars, gea...|[five, stars, gea...|(16,[0,1,2,3,4,5,...|\n",
            "|         US|   48880662| RMOIQFERVQDWS|B00RBAB92K|     156791442|KKmoon 9cm Mini A...|           Tools|          5|            0|          0|   N|                Y|          Five Stars|           very good| 2015-08-31|Five Stars very good|[five, stars, ver...| [five, stars, good]|(16,[2,6,8],[1.0,...|\n",
            "|         US|    4660265| R710G45MKODY9|B00QGBNZVI|     962324810|Refun E6 High Pow...|           Tools|          2|            1|          1|   N|                Y|           Two Stars|Scratches on lenses.| 2015-08-31|Two Stars Scratch...|[two, stars, scra...|[two, stars, scra...|(16,[2,5,8,13],[1...|\n",
            "|         US|   18397238|R23ZIUGUM7TBMY|B00XXU3CDG|     543062309|Dr.meter S20 Mois...|           Tools|          1|            0|          1|   N|                Y|Don't waste your ...|It's a piece of $...| 2015-08-31|Don't waste your ...|[don't, waste, yo...|[waste, time, mon...|(16,[0,1,3,4,7,8,...|\n",
            "+-----------+-----------+--------------+----------+--------------+--------------------+----------------+-----------+-------------+-----------+----+-----------------+--------------------+--------------------+-----------+--------------------+--------------------+--------------------+--------------------+\n",
            "only showing top 20 rows\n",
            "\n"
          ],
          "name": "stdout"
        }
      ]
    },
    {
      "cell_type": "code",
      "metadata": {
        "colab": {
          "base_uri": "https://localhost:8080/"
        },
        "id": "gSDTrRbirwc1",
        "outputId": "14bf3d6d-b918-4311-f523-2a5f5dd4849a"
      },
      "source": [
        "# fit to IDF\n",
        "idfModel = IDF.fit(hashed_df)\n",
        "scaledData = idfModel.transform(hashed_df)\n",
        "scaledData.show()"
      ],
      "execution_count": 107,
      "outputs": [
        {
          "output_type": "stream",
          "text": [
            "+-----------+-----------+--------------+----------+--------------+--------------------+----------------+-----------+-------------+-----------+----+-----------------+--------------------+--------------------+-----------+--------------------+--------------------+--------------------+--------------------+--------------------+\n",
            "|marketplace|customer_id|     review_id|product_id|product_parent|       product_title|product_category|star_rating|helpful_votes|total_votes|vine|verified_purchase|     review_headline|         review_body|review_date|              joined|             tokened|             stopped|              hashed|                 idf|\n",
            "+-----------+-----------+--------------+----------+--------------+--------------------+----------------+-----------+-------------+-----------+----+-----------------+--------------------+--------------------+-----------+--------------------+--------------------+--------------------+--------------------+--------------------+\n",
            "|         US|   15785389|R2UM5QMHBHC90Q|B00H5U9ZD6|     115362950|WallPeg 12 sq ft ...|           Tools|          5|            0|          0|   N|                Y|Great organizer, ...|Very nice. Will o...| 2015-08-31|Great organizer, ...|[great, organizer...|[great, organizer...|(16,[1,4,5,8,11,1...|(16,[1,4,5,8,11,1...|\n",
            "|         US|   47910848|  RF0D1LEIF6L7|B001TJGCS0|     570955425|Nite Ize Nite Daw...|           Tools|          4|            0|          0|   N|                Y|Like it, but the ...|Like it, but the ...| 2015-08-31|Like it, but the ...|[like, it,, but, ...|[like, it,, batte...|(16,[0,1,2,3,4,5,...|(16,[0,1,2,3,4,5,...|\n",
            "|         US|   36328996|  RM6YKIWQVNSY|B000NIK8JW|     128843593|Stanley 84-058 4 ...|           Tools|          1|            6|          6|   N|                Y|        poor quality|We were excited t...| 2015-08-31|poor quality We w...|[poor, quality, w...|[poor, quality, e...|(16,[0,2,3,4,5,6,...|(16,[0,2,3,4,5,6,...|\n",
            "|         US|   51785809|R1RL3L68ASPS36|B008ZYRGUA|     407828107|Powerextra 14.4V ...|           Tools|          4|            0|          0|   N|                Y|          Four Stars|Quick delivery. P...| 2015-08-31|Four Stars Quick ...|[four, stars, qui...|[four, stars, qui...|(16,[2,8,9,11,12,...|(16,[2,8,9,11,12,...|\n",
            "|         US|   40757491|R1U4XFBFAG34CY|B00K5CA0GC|     490746675|Waterproof Invisi...|           Tools|          5|            0|          0|   N|                Y|          Five Stars|Quality waterproo...| 2015-08-31|Five Stars Qualit...|[five, stars, qua...|[five, stars, qua...|(16,[2,5,6,11,15]...|(16,[2,5,6,11,15]...|\n",
            "|         US|   35544833|R3KFIK8P0I91PL|B00AIJAA94|     148352067|Crime Scene Do No...|           Tools|          5|            0|          0|   N|                Y|Excellent Decorat...|Ordered for my hu...| 2015-08-31|Excellent Decorat...|[excellent, decor...|[excellent, decor...|(16,[1,4,9,10,11,...|(16,[1,4,9,10,11,...|\n",
            "|         US|   16474909| RENOAY76PPK1O|B00JKEI6K8|     331801084|Aweek® 2 Pcs Bicy...|           Tools|          5|            0|          0|   N|                Y|          Five Stars|GREAT SELLER PROD...| 2015-08-31|Five Stars GREAT ...|[five, stars, gre...|[five, stars, gre...|(16,[2,6,10,14,15...|(16,[2,6,10,14,15...|\n",
            "|         US|   22601598| RINV884I0NL5V|B00AGCHVS6|     471514859|Ryobi P102 Genuin...|           Tools|          1|            0|          0|   N|                Y|Worked great for ...|My battery has di...| 2015-08-31|Worked great for ...|[worked, great, f...|[worked, great, 3...|(16,[3,4,9,10,11,...|(16,[3,4,9,10,11,...|\n",
            "|         US|   16129808| R5KJH6CXZH2PX|B002S0O7U4|     162253576|Wiha 66995 6-Piec...|           Tools|          5|            0|          0|   N|                Y|       Great quality|Great product at ...| 2015-08-31|Great quality Gre...|[great, quality, ...|[great, quality, ...|(16,[1,2,3,5,6,8,...|(16,[1,2,3,5,6,8,...|\n",
            "|         US|   24382335| RO69JF6QWD0W1|B0084YHXMW|      69530650|TOMTOP LED Submar...|           Tools|          5|            0|          0|   N|                Y|          Five Stars|           Excellent| 2015-08-31|Five Stars Excellent|[five, stars, exc...|[five, stars, exc...|(16,[2,6,9],[1.0,...|(16,[2,6,9],[0.25...|\n",
            "|         US|   49796324|R3L9NQBH3FI55C|B00MLSS1SW|     916693555|Black & Decker BD...|           Tools|          4|            1|          1|   N|                Y|Really worked great!|This little sande...| 2015-08-31|Really worked gre...|[really, worked, ...|[really, worked, ...|(16,[0,1,2,3,4,5,...|(16,[0,1,2,3,4,5,...|\n",
            "|         US|   33289687| R4YH95YPHVU0C|B00D4WLS2A|      39333316|Crain 126 Staple ...|           Tools|          5|            0|          0|   N|                Y|         LOVE IT!!!!|This is the most ...| 2015-08-31|LOVE IT!!!! This ...|[love, it!!!!, th...|[love, it!!!!, fa...|(16,[0,1,2,3,4,5,...|(16,[0,1,2,3,4,5,...|\n",
            "|         US|   10916386|R10M1WWDDQBGG2|B00JGCDV5Y|     550596607|Diamond Semi Roun...|           Tools|          2|            0|          0|   N|                Y|I needed to cut s...|I needed to cut s...| 2015-08-31|I needed to cut s...|[i, needed, to, c...|[needed, cut, cer...|(16,[0,1,2,3,4,6,...|(16,[0,1,2,3,4,6,...|\n",
            "|         US|   34071500| RV3KWQBTNIO62|B00N0PS3YM|     735538025|It Mall 9 LED 375...|           Tools|          5|            1|          1|   N|                Y|   Works pretty well|Lights up small d...| 2015-08-31|Works pretty well...|[works, pretty, w...|[works, pretty, w...|(16,[0,3,4,5,6,7,...|(16,[0,3,4,5,6,7,...|\n",
            "|         US|   50594486|R1M7YUNLZI0G9F|B0000DD4KV|     506501960|IRWIN Tools Metri...|           Tools|          5|            1|          1|   N|                Y|          Five Stars|Great product for...| 2015-08-31|Five Stars Great ...|[five, stars, gre...|[five, stars, gre...|(16,[1,2,5,6,8,10...|(16,[1,2,5,6,8,10...|\n",
            "|         US|   21945887|R2MTL2D4E4HEF4|B0009H5FB8|     268586246|743022-A Backing ...|           Tools|          5|            0|          0|   N|                Y|          Five Stars|Many thanks for t...| 2015-08-31|Five Stars Many t...|[five, stars, man...|[five, stars, man...|(16,[2,4,6,9,14,1...|(16,[2,4,6,9,14,1...|\n",
            "|         US|   47749608| RXAHWIC1584UQ|B00NKSMPZW|     824618679|ClearArmor 141001...|           Tools|          5|           20|         23|   N|                Y|          Five Stars|geart product :) ...| 2015-08-31|Five Stars geart ...|[five, stars, gea...|[five, stars, gea...|(16,[0,1,2,3,4,5,...|(16,[0,1,2,3,4,5,...|\n",
            "|         US|   48880662| RMOIQFERVQDWS|B00RBAB92K|     156791442|KKmoon 9cm Mini A...|           Tools|          5|            0|          0|   N|                Y|          Five Stars|           very good| 2015-08-31|Five Stars very good|[five, stars, ver...| [five, stars, good]|(16,[2,6,8],[1.0,...|(16,[2,6,8],[0.25...|\n",
            "|         US|    4660265| R710G45MKODY9|B00QGBNZVI|     962324810|Refun E6 High Pow...|           Tools|          2|            1|          1|   N|                Y|           Two Stars|Scratches on lenses.| 2015-08-31|Two Stars Scratch...|[two, stars, scra...|[two, stars, scra...|(16,[2,5,8,13],[1...|(16,[2,5,8,13],[0...|\n",
            "|         US|   18397238|R23ZIUGUM7TBMY|B00XXU3CDG|     543062309|Dr.meter S20 Mois...|           Tools|          1|            0|          1|   N|                Y|Don't waste your ...|It's a piece of $...| 2015-08-31|Don't waste your ...|[don't, waste, yo...|[waste, time, mon...|(16,[0,1,3,4,7,8,...|(16,[0,1,3,4,7,8,...|\n",
            "+-----------+-----------+--------------+----------+--------------+--------------------+----------------+-----------+-------------+-----------+----+-----------------+--------------------+--------------------+-----------+--------------------+--------------------+--------------------+--------------------+--------------------+\n",
            "only showing top 20 rows\n",
            "\n"
          ],
          "name": "stdout"
        }
      ]
    },
    {
      "cell_type": "code",
      "metadata": {
        "colab": {
          "base_uri": "https://localhost:8080/"
        },
        "id": "4HDXvipqhjQ1",
        "outputId": "a1153f49-6b99-4070-b22e-82c9e86c4dff"
      },
      "source": [
        " #drop non-useful columns\n",
        "reviews = scaledData.drop('marketplace', 'customer_id', 'review_id', 'product_parent', 'product_title', 'product_category', \n",
        "                          'vine', 'verified_purchase', 'review_date', 'helpful_votes', 'total_votes')\n",
        "reviews.show()"
      ],
      "execution_count": 108,
      "outputs": [
        {
          "output_type": "stream",
          "text": [
            "+----------+-----------+--------------------+--------------------+--------------------+--------------------+--------------------+--------------------+--------------------+\n",
            "|product_id|star_rating|     review_headline|         review_body|              joined|             tokened|             stopped|              hashed|                 idf|\n",
            "+----------+-----------+--------------------+--------------------+--------------------+--------------------+--------------------+--------------------+--------------------+\n",
            "|B00H5U9ZD6|          5|Great organizer, ...|Very nice. Will o...|Great organizer, ...|[great, organizer...|[great, organizer...|(16,[1,4,5,8,11,1...|(16,[1,4,5,8,11,1...|\n",
            "|B001TJGCS0|          4|Like it, but the ...|Like it, but the ...|Like it, but the ...|[like, it,, but, ...|[like, it,, batte...|(16,[0,1,2,3,4,5,...|(16,[0,1,2,3,4,5,...|\n",
            "|B000NIK8JW|          1|        poor quality|We were excited t...|poor quality We w...|[poor, quality, w...|[poor, quality, e...|(16,[0,2,3,4,5,6,...|(16,[0,2,3,4,5,6,...|\n",
            "|B008ZYRGUA|          4|          Four Stars|Quick delivery. P...|Four Stars Quick ...|[four, stars, qui...|[four, stars, qui...|(16,[2,8,9,11,12,...|(16,[2,8,9,11,12,...|\n",
            "|B00K5CA0GC|          5|          Five Stars|Quality waterproo...|Five Stars Qualit...|[five, stars, qua...|[five, stars, qua...|(16,[2,5,6,11,15]...|(16,[2,5,6,11,15]...|\n",
            "|B00AIJAA94|          5|Excellent Decorat...|Ordered for my hu...|Excellent Decorat...|[excellent, decor...|[excellent, decor...|(16,[1,4,9,10,11,...|(16,[1,4,9,10,11,...|\n",
            "|B00JKEI6K8|          5|          Five Stars|GREAT SELLER PROD...|Five Stars GREAT ...|[five, stars, gre...|[five, stars, gre...|(16,[2,6,10,14,15...|(16,[2,6,10,14,15...|\n",
            "|B00AGCHVS6|          1|Worked great for ...|My battery has di...|Worked great for ...|[worked, great, f...|[worked, great, 3...|(16,[3,4,9,10,11,...|(16,[3,4,9,10,11,...|\n",
            "|B002S0O7U4|          5|       Great quality|Great product at ...|Great quality Gre...|[great, quality, ...|[great, quality, ...|(16,[1,2,3,5,6,8,...|(16,[1,2,3,5,6,8,...|\n",
            "|B0084YHXMW|          5|          Five Stars|           Excellent|Five Stars Excellent|[five, stars, exc...|[five, stars, exc...|(16,[2,6,9],[1.0,...|(16,[2,6,9],[0.25...|\n",
            "|B00MLSS1SW|          4|Really worked great!|This little sande...|Really worked gre...|[really, worked, ...|[really, worked, ...|(16,[0,1,2,3,4,5,...|(16,[0,1,2,3,4,5,...|\n",
            "|B00D4WLS2A|          5|         LOVE IT!!!!|This is the most ...|LOVE IT!!!! This ...|[love, it!!!!, th...|[love, it!!!!, fa...|(16,[0,1,2,3,4,5,...|(16,[0,1,2,3,4,5,...|\n",
            "|B00JGCDV5Y|          2|I needed to cut s...|I needed to cut s...|I needed to cut s...|[i, needed, to, c...|[needed, cut, cer...|(16,[0,1,2,3,4,6,...|(16,[0,1,2,3,4,6,...|\n",
            "|B00N0PS3YM|          5|   Works pretty well|Lights up small d...|Works pretty well...|[works, pretty, w...|[works, pretty, w...|(16,[0,3,4,5,6,7,...|(16,[0,3,4,5,6,7,...|\n",
            "|B0000DD4KV|          5|          Five Stars|Great product for...|Five Stars Great ...|[five, stars, gre...|[five, stars, gre...|(16,[1,2,5,6,8,10...|(16,[1,2,5,6,8,10...|\n",
            "|B0009H5FB8|          5|          Five Stars|Many thanks for t...|Five Stars Many t...|[five, stars, man...|[five, stars, man...|(16,[2,4,6,9,14,1...|(16,[2,4,6,9,14,1...|\n",
            "|B00NKSMPZW|          5|          Five Stars|geart product :) ...|Five Stars geart ...|[five, stars, gea...|[five, stars, gea...|(16,[0,1,2,3,4,5,...|(16,[0,1,2,3,4,5,...|\n",
            "|B00RBAB92K|          5|          Five Stars|           very good|Five Stars very good|[five, stars, ver...| [five, stars, good]|(16,[2,6,8],[1.0,...|(16,[2,6,8],[0.25...|\n",
            "|B00QGBNZVI|          2|           Two Stars|Scratches on lenses.|Two Stars Scratch...|[two, stars, scra...|[two, stars, scra...|(16,[2,5,8,13],[1...|(16,[2,5,8,13],[0...|\n",
            "|B00XXU3CDG|          1|Don't waste your ...|It's a piece of $...|Don't waste your ...|[don't, waste, yo...|[waste, time, mon...|(16,[0,1,3,4,7,8,...|(16,[0,1,3,4,7,8,...|\n",
            "+----------+-----------+--------------------+--------------------+--------------------+--------------------+--------------------+--------------------+--------------------+\n",
            "only showing top 20 rows\n",
            "\n"
          ],
          "name": "stdout"
        }
      ]
    },
    {
      "cell_type": "code",
      "metadata": {
        "colab": {
          "base_uri": "https://localhost:8080/"
        },
        "id": "Ag70PT4UwtJp",
        "outputId": "e8d24235-8981-459d-e141-e7de141ec790"
      },
      "source": [
        "# seeing if words are in dataframe and getting the count of the words\n",
        "# common words: https://bit.ly/3mGZWEu, \n",
        "from pyspark.sql.functions import col, udf\n",
        "from pyspark.sql.types import StringType, IntegerType, FloatType\n",
        "from pyspark.sql.functions import monotonically_increasing_id \n",
        "\n",
        "\n",
        "neg = [\"broken\", \"broke\", \"brake\", \"dead\", \"died\", \"busted\", \"cracked\", \"ruin\", \"ruined\", \"failure\", \"failed\", \"chipped\", \"unstable\", \"defective\", \"shotty\", \"bent\", \"stop\", \"stopped\", \t\t\n",
        "\t      \"poor\", \"poorly\", \"risk\", \"risky\", \"bias\", \"bad\", \"sucks\", \"cheap\", \"tiny\", \"pain\", \"junk\",\n",
        "\t      \"replace\", \"rid\", \"back\", \"return\", \"tossed\", \"waste\", \"wasted\", \"highly\", \"too\", \"only\",\n",
        "       \t\"difficult\", \"adverse\", \"lack\", \"unclear\", \"negative\", \"wrong\",\n",
        "       \t\"hazard\", \"harm\", \"error\", \"severe\", \"exclusion\", \"hard\", \"absence\", \"loss\", \"falls\",\n",
        "\t      \"terrible\", \"disappointed\", \"disapointing\", \"horrible\", \"horribly\", \"ridiculously\", \"ridiculous\", \"inaccurate\", \"useless\", \"complex\", \"limitation\", \"limited\", \"confusing\",\n",
        "\t      \"junk\", \"crap\", \"shit\", \"shitty\",\"sad\",\n",
        "\t      \"no\", \"not\", \"none\", \"nobody\", \"nothing\", \"neither\", \"nowhere\", \"never\", \"hardly\", \"scarcely\", \"barely\", \"doesn’t\", \"isn’t\", \"wasn’t\", \"shouldn’t\", \"wouldn’t\", \"couldn’t\", \n",
        "        \"won’t\", \"can’t\", \"don’t\", \"doesnt\", \"didn't\" ,\"isnt\", \"wasnt\", \"shouldnt\", \"wouldnt\", \"couldnt\", \"wont\", \"cant\", \"dont\", \"didnt\",\n",
        "        \"quit\", \"issue\", \"issues\", \"concerns\", \"concerned\", \"concern\", \"limitations\", \"problem\", \"problems\", \"hassle\", \"bother\"]\n",
        "\n",
        "def check(list):\n",
        "  counter = 0\n",
        "  for word in list:\n",
        "    if word in neg:\n",
        "      counter += 1\n",
        "  return counter\n",
        "\n",
        "def wordCount(list):\n",
        "  return len(list)\n",
        "\n",
        "def number(list):\n",
        "  return int(list)\n",
        "\n",
        "def ratio(list):\n",
        "  return float(list)\n",
        "\n",
        "pies = udf(lambda w : check (w), IntegerType())\n",
        "apples = udf(lambda t : wordCount (t), IntegerType())\n",
        "peach = udf(lambda e : number (e), IntegerType())\n",
        "pear = udf(lambda f : ratio (f), FloatType())\n",
        "zebra = reviews.withColumn('neg_count', pies(col('tokened')))\n",
        "zebra = zebra.select(\"*\").withColumn(\"id\", monotonically_increasing_id())\n",
        "zebra = zebra.select(\"*\").withColumn(\"total_word_count\", apples(col('tokened')))\n",
        "zebra = zebra.select(\"*\").withColumn(\"star_rating\", peach(col('star_rating')))\n",
        "zebra = zebra.select(\"*\").withColumn(\"ratio\", pear(col('neg_count')/col('total_word_count')))\n",
        "# zebra = zebra[zebra['total_word_count'] > 10]\n",
        "zebra.show()\n"
      ],
      "execution_count": 109,
      "outputs": [
        {
          "output_type": "stream",
          "text": [
            "+----------+-----------+--------------------+--------------------+--------------------+--------------------+--------------------+--------------------+--------------------+---------+---+----------------+-----------+\n",
            "|product_id|star_rating|     review_headline|         review_body|              joined|             tokened|             stopped|              hashed|                 idf|neg_count| id|total_word_count|      ratio|\n",
            "+----------+-----------+--------------------+--------------------+--------------------+--------------------+--------------------+--------------------+--------------------+---------+---+----------------+-----------+\n",
            "|B00H5U9ZD6|          5|Great organizer, ...|Very nice. Will o...|Great organizer, ...|[great, organizer...|[great, organizer...|(16,[1,4,5,8,11,1...|(16,[1,4,5,8,11,1...|        0|  0|              15|        0.0|\n",
            "|B001TJGCS0|          4|Like it, but the ...|Like it, but the ...|Like it, but the ...|[like, it,, but, ...|[like, it,, batte...|(16,[0,1,2,3,4,5,...|(16,[0,1,2,3,4,5,...|        0|  1|              40|        0.0|\n",
            "|B000NIK8JW|          1|        poor quality|We were excited t...|poor quality We w...|[poor, quality, w...|[poor, quality, e...|(16,[0,2,3,4,5,6,...|(16,[0,2,3,4,5,6,...|        5|  2|              63| 0.07936508|\n",
            "|B008ZYRGUA|          4|          Four Stars|Quick delivery. P...|Four Stars Quick ...|[four, stars, qui...|[four, stars, qui...|(16,[2,8,9,11,12,...|(16,[2,8,9,11,12,...|        0|  3|               8|        0.0|\n",
            "|B00K5CA0GC|          5|          Five Stars|Quality waterproo...|Five Stars Qualit...|[five, stars, qua...|[five, stars, qua...|(16,[2,5,6,11,15]...|(16,[2,5,6,11,15]...|        2|  4|               9| 0.22222222|\n",
            "|B00AIJAA94|          5|Excellent Decorat...|Ordered for my hu...|Excellent Decorat...|[excellent, decor...|[excellent, decor...|(16,[1,4,9,10,11,...|(16,[1,4,9,10,11,...|        0|  5|              34|        0.0|\n",
            "|B00JKEI6K8|          5|          Five Stars|GREAT SELLER PROD...|Five Stars GREAT ...|[five, stars, gre...|[five, stars, gre...|(16,[2,6,10,14,15...|(16,[2,6,10,14,15...|        0|  6|               7|        0.0|\n",
            "|B00AGCHVS6|          1|Worked great for ...|My battery has di...|Worked great for ...|[worked, great, f...|[worked, great, 3...|(16,[3,4,9,10,11,...|(16,[3,4,9,10,11,...|        2|  7|              24|0.083333336|\n",
            "|B002S0O7U4|          5|       Great quality|Great product at ...|Great quality Gre...|[great, quality, ...|[great, quality, ...|(16,[1,2,3,5,6,8,...|(16,[1,2,3,5,6,8,...|        0|  8|              45|        0.0|\n",
            "|B0084YHXMW|          5|          Five Stars|           Excellent|Five Stars Excellent|[five, stars, exc...|[five, stars, exc...|(16,[2,6,9],[1.0,...|(16,[2,6,9],[0.25...|        0|  9|               3|        0.0|\n",
            "|B00MLSS1SW|          4|Really worked great!|This little sande...|Really worked gre...|[really, worked, ...|[really, worked, ...|(16,[0,1,2,3,4,5,...|(16,[0,1,2,3,4,5,...|        1| 10|             112|0.008928572|\n",
            "|B00D4WLS2A|          5|         LOVE IT!!!!|This is the most ...|LOVE IT!!!! This ...|[love, it!!!!, th...|[love, it!!!!, fa...|(16,[0,1,2,3,4,5,...|(16,[0,1,2,3,4,5,...|        2| 11|              79|0.025316456|\n",
            "|B00JGCDV5Y|          2|I needed to cut s...|I needed to cut s...|I needed to cut s...|[i, needed, to, c...|[needed, cut, cer...|(16,[0,1,2,3,4,6,...|(16,[0,1,2,3,4,6,...|        1| 12|              52| 0.01923077|\n",
            "|B00N0PS3YM|          5|   Works pretty well|Lights up small d...|Works pretty well...|[works, pretty, w...|[works, pretty, w...|(16,[0,3,4,5,6,7,...|(16,[0,3,4,5,6,7,...|        1| 13|              48|0.020833334|\n",
            "|B0000DD4KV|          5|          Five Stars|Great product for...|Five Stars Great ...|[five, stars, gre...|[five, stars, gre...|(16,[1,2,5,6,8,10...|(16,[1,2,5,6,8,10...|        0| 14|              17|        0.0|\n",
            "|B0009H5FB8|          5|          Five Stars|Many thanks for t...|Five Stars Many t...|[five, stars, man...|[five, stars, man...|(16,[2,4,6,9,14,1...|(16,[2,4,6,9,14,1...|        0| 15|              11|        0.0|\n",
            "|B00NKSMPZW|          5|          Five Stars|geart product :) ...|Five Stars geart ...|[five, stars, gea...|[five, stars, gea...|(16,[0,1,2,3,4,5,...|(16,[0,1,2,3,4,5,...|       11| 16|             410|0.026829269|\n",
            "|B00RBAB92K|          5|          Five Stars|           very good|Five Stars very good|[five, stars, ver...| [five, stars, good]|(16,[2,6,8],[1.0,...|(16,[2,6,8],[0.25...|        0| 17|               4|        0.0|\n",
            "|B00QGBNZVI|          2|           Two Stars|Scratches on lenses.|Two Stars Scratch...|[two, stars, scra...|[two, stars, scra...|(16,[2,5,8,13],[1...|(16,[2,5,8,13],[0...|        0| 18|               5|        0.0|\n",
            "|B00XXU3CDG|          1|Don't waste your ...|It's a piece of $...|Don't waste your ...|[don't, waste, yo...|[waste, time, mon...|(16,[0,1,3,4,7,8,...|(16,[0,1,3,4,7,8,...|        3| 19|              47| 0.06382979|\n",
            "+----------+-----------+--------------------+--------------------+--------------------+--------------------+--------------------+--------------------+--------------------+---------+---+----------------+-----------+\n",
            "only showing top 20 rows\n",
            "\n"
          ],
          "name": "stdout"
        }
      ]
    },
    {
      "cell_type": "code",
      "metadata": {
        "colab": {
          "base_uri": "https://localhost:8080/"
        },
        "id": "6eE1WH_qP73_",
        "outputId": "1b6fce45-5320-4593-ea9a-3f3b45e4e7a6"
      },
      "source": [
        "# smaller dataframe to work with\n",
        "(panda, fish) = zebra.randomSplit([0.2, 0.8])\n",
        "panda.show()"
      ],
      "execution_count": 110,
      "outputs": [
        {
          "output_type": "stream",
          "text": [
            "+----------+-----------+--------------------+--------------------+--------------------+--------------------+--------------------+--------------------+--------------------+---------+------+----------------+-----------+\n",
            "|product_id|star_rating|     review_headline|         review_body|              joined|             tokened|             stopped|              hashed|                 idf|neg_count|    id|total_word_count|      ratio|\n",
            "+----------+-----------+--------------------+--------------------+--------------------+--------------------+--------------------+--------------------+--------------------+---------+------+----------------+-----------+\n",
            "|1465799796|          5|          Five Stars|                Nice|     Five Stars Nice| [five, stars, nice]| [five, stars, nice]|(16,[2,6,10],[1.0...|(16,[2,6,10],[0.2...|        0|370006|               3|        0.0|\n",
            "|1558706879|          3|         Three Stars|Good information ...|Three Stars Good ...|[three, stars, go...|[three, stars, go...|(16,[2,5,8,12,14]...|(16,[2,5,8,12,14]...|        1|379319|               8|      0.125|\n",
            "|1558706879|          4|Very Good but the...|I have to agree w...|Very Good but the...|[very, good, but,...|[good, 80's, call...|(16,[0,1,2,3,4,5,...|(16,[0,1,2,3,4,5,...|        0|197974|              90|        0.0|\n",
            "|1558706879|          5|A lot of nice pro...|A lot of nice pro...|A lot of nice pro...|[a, lot, of, nice...|[lot, nice, proje...|(16,[0,2,5,6,8,10...|(16,[0,2,5,6,8,10...|        0|260212|              31|        0.0|\n",
            "|1558706879|          5|          Five Stars|Good book for bot...|Five Stars Good b...|[five, stars, goo...|[five, stars, goo...|(16,[0,2,6,8,9,13...|(16,[0,2,6,8,9,13...|        0|260277|              13|        0.0|\n",
            "|1593576250|          5|    Wonderful stuff.|Wonderful. Came v...|Wonderful stuff. ...|[wonderful, stuff...|[wonderful, stuff...|(16,[0,1,2,4,5,7,...|(16,[0,1,2,4,5,7,...|        2| 59359|              70|0.028571429|\n",
            "|2345689536|          1|            One Star|I think it doesn'...|One Star I think ...|[one, star, i, th...|[one, star, think...|(16,[2,8,15],[1.0...|(16,[2,8,15],[0.2...|        0|162201|               7|        0.0|\n",
            "|3256986404|          3|         Three Stars|Control my damage...|Three Stars Contr...|[three, stars, co...|[three, stars, co...|(16,[0,2,3,5,8,12...|(16,[0,2,3,5,8,12...|        0|223417|              10|        0.0|\n",
            "|3597125824|          4|          Four Stars|This Ayurveda med...|Four Stars This A...|[four, stars, thi...|[four, stars, ayu...|(16,[2,4,5,9,11,1...|(16,[2,4,5,9,11,1...|        0|107037|              10|        0.0|\n",
            "|3979050475|          5|           Very nice|Beautiful color<b...|Very nice Beautif...|[very, nice, beau...|[nice, beautiful,...|(16,[0,5,7,9,10,1...|(16,[0,5,7,9,10,1...|        0|274706|              18|        0.0|\n",
            "|3979050475|          5|but did get regul...|Never got necklas...|but did get regul...|[but, did, get, r...|[get, regular, ro...|(16,[0,1,2,5,9,10...|(16,[0,1,2,5,9,10...|        1| 33618|              19| 0.05263158|\n",
            "|3979051161|          5|          Five Stars|        Perfect!!!!!|Five Stars Perfec...|[five, stars, per...|[five, stars, per...|(16,[0,2,6],[1.0,...|(16,[0,2,6],[0.44...|        0|254297|               3|        0.0|\n",
            "|3979051161|          5|Good quality. Bou...|Good quality.  Bo...|Good quality. Bou...|[good, quality., ...|[good, quality., ...|(16,[1,2,4,6,7,8,...|(16,[1,2,4,6,7,8,...|        0|132874|              34|        0.0|\n",
            "|4521327192|          2|               Stink|Not happy with th...|Stink Not happy w...|[stink, not, happ...|[stink, happy, sm...|(16,[3,13,14],[1....|(16,[3,13,14],[0....|        1|162907|               6| 0.16666667|\n",
            "|4521327591|          5|          Five Stars|It's wonderful 1a...|Five Stars It's w...|[five, stars, it'...|[five, stars, won...|(16,[1,2,6,7,9,10...|(16,[1,2,6,7,9,10...|        0|162999|              12|        0.0|\n",
            "|4561238581|          5|          Five Stars|            excelent| Five Stars excelent|[five, stars, exc...|[five, stars, exc...|(16,[2,3,6],[1.0,...|(16,[2,3,6],[0.25...|        0| 75468|               3|        0.0|\n",
            "|4962378333|          1|            One Star|Product delivered...|One Star Product ...|[one, star, produ...|[one, star, produ...|(16,[1,2,6,7,11,1...|(16,[1,2,6,7,11,1...|        0|144819|              10|        0.0|\n",
            "|7501165181|          5| a good piece, grand|that´s ok, a good...|a good piece, gra...|[a, good, piece,,...|[good, piece,, gr...|(16,[5,6,8,9,14],...|(16,[5,6,8,9,14],...|        0| 54736|              11|        0.0|\n",
            "|758426008X|          5|          Five Stars|       good product.|Five Stars good p...|[five, stars, goo...|[five, stars, goo...|(16,[2,6,8,14],[1...|(16,[2,6,8,14],[0...|        0|343358|               4|        0.0|\n",
            "|7750005757|          4|          Four Stars|This was charming...|Four Stars This w...|[four, stars, thi...|[four, stars, cha...|(16,[0,2,6,8,10,1...|(16,[0,2,6,8,10,1...|        1|309117|              15| 0.06666667|\n",
            "+----------+-----------+--------------------+--------------------+--------------------+--------------------+--------------------+--------------------+--------------------+---------+------+----------------+-----------+\n",
            "only showing top 20 rows\n",
            "\n"
          ],
          "name": "stdout"
        }
      ]
    },
    {
      "cell_type": "code",
      "metadata": {
        "colab": {
          "base_uri": "https://localhost:8080/"
        },
        "id": "a_seH_aIWZZx",
        "outputId": "75f0a7c7-8e35-45ed-d3f4-83f9f4e94bbc"
      },
      "source": [
        "dogs = zebra.filter((zebra.id > 0) & (zebra.id < 2402212))\n",
        "dogs.show()"
      ],
      "execution_count": 111,
      "outputs": [
        {
          "output_type": "stream",
          "text": [
            "+----------+-----------+--------------------+--------------------+--------------------+--------------------+--------------------+--------------------+--------------------+---------+---+----------------+-----------+\n",
            "|product_id|star_rating|     review_headline|         review_body|              joined|             tokened|             stopped|              hashed|                 idf|neg_count| id|total_word_count|      ratio|\n",
            "+----------+-----------+--------------------+--------------------+--------------------+--------------------+--------------------+--------------------+--------------------+---------+---+----------------+-----------+\n",
            "|B001TJGCS0|          4|Like it, but the ...|Like it, but the ...|Like it, but the ...|[like, it,, but, ...|[like, it,, batte...|(16,[0,1,2,3,4,5,...|(16,[0,1,2,3,4,5,...|        0|  1|              40|        0.0|\n",
            "|B000NIK8JW|          1|        poor quality|We were excited t...|poor quality We w...|[poor, quality, w...|[poor, quality, e...|(16,[0,2,3,4,5,6,...|(16,[0,2,3,4,5,6,...|        5|  2|              63| 0.07936508|\n",
            "|B008ZYRGUA|          4|          Four Stars|Quick delivery. P...|Four Stars Quick ...|[four, stars, qui...|[four, stars, qui...|(16,[2,8,9,11,12,...|(16,[2,8,9,11,12,...|        0|  3|               8|        0.0|\n",
            "|B00K5CA0GC|          5|          Five Stars|Quality waterproo...|Five Stars Qualit...|[five, stars, qua...|[five, stars, qua...|(16,[2,5,6,11,15]...|(16,[2,5,6,11,15]...|        2|  4|               9| 0.22222222|\n",
            "|B00AIJAA94|          5|Excellent Decorat...|Ordered for my hu...|Excellent Decorat...|[excellent, decor...|[excellent, decor...|(16,[1,4,9,10,11,...|(16,[1,4,9,10,11,...|        0|  5|              34|        0.0|\n",
            "|B00JKEI6K8|          5|          Five Stars|GREAT SELLER PROD...|Five Stars GREAT ...|[five, stars, gre...|[five, stars, gre...|(16,[2,6,10,14,15...|(16,[2,6,10,14,15...|        0|  6|               7|        0.0|\n",
            "|B00AGCHVS6|          1|Worked great for ...|My battery has di...|Worked great for ...|[worked, great, f...|[worked, great, 3...|(16,[3,4,9,10,11,...|(16,[3,4,9,10,11,...|        2|  7|              24|0.083333336|\n",
            "|B002S0O7U4|          5|       Great quality|Great product at ...|Great quality Gre...|[great, quality, ...|[great, quality, ...|(16,[1,2,3,5,6,8,...|(16,[1,2,3,5,6,8,...|        0|  8|              45|        0.0|\n",
            "|B0084YHXMW|          5|          Five Stars|           Excellent|Five Stars Excellent|[five, stars, exc...|[five, stars, exc...|(16,[2,6,9],[1.0,...|(16,[2,6,9],[0.25...|        0|  9|               3|        0.0|\n",
            "|B00MLSS1SW|          4|Really worked great!|This little sande...|Really worked gre...|[really, worked, ...|[really, worked, ...|(16,[0,1,2,3,4,5,...|(16,[0,1,2,3,4,5,...|        1| 10|             112|0.008928572|\n",
            "|B00D4WLS2A|          5|         LOVE IT!!!!|This is the most ...|LOVE IT!!!! This ...|[love, it!!!!, th...|[love, it!!!!, fa...|(16,[0,1,2,3,4,5,...|(16,[0,1,2,3,4,5,...|        2| 11|              79|0.025316456|\n",
            "|B00JGCDV5Y|          2|I needed to cut s...|I needed to cut s...|I needed to cut s...|[i, needed, to, c...|[needed, cut, cer...|(16,[0,1,2,3,4,6,...|(16,[0,1,2,3,4,6,...|        1| 12|              52| 0.01923077|\n",
            "|B00N0PS3YM|          5|   Works pretty well|Lights up small d...|Works pretty well...|[works, pretty, w...|[works, pretty, w...|(16,[0,3,4,5,6,7,...|(16,[0,3,4,5,6,7,...|        1| 13|              48|0.020833334|\n",
            "|B0000DD4KV|          5|          Five Stars|Great product for...|Five Stars Great ...|[five, stars, gre...|[five, stars, gre...|(16,[1,2,5,6,8,10...|(16,[1,2,5,6,8,10...|        0| 14|              17|        0.0|\n",
            "|B0009H5FB8|          5|          Five Stars|Many thanks for t...|Five Stars Many t...|[five, stars, man...|[five, stars, man...|(16,[2,4,6,9,14,1...|(16,[2,4,6,9,14,1...|        0| 15|              11|        0.0|\n",
            "|B00NKSMPZW|          5|          Five Stars|geart product :) ...|Five Stars geart ...|[five, stars, gea...|[five, stars, gea...|(16,[0,1,2,3,4,5,...|(16,[0,1,2,3,4,5,...|       11| 16|             410|0.026829269|\n",
            "|B00RBAB92K|          5|          Five Stars|           very good|Five Stars very good|[five, stars, ver...| [five, stars, good]|(16,[2,6,8],[1.0,...|(16,[2,6,8],[0.25...|        0| 17|               4|        0.0|\n",
            "|B00QGBNZVI|          2|           Two Stars|Scratches on lenses.|Two Stars Scratch...|[two, stars, scra...|[two, stars, scra...|(16,[2,5,8,13],[1...|(16,[2,5,8,13],[0...|        0| 18|               5|        0.0|\n",
            "|B00XXU3CDG|          1|Don't waste your ...|It's a piece of $...|Don't waste your ...|[don't, waste, yo...|[waste, time, mon...|(16,[0,1,3,4,7,8,...|(16,[0,1,3,4,7,8,...|        3| 19|              47| 0.06382979|\n",
            "|B006M9NIDO|          5|          Five Stars|it works great, a...|Five Stars it wor...|[five, stars, it,...|[five, stars, wor...|(16,[0,2,6,9,13],...|(16,[0,2,6,9,13],...|        0| 20|              12|        0.0|\n",
            "+----------+-----------+--------------------+--------------------+--------------------+--------------------+--------------------+--------------------+--------------------+---------+---+----------------+-----------+\n",
            "only showing top 20 rows\n",
            "\n"
          ],
          "name": "stdout"
        }
      ]
    },
    {
      "cell_type": "code",
      "metadata": {
        "colab": {
          "base_uri": "https://localhost:8080/"
        },
        "id": "BmuwSDJPihwv",
        "outputId": "66c6f745-5e85-4c57-a429-65a65c574222"
      },
      "source": [
        "features = dogs.drop(\"product_id\", \"star_rating\", \"review_headline\", \"review_body\", \"joined\", \"tokened\", \"stopped\", \"hashed\", \"id\", \"total_word_count\")\n",
        "features.show()"
      ],
      "execution_count": 112,
      "outputs": [
        {
          "output_type": "stream",
          "text": [
            "+--------------------+---------+-----------+\n",
            "|                 idf|neg_count|      ratio|\n",
            "+--------------------+---------+-----------+\n",
            "|(16,[0,1,2,3,4,5,...|        0|        0.0|\n",
            "|(16,[0,2,3,4,5,6,...|        5| 0.07936508|\n",
            "|(16,[2,8,9,11,12,...|        0|        0.0|\n",
            "|(16,[2,5,6,11,15]...|        2| 0.22222222|\n",
            "|(16,[1,4,9,10,11,...|        0|        0.0|\n",
            "|(16,[2,6,10,14,15...|        0|        0.0|\n",
            "|(16,[3,4,9,10,11,...|        2|0.083333336|\n",
            "|(16,[1,2,3,5,6,8,...|        0|        0.0|\n",
            "|(16,[2,6,9],[0.25...|        0|        0.0|\n",
            "|(16,[0,1,2,3,4,5,...|        1|0.008928572|\n",
            "|(16,[0,1,2,3,4,5,...|        2|0.025316456|\n",
            "|(16,[0,1,2,3,4,6,...|        1| 0.01923077|\n",
            "|(16,[0,3,4,5,6,7,...|        1|0.020833334|\n",
            "|(16,[1,2,5,6,8,10...|        0|        0.0|\n",
            "|(16,[2,4,6,9,14,1...|        0|        0.0|\n",
            "|(16,[0,1,2,3,4,5,...|       11|0.026829269|\n",
            "|(16,[2,6,8],[0.25...|        0|        0.0|\n",
            "|(16,[2,5,8,13],[0...|        0|        0.0|\n",
            "|(16,[0,1,3,4,7,8,...|        3| 0.06382979|\n",
            "|(16,[0,2,6,9,13],...|        0|        0.0|\n",
            "+--------------------+---------+-----------+\n",
            "only showing top 20 rows\n",
            "\n"
          ],
          "name": "stdout"
        }
      ]
    },
    {
      "cell_type": "code",
      "metadata": {
        "id": "Tfea1KUuiYcA"
      },
      "source": [
        "from pyspark.ml.feature import VectorAssembler\n",
        "assembler = VectorAssembler(\n",
        "    inputCols=features.columns,\n",
        "    outputCol=\"features\")"
      ],
      "execution_count": 113,
      "outputs": []
    },
    {
      "cell_type": "code",
      "metadata": {
        "id": "TS_OmpPrjV2k"
      },
      "source": [
        "output = assembler.transform(dogs).select('features','star_rating')"
      ],
      "execution_count": 114,
      "outputs": []
    },
    {
      "cell_type": "code",
      "metadata": {
        "id": "qMcsZPm5jz7z"
      },
      "source": [
        "train,test = output.randomSplit([0.75, 0.25])"
      ],
      "execution_count": 115,
      "outputs": []
    },
    {
      "cell_type": "code",
      "metadata": {
        "colab": {
          "base_uri": "https://localhost:8080/"
        },
        "id": "fb6Yso8d4iK5",
        "outputId": "2b552218-e01f-46f8-ea7b-66c24b129461"
      },
      "source": [
        "from pyspark.ml.regression import LinearRegression\n",
        "\n",
        "model = LinearRegression(featuresCol='features', labelCol=\"star_rating\")\n",
        "print(type(dogs))\n",
        "fitted_model = model.fit(train)\n",
        "print(\"Coefficients: \" + str(fitted_model.coefficients))\n",
        "print(\"Intercept: \" + str(fitted_model.intercept))"
      ],
      "execution_count": 116,
      "outputs": [
        {
          "output_type": "stream",
          "text": [
            "<class 'pyspark.sql.dataframe.DataFrame'>\n",
            "Coefficients: [0.03685108154288445,0.005114004254973178,-0.07333202036725471,-0.025950579383392947,-0.024599279904208775,-0.012119280459400398,0.3119783243155745,-0.03238387394217759,0.005518397913141447,0.08175388678215546,0.007611977250839422,-0.032676691015895085,-0.028833536546359388,0.03175076032587236,0.12254786658636228,-0.04308657321893361,-0.22503410099908144,-7.3842334905419]\n",
            "Intercept: 4.511313858472438\n"
          ],
          "name": "stdout"
        }
      ]
    },
    {
      "cell_type": "code",
      "metadata": {
        "colab": {
          "base_uri": "https://localhost:8080/"
        },
        "id": "cthRlDv5q6gb",
        "outputId": "800dd0a0-b110-4c65-815a-58136c229bbe"
      },
      "source": [
        "trainSummary = fitted_model.summary\n",
        "print(\"RMSE: %f\" % trainSummary.rootMeanSquaredError)\n",
        "print(\"\\nr2: %f\" % trainSummary.r2)"
      ],
      "execution_count": 117,
      "outputs": [
        {
          "output_type": "stream",
          "text": [
            "RMSE: 1.039355\n",
            "\n",
            "r2: 0.230523\n"
          ],
          "name": "stdout"
        }
      ]
    },
    {
      "cell_type": "code",
      "metadata": {
        "colab": {
          "base_uri": "https://localhost:8080/"
        },
        "id": "wXs5P1EGZeNl",
        "outputId": "850699ae-4a8f-42ca-b672-c0cd45de3973"
      },
      "source": [
        "from pyspark.sql.functions import abs\n",
        "predictions = fitted_model.transform(test)\n",
        "x = ((predictions['star_rating']- predictions['prediction'])/predictions['star_rating'])*100\n",
        "predictions = predictions.withColumn('Accuracy', abs(x))\n",
        "predictions.select(\"prediction\",\"star_rating\",\"Accuracy\",\"features\").show()"
      ],
      "execution_count": 118,
      "outputs": [
        {
          "output_type": "stream",
          "text": [
            "+------------------+-----------+------------------+--------------------+\n",
            "|        prediction|star_rating|          Accuracy|            features|\n",
            "+------------------+-----------+------------------+--------------------+\n",
            "| 4.543743224882037|          1| 354.3743224882037|(18,[0],[0.880011...|\n",
            "| 4.543743224882037|          4|13.593580622050915|(18,[0],[0.880011...|\n",
            "| 4.543743224882037|          5| 9.125135502359267|(18,[0],[0.880011...|\n",
            "| 4.543743224882037|          5| 9.125135502359267|(18,[0],[0.880011...|\n",
            "| 4.543743224882037|          5| 9.125135502359267|(18,[0],[0.880011...|\n",
            "| 4.543743224882037|          5| 9.125135502359267|(18,[0],[0.880011...|\n",
            "| 4.576172591291636|          4|14.404314782290895|(18,[0],[1.760022...|\n",
            "| 4.576172591291636|          5| 8.476548174167284|(18,[0],[1.760022...|\n",
            "|4.5300574864607395|          4|13.251437161518487|(18,[0,1],[0.4400...|\n",
            "| 4.532586431244241|          5| 9.348271375115171|(18,[0,1],[0.4400...|\n",
            "| 4.532586431244241|          5| 9.348271375115171|(18,[0,1],[0.4400...|\n",
            "| 4.548801114449041|          5| 9.023977711019189|(18,[0,1],[0.8800...|\n",
            "| 4.548801114449041|          5| 9.023977711019189|(18,[0,1],[0.8800...|\n",
            "|4.5275874372162725|          5| 9.448251255674549|(18,[0,1,2],[0.88...|\n",
            "| 4.511431649550508|          5| 9.771367008989849|(18,[0,1,2],[0.88...|\n",
            "|4.5608424572539406|          3|52.028081908464685|(18,[0,1,2,3,4,5,...|\n",
            "| 4.639182077382447|          4|15.979551934561176|(18,[0,1,2,3,4,5,...|\n",
            "| 4.507651951006756|          3| 50.25506503355853|(18,[0,1,2,3,4,5,...|\n",
            "| 4.547341918015225|          5|   9.0531616396955|(18,[0,1,2,3,4,5,...|\n",
            "| 4.572248333896771|          5| 8.555033322064585|(18,[0,1,2,3,4,5,...|\n",
            "+------------------+-----------+------------------+--------------------+\n",
            "only showing top 20 rows\n",
            "\n"
          ],
          "name": "stdout"
        }
      ]
    },
    {
      "cell_type": "code",
      "metadata": {
        "colab": {
          "base_uri": "https://localhost:8080/"
        },
        "id": "T1uLHqHzqOzF",
        "outputId": "6a94b896-d389-452a-f91e-e6931b549e91"
      },
      "source": [
        "#r square for test dataset\n",
        "from pyspark.ml.evaluation import RegressionEvaluator\n",
        "pred_evaluator = RegressionEvaluator(predictionCol=\"prediction\", \\\n",
        "                 labelCol=\"star_rating\",metricName=\"r2\")\n",
        "print(\"R Squared (R2) on test data = %g\" % pred_evaluator.evaluate(predictions))"
      ],
      "execution_count": 119,
      "outputs": [
        {
          "output_type": "stream",
          "text": [
            "R Squared (R2) on test data = 0.230075\n"
          ],
          "name": "stdout"
        }
      ]
    },
    {
      "cell_type": "code",
      "metadata": {
        "colab": {
          "base_uri": "https://localhost:8080/"
        },
        "id": "Rec18Wjb0FGP",
        "outputId": "3ab0c697-36b6-426c-c810-c2cf69408f50"
      },
      "source": [
        "#adjusted r2\n",
        "r2 = trainSummary.r2\n",
        "n = dogs.count()\n",
        "p = len(dogs.columns)\n",
        "adjusted_r2 = 1-(1-r2)*(n-1)/(n-p-1)\n",
        "adjusted_r2"
      ],
      "execution_count": 120,
      "outputs": [
        {
          "output_type": "execute_result",
          "data": {
            "text/plain": [
              "0.23049800803450637"
            ]
          },
          "metadata": {
            "tags": []
          },
          "execution_count": 120
        }
      ]
    },
    {
      "cell_type": "code",
      "metadata": {
        "id": "ow-QGLB51CtE"
      },
      "source": [
        "lin_reg = LinearRegression(featuresCol = 'features', labelCol='star_rating',maxIter=50, regParam=0.12, elasticNetParam=0.2)\n",
        "linear_model = lin_reg.fit(train)\n",
        "linear_model"
      ],
      "execution_count": null,
      "outputs": []
    }
  ]
}