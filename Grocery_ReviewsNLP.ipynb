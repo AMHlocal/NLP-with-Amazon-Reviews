{
  "nbformat": 4,
  "nbformat_minor": 0,
  "metadata": {
    "colab": {
      "name": "Grocery ReviewsNLP.ipynb",
      "provenance": [],
      "collapsed_sections": [],
      "authorship_tag": "ABX9TyNrRar401TWWxOmakOt8SaN",
      "include_colab_link": true
    },
    "kernelspec": {
      "name": "python3",
      "display_name": "Python 3"
    }
  },
  "cells": [
    {
      "cell_type": "markdown",
      "metadata": {
        "id": "view-in-github",
        "colab_type": "text"
      },
      "source": [
        "<a href=\"https://colab.research.google.com/github/AMHlocal/final-project/blob/austin_branch/Grocery_ReviewsNLP.ipynb\" target=\"_parent\"><img src=\"https://colab.research.google.com/assets/colab-badge.svg\" alt=\"Open In Colab\"/></a>"
      ]
    },
    {
      "cell_type": "code",
      "metadata": {
        "colab": {
          "base_uri": "https://localhost:8080/"
        },
        "id": "IuAQbm1bWxP4",
        "outputId": "de8115a2-6fb7-4518-ec9c-f53667696865"
      },
      "source": [
        "import os\n",
        "#latest version of spark 3.0 from http://www-us.apache.org/dist/spark/ and enter as the spark version\n",
        "spark_version = 'spark-3.0.1'\n",
        "os.environ['SPARK_VERSION']=spark_version\n",
        "\n",
        "#Install spark and Java\n",
        "!apt-get update\n",
        "!apt-get install openjdk-11-jdk-headless -qq > /dev/null\n",
        "!wget -q http://www-us.apache.org/dist/spark/$SPARK_VERSION/$SPARK_VERSION-bin-hadoop2.7.tgz\n",
        "!tar xf $SPARK_VERSION-bin-hadoop2.7.tgz\n",
        "!pip install -q findspark\n",
        "\n",
        "#Set Environment Variables\n",
        "os.environ[\"JAVA_HOME\"] = \"/usr/lib/jvm/java-11-openjdk-amd64\"\n",
        "os.environ[\"SPARK_HOME\"] = f\"/content/{spark_version}-bin-hadoop2.7\"\n",
        "\n",
        "# Start a SparkSession\n",
        "import findspark\n",
        "findspark.init()"
      ],
      "execution_count": null,
      "outputs": [
        {
          "output_type": "stream",
          "text": [
            "Get:1 http://security.ubuntu.com/ubuntu bionic-security InRelease [88.7 kB]\n",
            "Ign:2 https://developer.download.nvidia.com/compute/cuda/repos/ubuntu1804/x86_64  InRelease\n",
            "Get:3 https://cloud.r-project.org/bin/linux/ubuntu bionic-cran40/ InRelease [3,626 B]\n",
            "Get:4 http://ppa.launchpad.net/c2d4u.team/c2d4u4.0+/ubuntu bionic InRelease [15.9 kB]\n",
            "Ign:5 https://developer.download.nvidia.com/compute/machine-learning/repos/ubuntu1804/x86_64  InRelease\n",
            "Hit:6 https://developer.download.nvidia.com/compute/cuda/repos/ubuntu1804/x86_64  Release\n",
            "Hit:7 https://developer.download.nvidia.com/compute/machine-learning/repos/ubuntu1804/x86_64  Release\n",
            "Hit:8 http://archive.ubuntu.com/ubuntu bionic InRelease\n",
            "Get:9 http://archive.ubuntu.com/ubuntu bionic-updates InRelease [88.7 kB]\n",
            "Get:10 http://ppa.launchpad.net/graphics-drivers/ppa/ubuntu bionic InRelease [21.3 kB]\n",
            "Get:11 http://archive.ubuntu.com/ubuntu bionic-backports InRelease [74.6 kB]\n",
            "Get:12 http://security.ubuntu.com/ubuntu bionic-security/universe amd64 Packages [1,370 kB]\n",
            "Get:15 http://ppa.launchpad.net/c2d4u.team/c2d4u4.0+/ubuntu bionic/main Sources [1,696 kB]\n",
            "Get:16 http://archive.ubuntu.com/ubuntu bionic-updates/universe amd64 Packages [2,134 kB]\n",
            "Get:17 http://archive.ubuntu.com/ubuntu bionic-updates/main amd64 Packages [2,243 kB]\n",
            "Get:18 http://ppa.launchpad.net/c2d4u.team/c2d4u4.0+/ubuntu bionic/main amd64 Packages [868 kB]\n",
            "Get:19 http://ppa.launchpad.net/graphics-drivers/ppa/ubuntu bionic/main amd64 Packages [46.5 kB]\n",
            "Fetched 8,650 kB in 3s (2,558 kB/s)\n",
            "Reading package lists... Done\n"
          ],
          "name": "stdout"
        }
      ]
    },
    {
      "cell_type": "code",
      "metadata": {
        "id": "vjTKROG9enQj"
      },
      "source": [
        "#Start Spark session\n",
        "from pyspark.sql import SparkSession\n",
        "spark = SparkSession.builder.appName(\"AmazonReviews\").getOrCreate()"
      ],
      "execution_count": null,
      "outputs": []
    },
    {
      "cell_type": "code",
      "metadata": {
        "colab": {
          "base_uri": "https://localhost:8080/"
        },
        "id": "lUgTRsK9fvJy",
        "outputId": "898f3122-67a4-4c8e-8fc3-2e3a2d46864c"
      },
      "source": [
        "#Read in data from S3 Buckets\n",
        "from pyspark import SparkFiles\n",
        "url = \"https://cobrakaireviews.s3.us-east-2.amazonaws.com/amazon_reviews_us_Grocery_v1_00.tsv\"\n",
        "spark.sparkContext.addFile(url)\n",
        "df = spark.read.csv(SparkFiles.get(\"amazon_reviews_us_Grocery_v1_00.tsv\"), sep=\"\\t\", header=True)\n",
        "\n",
        "#Show DF\n",
        "df.show()"
      ],
      "execution_count": null,
      "outputs": [
        {
          "output_type": "stream",
          "text": [
            "+-----------+-----------+--------------+----------+--------------+--------------------+----------------+-----------+-------------+-----------+----+-----------------+--------------------+--------------------+-----------+\n",
            "|marketplace|customer_id|     review_id|product_id|product_parent|       product_title|product_category|star_rating|helpful_votes|total_votes|vine|verified_purchase|     review_headline|         review_body|review_date|\n",
            "+-----------+-----------+--------------+----------+--------------+--------------------+----------------+-----------+-------------+-----------+----+-----------------+--------------------+--------------------+-----------+\n",
            "|         US|   42521656|R26MV8D0KG6QI6|B000SAQCWC|     159713740|The Cravings Plac...|         Grocery|          5|            0|          0|   N|                Y|Using these for y...|As a family aller...| 2015-08-31|\n",
            "|         US|   12049833|R1OF8GP57AQ1A0|B00509LVIQ|     138680402|Mauna Loa Macadam...|         Grocery|          5|            0|          0|   N|                Y|           Wonderful|My favorite nut. ...| 2015-08-31|\n",
            "|         US|     107642|R3VDC1QB6MC4ZZ|B00KHXESLC|     252021703|Organic Matcha Gr...|         Grocery|          5|            0|          0|   N|                N|          Five Stars|This green tea ta...| 2015-08-31|\n",
            "|         US|    6042304|R12FA3DCF8F9ER|B000F8JIIC|     752728342|15oz Raspberry Ly...|         Grocery|          5|            0|          0|   N|                Y|          Five Stars|I love Melissa's ...| 2015-08-31|\n",
            "|         US|   18123821| RTWHVNV6X4CNJ|B004ZWR9RQ|     552138758|Stride Spark Kine...|         Grocery|          5|            0|          0|   N|                Y|          Five Stars|                good| 2015-08-31|\n",
            "|         US|   23649464| RIG9AWFOGRDVO|B00AL6QBZ6|     681475449|Herr's Popcorn Ho...|         Grocery|          2|            1|          1|   N|                Y|           Not Happy|The popcorn was s...| 2015-08-31|\n",
            "|         US|   32778285|R1S1XSG4ZCHDGS|B00BCNSTRA|     578681693|Larabar uber, 1.4...|         Grocery|          5|            1|          1|   N|                Y|          Five Stars|Love these bars, ...| 2015-08-31|\n",
            "|         US|   46612941| RB15NBVY5ELVW|B0089MM2BG|     350968436|Shirakiku Soba No...|         Grocery|          5|            2|          2|   N|                Y|          Five Stars|Love the taste bu...| 2015-08-31|\n",
            "|         US|   31525399| R56358YM1ZJ7I|B00Y1C9770|     729982780|Jif Chocolate Nut...|         Grocery|          5|            0|          0|   N|                N|      Great tasting!|I'm a member of t...| 2015-08-31|\n",
            "|         US|   19624355|R1ODXB3C9UP3NL|B00J074W94|       2499702|Orgain Organic Pl...|         Grocery|          1|            1|          3|   N|                N|Disgusting now an...|Used to be a dece...| 2015-08-31|\n",
            "|         US|   31910375|R155ZMVLD5C9BP|B0001VKKOO|     189938205|Bragg - All Natur...|         Grocery|          4|            3|          4|   N|                Y|If you like soy s...|I cannot tell the...| 2015-08-31|\n",
            "|         US|   12816533|R2IXW43PUNYM0G|B007TGH4CK|     398128262|Wholesome Sweeten...|         Grocery|          4|            1|          1|   N|                Y|          Four Stars|Good flavor and s...| 2015-08-31|\n",
            "|         US|   23208852|R3LYEG1QCK2BG0|B002HMN6SC|      18057786|Kadoya Pure Sesam...|         Grocery|          5|            0|          0|   N|                Y|          Five Stars|Great to use in r...| 2015-08-31|\n",
            "|         US|   17348415|R20LREICPM3YH0|B004NRHAZO|     595020880|Nishiki Premium B...|         Grocery|          5|            0|          0|   N|                Y|          Five Stars|It's rice. Have e...| 2015-08-31|\n",
            "|         US|   46763945| RHA5COCZDVB13|B00V7LJIG8|     173088090|Everly Passion Fr...|         Grocery|          5|            0|          0|   N|                Y|          Five Stars|Very good tasting...| 2015-08-31|\n",
            "|         US|     961747| RT9BGRQANMANE|B0000E2YFI|     120269621|Charms Blue Razzb...|         Grocery|          5|            0|          0|   N|                Y|           Excellent|They were perfect...| 2015-08-31|\n",
            "|         US|   16888081| ROD1TU5JCS7JQ|B00VK5SQOQ|     204992966|Food Should Taste...|         Grocery|          5|            0|          0|   N|                N|              YUMMY!|Wow, these are so...| 2015-08-31|\n",
            "|         US|   22765168|R3T6TTD2IN0EFZ|B00XDXMLL2|     971154239|Skippy Creamy Pea...|         Grocery|          1|            4|          4|   N|                N|1 Out Of 5 Of My ...|I bought this fro...| 2015-08-31|\n",
            "|         US|   36328996|R1OCUGZ444NKV3|B00MN4KX3A|     787182505|Celestial Seasoni...|         Grocery|          5|            5|          5|   N|                Y|delicious tea and...|I love this tea, ...| 2015-08-31|\n",
            "|         US|   27092724| RCQQGWTC4J4TZ|B004NTCE1M|     653570135|Nutiva Organic Vi...|         Grocery|          4|            0|          0|   N|                Y|    Best coconut oil|I have used servo...| 2015-08-31|\n",
            "+-----------+-----------+--------------+----------+--------------+--------------------+----------------+-----------+-------------+-----------+----+-----------------+--------------------+--------------------+-----------+\n",
            "only showing top 20 rows\n",
            "\n"
          ],
          "name": "stdout"
        }
      ]
    },
    {
      "cell_type": "code",
      "metadata": {
        "colab": {
          "base_uri": "https://localhost:8080/"
        },
        "id": "ue4_64lkHYQh",
        "outputId": "c3e95497-27bd-43c9-f768-7c8da7a9b91c"
      },
      "source": [
        "# count how many rows before dropping nulls\n",
        "df.count()"
      ],
      "execution_count": null,
      "outputs": [
        {
          "output_type": "execute_result",
          "data": {
            "text/plain": [
              "2402458"
            ]
          },
          "metadata": {
            "tags": []
          },
          "execution_count": 69
        }
      ]
    },
    {
      "cell_type": "code",
      "metadata": {
        "colab": {
          "base_uri": "https://localhost:8080/"
        },
        "id": "aU3Stq10MxTT",
        "outputId": "2a8d29c3-05f0-4a28-b545-ff2fbe017d56"
      },
      "source": [
        "# Find nulls in data\n",
        "from pyspark.sql.functions import isnan, when, count, col\n",
        "df.select([count(when(isnan(c) | col(c).isNull(), c)).alias(c) for c in df.columns]).show()"
      ],
      "execution_count": null,
      "outputs": [
        {
          "output_type": "stream",
          "text": [
            "+-----------+-----------+---------+----------+--------------+-------------+----------------+-----------+-------------+-----------+----+-----------------+---------------+-----------+-----------+\n",
            "|marketplace|customer_id|review_id|product_id|product_parent|product_title|product_category|star_rating|helpful_votes|total_votes|vine|verified_purchase|review_headline|review_body|review_date|\n",
            "+-----------+-----------+---------+----------+--------------+-------------+----------------+-----------+-------------+-----------+----+-----------------+---------------+-----------+-----------+\n",
            "|          0|          0|        0|         0|             0|            0|              24|         27|           27|         27|  27|               27|             29|        231|        180|\n",
            "+-----------+-----------+---------+----------+--------------+-------------+----------------+-----------+-------------+-----------+----+-----------------+---------------+-----------+-----------+\n",
            "\n"
          ],
          "name": "stdout"
        }
      ]
    },
    {
      "cell_type": "code",
      "metadata": {
        "colab": {
          "base_uri": "https://localhost:8080/"
        },
        "id": "g2r1A4kvEtlc",
        "outputId": "5e4160c3-e55f-4cc3-8651-2a8cfa78c33e"
      },
      "source": [
        "# Drop nulls in data\n",
        "df1=df.dropna()\n",
        "df1.show()"
      ],
      "execution_count": null,
      "outputs": [
        {
          "output_type": "stream",
          "text": [
            "+-----------+-----------+--------------+----------+--------------+--------------------+----------------+-----------+-------------+-----------+----+-----------------+--------------------+--------------------+-----------+\n",
            "|marketplace|customer_id|     review_id|product_id|product_parent|       product_title|product_category|star_rating|helpful_votes|total_votes|vine|verified_purchase|     review_headline|         review_body|review_date|\n",
            "+-----------+-----------+--------------+----------+--------------+--------------------+----------------+-----------+-------------+-----------+----+-----------------+--------------------+--------------------+-----------+\n",
            "|         US|   42521656|R26MV8D0KG6QI6|B000SAQCWC|     159713740|The Cravings Plac...|         Grocery|          5|            0|          0|   N|                Y|Using these for y...|As a family aller...| 2015-08-31|\n",
            "|         US|   12049833|R1OF8GP57AQ1A0|B00509LVIQ|     138680402|Mauna Loa Macadam...|         Grocery|          5|            0|          0|   N|                Y|           Wonderful|My favorite nut. ...| 2015-08-31|\n",
            "|         US|     107642|R3VDC1QB6MC4ZZ|B00KHXESLC|     252021703|Organic Matcha Gr...|         Grocery|          5|            0|          0|   N|                N|          Five Stars|This green tea ta...| 2015-08-31|\n",
            "|         US|    6042304|R12FA3DCF8F9ER|B000F8JIIC|     752728342|15oz Raspberry Ly...|         Grocery|          5|            0|          0|   N|                Y|          Five Stars|I love Melissa's ...| 2015-08-31|\n",
            "|         US|   18123821| RTWHVNV6X4CNJ|B004ZWR9RQ|     552138758|Stride Spark Kine...|         Grocery|          5|            0|          0|   N|                Y|          Five Stars|                good| 2015-08-31|\n",
            "|         US|   23649464| RIG9AWFOGRDVO|B00AL6QBZ6|     681475449|Herr's Popcorn Ho...|         Grocery|          2|            1|          1|   N|                Y|           Not Happy|The popcorn was s...| 2015-08-31|\n",
            "|         US|   32778285|R1S1XSG4ZCHDGS|B00BCNSTRA|     578681693|Larabar uber, 1.4...|         Grocery|          5|            1|          1|   N|                Y|          Five Stars|Love these bars, ...| 2015-08-31|\n",
            "|         US|   46612941| RB15NBVY5ELVW|B0089MM2BG|     350968436|Shirakiku Soba No...|         Grocery|          5|            2|          2|   N|                Y|          Five Stars|Love the taste bu...| 2015-08-31|\n",
            "|         US|   31525399| R56358YM1ZJ7I|B00Y1C9770|     729982780|Jif Chocolate Nut...|         Grocery|          5|            0|          0|   N|                N|      Great tasting!|I'm a member of t...| 2015-08-31|\n",
            "|         US|   19624355|R1ODXB3C9UP3NL|B00J074W94|       2499702|Orgain Organic Pl...|         Grocery|          1|            1|          3|   N|                N|Disgusting now an...|Used to be a dece...| 2015-08-31|\n",
            "|         US|   31910375|R155ZMVLD5C9BP|B0001VKKOO|     189938205|Bragg - All Natur...|         Grocery|          4|            3|          4|   N|                Y|If you like soy s...|I cannot tell the...| 2015-08-31|\n",
            "|         US|   12816533|R2IXW43PUNYM0G|B007TGH4CK|     398128262|Wholesome Sweeten...|         Grocery|          4|            1|          1|   N|                Y|          Four Stars|Good flavor and s...| 2015-08-31|\n",
            "|         US|   23208852|R3LYEG1QCK2BG0|B002HMN6SC|      18057786|Kadoya Pure Sesam...|         Grocery|          5|            0|          0|   N|                Y|          Five Stars|Great to use in r...| 2015-08-31|\n",
            "|         US|   17348415|R20LREICPM3YH0|B004NRHAZO|     595020880|Nishiki Premium B...|         Grocery|          5|            0|          0|   N|                Y|          Five Stars|It's rice. Have e...| 2015-08-31|\n",
            "|         US|   46763945| RHA5COCZDVB13|B00V7LJIG8|     173088090|Everly Passion Fr...|         Grocery|          5|            0|          0|   N|                Y|          Five Stars|Very good tasting...| 2015-08-31|\n",
            "|         US|     961747| RT9BGRQANMANE|B0000E2YFI|     120269621|Charms Blue Razzb...|         Grocery|          5|            0|          0|   N|                Y|           Excellent|They were perfect...| 2015-08-31|\n",
            "|         US|   16888081| ROD1TU5JCS7JQ|B00VK5SQOQ|     204992966|Food Should Taste...|         Grocery|          5|            0|          0|   N|                N|              YUMMY!|Wow, these are so...| 2015-08-31|\n",
            "|         US|   22765168|R3T6TTD2IN0EFZ|B00XDXMLL2|     971154239|Skippy Creamy Pea...|         Grocery|          1|            4|          4|   N|                N|1 Out Of 5 Of My ...|I bought this fro...| 2015-08-31|\n",
            "|         US|   36328996|R1OCUGZ444NKV3|B00MN4KX3A|     787182505|Celestial Seasoni...|         Grocery|          5|            5|          5|   N|                Y|delicious tea and...|I love this tea, ...| 2015-08-31|\n",
            "|         US|   27092724| RCQQGWTC4J4TZ|B004NTCE1M|     653570135|Nutiva Organic Vi...|         Grocery|          4|            0|          0|   N|                Y|    Best coconut oil|I have used servo...| 2015-08-31|\n",
            "+-----------+-----------+--------------+----------+--------------+--------------------+----------------+-----------+-------------+-----------+----+-----------------+--------------------+--------------------+-----------+\n",
            "only showing top 20 rows\n",
            "\n"
          ],
          "name": "stdout"
        }
      ]
    },
    {
      "cell_type": "code",
      "metadata": {
        "colab": {
          "base_uri": "https://localhost:8080/"
        },
        "id": "Cx1XOKZiHnQX",
        "outputId": "72d51c52-5608-4bac-bb0a-dc0057cf7777"
      },
      "source": [
        "# count number of rows after drop (should be less than 1741100(tools), 2402458(Grocery))\n",
        "df1.count()"
      ],
      "execution_count": null,
      "outputs": [
        {
          "output_type": "execute_result",
          "data": {
            "text/plain": [
              "2402212"
            ]
          },
          "metadata": {
            "tags": []
          },
          "execution_count": 72
        }
      ]
    },
    {
      "cell_type": "code",
      "metadata": {
        "colab": {
          "base_uri": "https://localhost:8080/"
        },
        "id": "uclKzVxw8wLq",
        "outputId": "a91be06f-69e0-436c-b032-4794af934af6"
      },
      "source": [
        "#Concatenate headline and body columns\n",
        "from pyspark.sql import functions as sf\n",
        "df2 = df1.withColumn('joined', sf.concat(sf.col('review_headline'), sf.lit(' '), sf.col('review_body')))\n",
        "df2.show()"
      ],
      "execution_count": null,
      "outputs": [
        {
          "output_type": "stream",
          "text": [
            "+-----------+-----------+--------------+----------+--------------+--------------------+----------------+-----------+-------------+-----------+----+-----------------+--------------------+--------------------+-----------+--------------------+\n",
            "|marketplace|customer_id|     review_id|product_id|product_parent|       product_title|product_category|star_rating|helpful_votes|total_votes|vine|verified_purchase|     review_headline|         review_body|review_date|              joined|\n",
            "+-----------+-----------+--------------+----------+--------------+--------------------+----------------+-----------+-------------+-----------+----+-----------------+--------------------+--------------------+-----------+--------------------+\n",
            "|         US|   42521656|R26MV8D0KG6QI6|B000SAQCWC|     159713740|The Cravings Plac...|         Grocery|          5|            0|          0|   N|                Y|Using these for y...|As a family aller...| 2015-08-31|Using these for y...|\n",
            "|         US|   12049833|R1OF8GP57AQ1A0|B00509LVIQ|     138680402|Mauna Loa Macadam...|         Grocery|          5|            0|          0|   N|                Y|           Wonderful|My favorite nut. ...| 2015-08-31|Wonderful My favo...|\n",
            "|         US|     107642|R3VDC1QB6MC4ZZ|B00KHXESLC|     252021703|Organic Matcha Gr...|         Grocery|          5|            0|          0|   N|                N|          Five Stars|This green tea ta...| 2015-08-31|Five Stars This g...|\n",
            "|         US|    6042304|R12FA3DCF8F9ER|B000F8JIIC|     752728342|15oz Raspberry Ly...|         Grocery|          5|            0|          0|   N|                Y|          Five Stars|I love Melissa's ...| 2015-08-31|Five Stars I love...|\n",
            "|         US|   18123821| RTWHVNV6X4CNJ|B004ZWR9RQ|     552138758|Stride Spark Kine...|         Grocery|          5|            0|          0|   N|                Y|          Five Stars|                good| 2015-08-31|     Five Stars good|\n",
            "|         US|   23649464| RIG9AWFOGRDVO|B00AL6QBZ6|     681475449|Herr's Popcorn Ho...|         Grocery|          2|            1|          1|   N|                Y|           Not Happy|The popcorn was s...| 2015-08-31|Not Happy The pop...|\n",
            "|         US|   32778285|R1S1XSG4ZCHDGS|B00BCNSTRA|     578681693|Larabar uber, 1.4...|         Grocery|          5|            1|          1|   N|                Y|          Five Stars|Love these bars, ...| 2015-08-31|Five Stars Love t...|\n",
            "|         US|   46612941| RB15NBVY5ELVW|B0089MM2BG|     350968436|Shirakiku Soba No...|         Grocery|          5|            2|          2|   N|                Y|          Five Stars|Love the taste bu...| 2015-08-31|Five Stars Love t...|\n",
            "|         US|   31525399| R56358YM1ZJ7I|B00Y1C9770|     729982780|Jif Chocolate Nut...|         Grocery|          5|            0|          0|   N|                N|      Great tasting!|I'm a member of t...| 2015-08-31|Great tasting! I'...|\n",
            "|         US|   19624355|R1ODXB3C9UP3NL|B00J074W94|       2499702|Orgain Organic Pl...|         Grocery|          1|            1|          3|   N|                N|Disgusting now an...|Used to be a dece...| 2015-08-31|Disgusting now an...|\n",
            "|         US|   31910375|R155ZMVLD5C9BP|B0001VKKOO|     189938205|Bragg - All Natur...|         Grocery|          4|            3|          4|   N|                Y|If you like soy s...|I cannot tell the...| 2015-08-31|If you like soy s...|\n",
            "|         US|   12816533|R2IXW43PUNYM0G|B007TGH4CK|     398128262|Wholesome Sweeten...|         Grocery|          4|            1|          1|   N|                Y|          Four Stars|Good flavor and s...| 2015-08-31|Four Stars Good f...|\n",
            "|         US|   23208852|R3LYEG1QCK2BG0|B002HMN6SC|      18057786|Kadoya Pure Sesam...|         Grocery|          5|            0|          0|   N|                Y|          Five Stars|Great to use in r...| 2015-08-31|Five Stars Great ...|\n",
            "|         US|   17348415|R20LREICPM3YH0|B004NRHAZO|     595020880|Nishiki Premium B...|         Grocery|          5|            0|          0|   N|                Y|          Five Stars|It's rice. Have e...| 2015-08-31|Five Stars It's r...|\n",
            "|         US|   46763945| RHA5COCZDVB13|B00V7LJIG8|     173088090|Everly Passion Fr...|         Grocery|          5|            0|          0|   N|                Y|          Five Stars|Very good tasting...| 2015-08-31|Five Stars Very g...|\n",
            "|         US|     961747| RT9BGRQANMANE|B0000E2YFI|     120269621|Charms Blue Razzb...|         Grocery|          5|            0|          0|   N|                Y|           Excellent|They were perfect...| 2015-08-31|Excellent They we...|\n",
            "|         US|   16888081| ROD1TU5JCS7JQ|B00VK5SQOQ|     204992966|Food Should Taste...|         Grocery|          5|            0|          0|   N|                N|              YUMMY!|Wow, these are so...| 2015-08-31|YUMMY! Wow, these...|\n",
            "|         US|   22765168|R3T6TTD2IN0EFZ|B00XDXMLL2|     971154239|Skippy Creamy Pea...|         Grocery|          1|            4|          4|   N|                N|1 Out Of 5 Of My ...|I bought this fro...| 2015-08-31|1 Out Of 5 Of My ...|\n",
            "|         US|   36328996|R1OCUGZ444NKV3|B00MN4KX3A|     787182505|Celestial Seasoni...|         Grocery|          5|            5|          5|   N|                Y|delicious tea and...|I love this tea, ...| 2015-08-31|delicious tea and...|\n",
            "|         US|   27092724| RCQQGWTC4J4TZ|B004NTCE1M|     653570135|Nutiva Organic Vi...|         Grocery|          4|            0|          0|   N|                Y|    Best coconut oil|I have used servo...| 2015-08-31|Best coconut oil ...|\n",
            "+-----------+-----------+--------------+----------+--------------+--------------------+----------------+-----------+-------------+-----------+----+-----------------+--------------------+--------------------+-----------+--------------------+\n",
            "only showing top 20 rows\n",
            "\n"
          ],
          "name": "stdout"
        }
      ]
    },
    {
      "cell_type": "markdown",
      "metadata": {
        "id": "_4LNmvk0xZVb"
      },
      "source": [
        "### Feature Transformations\n"
      ]
    },
    {
      "cell_type": "code",
      "metadata": {
        "id": "7Hu7VA2YhjBT"
      },
      "source": [
        "from pyspark.ml.feature import Tokenizer, StopWordsRemover, HashingTF, IDF, StringIndexer\n",
        "# Create all the features to the data set\n",
        "tokenizer = Tokenizer(inputCol='joined', outputCol='tokened')\n",
        "stopremove = StopWordsRemover(inputCol='tokened', outputCol='stopped')\n",
        "hashing = HashingTF(inputCol='stopped', outputCol='hashed', numFeatures=pow(2,4))\n",
        "IDF = IDF(inputCol='hashed', outputCol='idf')"
      ],
      "execution_count": null,
      "outputs": []
    },
    {
      "cell_type": "code",
      "metadata": {
        "colab": {
          "base_uri": "https://localhost:8080/"
        },
        "id": "153cX1ZbhjYt",
        "outputId": "bbd86ac3-328c-4f90-cac3-1716c06f8e66"
      },
      "source": [
        "# tokenize review body\n",
        "token = tokenizer.transform(df2)\n",
        "token.show()"
      ],
      "execution_count": null,
      "outputs": [
        {
          "output_type": "stream",
          "text": [
            "+-----------+-----------+--------------+----------+--------------+--------------------+----------------+-----------+-------------+-----------+----+-----------------+--------------------+--------------------+-----------+--------------------+--------------------+\n",
            "|marketplace|customer_id|     review_id|product_id|product_parent|       product_title|product_category|star_rating|helpful_votes|total_votes|vine|verified_purchase|     review_headline|         review_body|review_date|              joined|             tokened|\n",
            "+-----------+-----------+--------------+----------+--------------+--------------------+----------------+-----------+-------------+-----------+----+-----------------+--------------------+--------------------+-----------+--------------------+--------------------+\n",
            "|         US|   42521656|R26MV8D0KG6QI6|B000SAQCWC|     159713740|The Cravings Plac...|         Grocery|          5|            0|          0|   N|                Y|Using these for y...|As a family aller...| 2015-08-31|Using these for y...|[using, these, fo...|\n",
            "|         US|   12049833|R1OF8GP57AQ1A0|B00509LVIQ|     138680402|Mauna Loa Macadam...|         Grocery|          5|            0|          0|   N|                Y|           Wonderful|My favorite nut. ...| 2015-08-31|Wonderful My favo...|[wonderful, my, f...|\n",
            "|         US|     107642|R3VDC1QB6MC4ZZ|B00KHXESLC|     252021703|Organic Matcha Gr...|         Grocery|          5|            0|          0|   N|                N|          Five Stars|This green tea ta...| 2015-08-31|Five Stars This g...|[five, stars, thi...|\n",
            "|         US|    6042304|R12FA3DCF8F9ER|B000F8JIIC|     752728342|15oz Raspberry Ly...|         Grocery|          5|            0|          0|   N|                Y|          Five Stars|I love Melissa's ...| 2015-08-31|Five Stars I love...|[five, stars, i, ...|\n",
            "|         US|   18123821| RTWHVNV6X4CNJ|B004ZWR9RQ|     552138758|Stride Spark Kine...|         Grocery|          5|            0|          0|   N|                Y|          Five Stars|                good| 2015-08-31|     Five Stars good| [five, stars, good]|\n",
            "|         US|   23649464| RIG9AWFOGRDVO|B00AL6QBZ6|     681475449|Herr's Popcorn Ho...|         Grocery|          2|            1|          1|   N|                Y|           Not Happy|The popcorn was s...| 2015-08-31|Not Happy The pop...|[not, happy, the,...|\n",
            "|         US|   32778285|R1S1XSG4ZCHDGS|B00BCNSTRA|     578681693|Larabar uber, 1.4...|         Grocery|          5|            1|          1|   N|                Y|          Five Stars|Love these bars, ...| 2015-08-31|Five Stars Love t...|[five, stars, lov...|\n",
            "|         US|   46612941| RB15NBVY5ELVW|B0089MM2BG|     350968436|Shirakiku Soba No...|         Grocery|          5|            2|          2|   N|                Y|          Five Stars|Love the taste bu...| 2015-08-31|Five Stars Love t...|[five, stars, lov...|\n",
            "|         US|   31525399| R56358YM1ZJ7I|B00Y1C9770|     729982780|Jif Chocolate Nut...|         Grocery|          5|            0|          0|   N|                N|      Great tasting!|I'm a member of t...| 2015-08-31|Great tasting! I'...|[great, tasting!,...|\n",
            "|         US|   19624355|R1ODXB3C9UP3NL|B00J074W94|       2499702|Orgain Organic Pl...|         Grocery|          1|            1|          3|   N|                N|Disgusting now an...|Used to be a dece...| 2015-08-31|Disgusting now an...|[disgusting, now,...|\n",
            "|         US|   31910375|R155ZMVLD5C9BP|B0001VKKOO|     189938205|Bragg - All Natur...|         Grocery|          4|            3|          4|   N|                Y|If you like soy s...|I cannot tell the...| 2015-08-31|If you like soy s...|[if, you, like, s...|\n",
            "|         US|   12816533|R2IXW43PUNYM0G|B007TGH4CK|     398128262|Wholesome Sweeten...|         Grocery|          4|            1|          1|   N|                Y|          Four Stars|Good flavor and s...| 2015-08-31|Four Stars Good f...|[four, stars, goo...|\n",
            "|         US|   23208852|R3LYEG1QCK2BG0|B002HMN6SC|      18057786|Kadoya Pure Sesam...|         Grocery|          5|            0|          0|   N|                Y|          Five Stars|Great to use in r...| 2015-08-31|Five Stars Great ...|[five, stars, gre...|\n",
            "|         US|   17348415|R20LREICPM3YH0|B004NRHAZO|     595020880|Nishiki Premium B...|         Grocery|          5|            0|          0|   N|                Y|          Five Stars|It's rice. Have e...| 2015-08-31|Five Stars It's r...|[five, stars, it'...|\n",
            "|         US|   46763945| RHA5COCZDVB13|B00V7LJIG8|     173088090|Everly Passion Fr...|         Grocery|          5|            0|          0|   N|                Y|          Five Stars|Very good tasting...| 2015-08-31|Five Stars Very g...|[five, stars, ver...|\n",
            "|         US|     961747| RT9BGRQANMANE|B0000E2YFI|     120269621|Charms Blue Razzb...|         Grocery|          5|            0|          0|   N|                Y|           Excellent|They were perfect...| 2015-08-31|Excellent They we...|[excellent, they,...|\n",
            "|         US|   16888081| ROD1TU5JCS7JQ|B00VK5SQOQ|     204992966|Food Should Taste...|         Grocery|          5|            0|          0|   N|                N|              YUMMY!|Wow, these are so...| 2015-08-31|YUMMY! Wow, these...|[yummy!, wow,, th...|\n",
            "|         US|   22765168|R3T6TTD2IN0EFZ|B00XDXMLL2|     971154239|Skippy Creamy Pea...|         Grocery|          1|            4|          4|   N|                N|1 Out Of 5 Of My ...|I bought this fro...| 2015-08-31|1 Out Of 5 Of My ...|[1, out, of, 5, o...|\n",
            "|         US|   36328996|R1OCUGZ444NKV3|B00MN4KX3A|     787182505|Celestial Seasoni...|         Grocery|          5|            5|          5|   N|                Y|delicious tea and...|I love this tea, ...| 2015-08-31|delicious tea and...|[delicious, tea, ...|\n",
            "|         US|   27092724| RCQQGWTC4J4TZ|B004NTCE1M|     653570135|Nutiva Organic Vi...|         Grocery|          4|            0|          0|   N|                Y|    Best coconut oil|I have used servo...| 2015-08-31|Best coconut oil ...|[best, coconut, o...|\n",
            "+-----------+-----------+--------------+----------+--------------+--------------------+----------------+-----------+-------------+-----------+----+-----------------+--------------------+--------------------+-----------+--------------------+--------------------+\n",
            "only showing top 20 rows\n",
            "\n"
          ],
          "name": "stdout"
        }
      ]
    },
    {
      "cell_type": "code",
      "metadata": {
        "colab": {
          "base_uri": "https://localhost:8080/"
        },
        "id": "Q6a-5cKTrwXU",
        "outputId": "55a0fbdd-dcd1-42ae-e860-b074f7aa7b92"
      },
      "source": [
        "#stopwords\n",
        "stopped = stopremove.transform(token)\n",
        "stopped.show()"
      ],
      "execution_count": null,
      "outputs": [
        {
          "output_type": "stream",
          "text": [
            "+-----------+-----------+--------------+----------+--------------+--------------------+----------------+-----------+-------------+-----------+----+-----------------+--------------------+--------------------+-----------+--------------------+--------------------+--------------------+\n",
            "|marketplace|customer_id|     review_id|product_id|product_parent|       product_title|product_category|star_rating|helpful_votes|total_votes|vine|verified_purchase|     review_headline|         review_body|review_date|              joined|             tokened|             stopped|\n",
            "+-----------+-----------+--------------+----------+--------------+--------------------+----------------+-----------+-------------+-----------+----+-----------------+--------------------+--------------------+-----------+--------------------+--------------------+--------------------+\n",
            "|         US|   42521656|R26MV8D0KG6QI6|B000SAQCWC|     159713740|The Cravings Plac...|         Grocery|          5|            0|          0|   N|                Y|Using these for y...|As a family aller...| 2015-08-31|Using these for y...|[using, these, fo...|[using, years, -,...|\n",
            "|         US|   12049833|R1OF8GP57AQ1A0|B00509LVIQ|     138680402|Mauna Loa Macadam...|         Grocery|          5|            0|          0|   N|                Y|           Wonderful|My favorite nut. ...| 2015-08-31|Wonderful My favo...|[wonderful, my, f...|[wonderful, favor...|\n",
            "|         US|     107642|R3VDC1QB6MC4ZZ|B00KHXESLC|     252021703|Organic Matcha Gr...|         Grocery|          5|            0|          0|   N|                N|          Five Stars|This green tea ta...| 2015-08-31|Five Stars This g...|[five, stars, thi...|[five, stars, gre...|\n",
            "|         US|    6042304|R12FA3DCF8F9ER|B000F8JIIC|     752728342|15oz Raspberry Ly...|         Grocery|          5|            0|          0|   N|                Y|          Five Stars|I love Melissa's ...| 2015-08-31|Five Stars I love...|[five, stars, i, ...|[five, stars, lov...|\n",
            "|         US|   18123821| RTWHVNV6X4CNJ|B004ZWR9RQ|     552138758|Stride Spark Kine...|         Grocery|          5|            0|          0|   N|                Y|          Five Stars|                good| 2015-08-31|     Five Stars good| [five, stars, good]| [five, stars, good]|\n",
            "|         US|   23649464| RIG9AWFOGRDVO|B00AL6QBZ6|     681475449|Herr's Popcorn Ho...|         Grocery|          2|            1|          1|   N|                Y|           Not Happy|The popcorn was s...| 2015-08-31|Not Happy The pop...|[not, happy, the,...|[happy, popcorn, ...|\n",
            "|         US|   32778285|R1S1XSG4ZCHDGS|B00BCNSTRA|     578681693|Larabar uber, 1.4...|         Grocery|          5|            1|          1|   N|                Y|          Five Stars|Love these bars, ...| 2015-08-31|Five Stars Love t...|[five, stars, lov...|[five, stars, lov...|\n",
            "|         US|   46612941| RB15NBVY5ELVW|B0089MM2BG|     350968436|Shirakiku Soba No...|         Grocery|          5|            2|          2|   N|                Y|          Five Stars|Love the taste bu...| 2015-08-31|Five Stars Love t...|[five, stars, lov...|[five, stars, lov...|\n",
            "|         US|   31525399| R56358YM1ZJ7I|B00Y1C9770|     729982780|Jif Chocolate Nut...|         Grocery|          5|            0|          0|   N|                N|      Great tasting!|I'm a member of t...| 2015-08-31|Great tasting! I'...|[great, tasting!,...|[great, tasting!,...|\n",
            "|         US|   19624355|R1ODXB3C9UP3NL|B00J074W94|       2499702|Orgain Organic Pl...|         Grocery|          1|            1|          3|   N|                N|Disgusting now an...|Used to be a dece...| 2015-08-31|Disgusting now an...|[disgusting, now,...|[disgusting, diff...|\n",
            "|         US|   31910375|R155ZMVLD5C9BP|B0001VKKOO|     189938205|Bragg - All Natur...|         Grocery|          4|            3|          4|   N|                Y|If you like soy s...|I cannot tell the...| 2015-08-31|If you like soy s...|[if, you, like, s...|[like, soy, sauce...|\n",
            "|         US|   12816533|R2IXW43PUNYM0G|B007TGH4CK|     398128262|Wholesome Sweeten...|         Grocery|          4|            1|          1|   N|                Y|          Four Stars|Good flavor and s...| 2015-08-31|Four Stars Good f...|[four, stars, goo...|[four, stars, goo...|\n",
            "|         US|   23208852|R3LYEG1QCK2BG0|B002HMN6SC|      18057786|Kadoya Pure Sesam...|         Grocery|          5|            0|          0|   N|                Y|          Five Stars|Great to use in r...| 2015-08-31|Five Stars Great ...|[five, stars, gre...|[five, stars, gre...|\n",
            "|         US|   17348415|R20LREICPM3YH0|B004NRHAZO|     595020880|Nishiki Premium B...|         Grocery|          5|            0|          0|   N|                Y|          Five Stars|It's rice. Have e...| 2015-08-31|Five Stars It's r...|[five, stars, it'...|[five, stars, ric...|\n",
            "|         US|   46763945| RHA5COCZDVB13|B00V7LJIG8|     173088090|Everly Passion Fr...|         Grocery|          5|            0|          0|   N|                Y|          Five Stars|Very good tasting...| 2015-08-31|Five Stars Very g...|[five, stars, ver...|[five, stars, goo...|\n",
            "|         US|     961747| RT9BGRQANMANE|B0000E2YFI|     120269621|Charms Blue Razzb...|         Grocery|          5|            0|          0|   N|                Y|           Excellent|They were perfect...| 2015-08-31|Excellent They we...|[excellent, they,...|[excellent, perfe...|\n",
            "|         US|   16888081| ROD1TU5JCS7JQ|B00VK5SQOQ|     204992966|Food Should Taste...|         Grocery|          5|            0|          0|   N|                N|              YUMMY!|Wow, these are so...| 2015-08-31|YUMMY! Wow, these...|[yummy!, wow,, th...|[yummy!, wow,, so...|\n",
            "|         US|   22765168|R3T6TTD2IN0EFZ|B00XDXMLL2|     971154239|Skippy Creamy Pea...|         Grocery|          1|            4|          4|   N|                N|1 Out Of 5 Of My ...|I bought this fro...| 2015-08-31|1 Out Of 5 Of My ...|[1, out, of, 5, o...|[1, 5, co-workers...|\n",
            "|         US|   36328996|R1OCUGZ444NKV3|B00MN4KX3A|     787182505|Celestial Seasoni...|         Grocery|          5|            5|          5|   N|                Y|delicious tea and...|I love this tea, ...| 2015-08-31|delicious tea and...|[delicious, tea, ...|[delicious, tea, ...|\n",
            "|         US|   27092724| RCQQGWTC4J4TZ|B004NTCE1M|     653570135|Nutiva Organic Vi...|         Grocery|          4|            0|          0|   N|                Y|    Best coconut oil|I have used servo...| 2015-08-31|Best coconut oil ...|[best, coconut, o...|[best, coconut, o...|\n",
            "+-----------+-----------+--------------+----------+--------------+--------------------+----------------+-----------+-------------+-----------+----+-----------------+--------------------+--------------------+-----------+--------------------+--------------------+--------------------+\n",
            "only showing top 20 rows\n",
            "\n"
          ],
          "name": "stdout"
        }
      ]
    },
    {
      "cell_type": "code",
      "metadata": {
        "colab": {
          "base_uri": "https://localhost:8080/"
        },
        "id": "eDPkduZHrwaN",
        "outputId": "3d68478a-a9bc-4721-f2bd-f2e399801870"
      },
      "source": [
        "#hashing dataframe\n",
        "hashed_df = hashing.transform(stopped)\n",
        "hashed_df.show()"
      ],
      "execution_count": null,
      "outputs": [
        {
          "output_type": "stream",
          "text": [
            "+-----------+-----------+--------------+----------+--------------+--------------------+----------------+-----------+-------------+-----------+----+-----------------+--------------------+--------------------+-----------+--------------------+--------------------+--------------------+--------------------+\n",
            "|marketplace|customer_id|     review_id|product_id|product_parent|       product_title|product_category|star_rating|helpful_votes|total_votes|vine|verified_purchase|     review_headline|         review_body|review_date|              joined|             tokened|             stopped|              hashed|\n",
            "+-----------+-----------+--------------+----------+--------------+--------------------+----------------+-----------+-------------+-----------+----+-----------------+--------------------+--------------------+-----------+--------------------+--------------------+--------------------+--------------------+\n",
            "|         US|   42521656|R26MV8D0KG6QI6|B000SAQCWC|     159713740|The Cravings Plac...|         Grocery|          5|            0|          0|   N|                Y|Using these for y...|As a family aller...| 2015-08-31|Using these for y...|[using, these, fo...|[using, years, -,...|(16,[0,1,3,4,5,6,...|\n",
            "|         US|   12049833|R1OF8GP57AQ1A0|B00509LVIQ|     138680402|Mauna Loa Macadam...|         Grocery|          5|            0|          0|   N|                Y|           Wonderful|My favorite nut. ...| 2015-08-31|Wonderful My favo...|[wonderful, my, f...|[wonderful, favor...|(16,[0,1,2,3,4,6,...|\n",
            "|         US|     107642|R3VDC1QB6MC4ZZ|B00KHXESLC|     252021703|Organic Matcha Gr...|         Grocery|          5|            0|          0|   N|                N|          Five Stars|This green tea ta...| 2015-08-31|Five Stars This g...|[five, stars, thi...|[five, stars, gre...|(16,[1,2,6,7,13],...|\n",
            "|         US|    6042304|R12FA3DCF8F9ER|B000F8JIIC|     752728342|15oz Raspberry Ly...|         Grocery|          5|            0|          0|   N|                Y|          Five Stars|I love Melissa's ...| 2015-08-31|Five Stars I love...|[five, stars, i, ...|[five, stars, lov...|(16,[0,1,2,6,8,14...|\n",
            "|         US|   18123821| RTWHVNV6X4CNJ|B004ZWR9RQ|     552138758|Stride Spark Kine...|         Grocery|          5|            0|          0|   N|                Y|          Five Stars|                good| 2015-08-31|     Five Stars good| [five, stars, good]| [five, stars, good]|(16,[2,6,8],[1.0,...|\n",
            "|         US|   23649464| RIG9AWFOGRDVO|B00AL6QBZ6|     681475449|Herr's Popcorn Ho...|         Grocery|          2|            1|          1|   N|                Y|           Not Happy|The popcorn was s...| 2015-08-31|Not Happy The pop...|[not, happy, the,...|[happy, popcorn, ...|(16,[3,14,15],[1....|\n",
            "|         US|   32778285|R1S1XSG4ZCHDGS|B00BCNSTRA|     578681693|Larabar uber, 1.4...|         Grocery|          5|            1|          1|   N|                Y|          Five Stars|Love these bars, ...| 2015-08-31|Five Stars Love t...|[five, stars, lov...|[five, stars, lov...|(16,[0,1,2,4,5,6,...|\n",
            "|         US|   46612941| RB15NBVY5ELVW|B0089MM2BG|     350968436|Shirakiku Soba No...|         Grocery|          5|            2|          2|   N|                Y|          Five Stars|Love the taste bu...| 2015-08-31|Five Stars Love t...|[five, stars, lov...|[five, stars, lov...|(16,[0,2,4,6,7,10...|\n",
            "|         US|   31525399| R56358YM1ZJ7I|B00Y1C9770|     729982780|Jif Chocolate Nut...|         Grocery|          5|            0|          0|   N|                N|      Great tasting!|I'm a member of t...| 2015-08-31|Great tasting! I'...|[great, tasting!,...|[great, tasting!,...|(16,[0,1,2,4,5,6,...|\n",
            "|         US|   19624355|R1ODXB3C9UP3NL|B00J074W94|       2499702|Orgain Organic Pl...|         Grocery|          1|            1|          3|   N|                N|Disgusting now an...|Used to be a dece...| 2015-08-31|Disgusting now an...|[disgusting, now,...|[disgusting, diff...|(16,[0,1,2,3,5,6,...|\n",
            "|         US|   31910375|R155ZMVLD5C9BP|B0001VKKOO|     189938205|Bragg - All Natur...|         Grocery|          4|            3|          4|   N|                Y|If you like soy s...|I cannot tell the...| 2015-08-31|If you like soy s...|[if, you, like, s...|[like, soy, sauce...|(16,[0,1,2,3,4,5,...|\n",
            "|         US|   12816533|R2IXW43PUNYM0G|B007TGH4CK|     398128262|Wholesome Sweeten...|         Grocery|          4|            1|          1|   N|                Y|          Four Stars|Good flavor and s...| 2015-08-31|Four Stars Good f...|[four, stars, goo...|[four, stars, goo...|(16,[2,6,7,8,11,1...|\n",
            "|         US|   23208852|R3LYEG1QCK2BG0|B002HMN6SC|      18057786|Kadoya Pure Sesam...|         Grocery|          5|            0|          0|   N|                Y|          Five Stars|Great to use in r...| 2015-08-31|Five Stars Great ...|[five, stars, gre...|[five, stars, gre...|(16,[0,2,6,13,14]...|\n",
            "|         US|   17348415|R20LREICPM3YH0|B004NRHAZO|     595020880|Nishiki Premium B...|         Grocery|          5|            0|          0|   N|                Y|          Five Stars|It's rice. Have e...| 2015-08-31|Five Stars It's r...|[five, stars, it'...|[five, stars, ric...|(16,[2,5,6,7,9,12...|\n",
            "|         US|   46763945| RHA5COCZDVB13|B00V7LJIG8|     173088090|Everly Passion Fr...|         Grocery|          5|            0|          0|   N|                Y|          Five Stars|Very good tasting...| 2015-08-31|Five Stars Very g...|[five, stars, ver...|[five, stars, goo...|(16,[2,4,6,8,9,14...|\n",
            "|         US|     961747| RT9BGRQANMANE|B0000E2YFI|     120269621|Charms Blue Razzb...|         Grocery|          5|            0|          0|   N|                Y|           Excellent|They were perfect...| 2015-08-31|Excellent They we...|[excellent, they,...|[excellent, perfe...|(16,[4,5,9,13,14]...|\n",
            "|         US|   16888081| ROD1TU5JCS7JQ|B00VK5SQOQ|     204992966|Food Should Taste...|         Grocery|          5|            0|          0|   N|                N|              YUMMY!|Wow, these are so...| 2015-08-31|YUMMY! Wow, these...|[yummy!, wow,, th...|[yummy!, wow,, so...|(16,[0,1,3,4,6,8,...|\n",
            "|         US|   22765168|R3T6TTD2IN0EFZ|B00XDXMLL2|     971154239|Skippy Creamy Pea...|         Grocery|          1|            4|          4|   N|                N|1 Out Of 5 Of My ...|I bought this fro...| 2015-08-31|1 Out Of 5 Of My ...|[1, out, of, 5, o...|[1, 5, co-workers...|(16,[0,1,2,3,4,5,...|\n",
            "|         US|   36328996|R1OCUGZ444NKV3|B00MN4KX3A|     787182505|Celestial Seasoni...|         Grocery|          5|            5|          5|   N|                Y|delicious tea and...|I love this tea, ...| 2015-08-31|delicious tea and...|[delicious, tea, ...|[delicious, tea, ...|(16,[0,1,2,3,5,6,...|\n",
            "|         US|   27092724| RCQQGWTC4J4TZ|B004NTCE1M|     653570135|Nutiva Organic Vi...|         Grocery|          4|            0|          0|   N|                Y|    Best coconut oil|I have used servo...| 2015-08-31|Best coconut oil ...|[best, coconut, o...|[best, coconut, o...|(16,[0,1,2,3,4,5,...|\n",
            "+-----------+-----------+--------------+----------+--------------+--------------------+----------------+-----------+-------------+-----------+----+-----------------+--------------------+--------------------+-----------+--------------------+--------------------+--------------------+--------------------+\n",
            "only showing top 20 rows\n",
            "\n"
          ],
          "name": "stdout"
        }
      ]
    },
    {
      "cell_type": "code",
      "metadata": {
        "colab": {
          "base_uri": "https://localhost:8080/"
        },
        "id": "gSDTrRbirwc1",
        "outputId": "fae750b7-a54e-4def-e28e-7400da496a8c"
      },
      "source": [
        "# fit to IDF\n",
        "idfModel = IDF.fit(hashed_df)\n",
        "scaledData = idfModel.transform(hashed_df)\n",
        "scaledData.show()"
      ],
      "execution_count": null,
      "outputs": [
        {
          "output_type": "stream",
          "text": [
            "+-----------+-----------+--------------+----------+--------------+--------------------+----------------+-----------+-------------+-----------+----+-----------------+--------------------+--------------------+-----------+--------------------+--------------------+--------------------+--------------------+--------------------+\n",
            "|marketplace|customer_id|     review_id|product_id|product_parent|       product_title|product_category|star_rating|helpful_votes|total_votes|vine|verified_purchase|     review_headline|         review_body|review_date|              joined|             tokened|             stopped|              hashed|                 idf|\n",
            "+-----------+-----------+--------------+----------+--------------+--------------------+----------------+-----------+-------------+-----------+----+-----------------+--------------------+--------------------+-----------+--------------------+--------------------+--------------------+--------------------+--------------------+\n",
            "|         US|   42521656|R26MV8D0KG6QI6|B000SAQCWC|     159713740|The Cravings Plac...|         Grocery|          5|            0|          0|   N|                Y|Using these for y...|As a family aller...| 2015-08-31|Using these for y...|[using, these, fo...|[using, years, -,...|(16,[0,1,3,4,5,6,...|(16,[0,1,3,4,5,6,...|\n",
            "|         US|   12049833|R1OF8GP57AQ1A0|B00509LVIQ|     138680402|Mauna Loa Macadam...|         Grocery|          5|            0|          0|   N|                Y|           Wonderful|My favorite nut. ...| 2015-08-31|Wonderful My favo...|[wonderful, my, f...|[wonderful, favor...|(16,[0,1,2,3,4,6,...|(16,[0,1,2,3,4,6,...|\n",
            "|         US|     107642|R3VDC1QB6MC4ZZ|B00KHXESLC|     252021703|Organic Matcha Gr...|         Grocery|          5|            0|          0|   N|                N|          Five Stars|This green tea ta...| 2015-08-31|Five Stars This g...|[five, stars, thi...|[five, stars, gre...|(16,[1,2,6,7,13],...|(16,[1,2,6,7,13],...|\n",
            "|         US|    6042304|R12FA3DCF8F9ER|B000F8JIIC|     752728342|15oz Raspberry Ly...|         Grocery|          5|            0|          0|   N|                Y|          Five Stars|I love Melissa's ...| 2015-08-31|Five Stars I love...|[five, stars, i, ...|[five, stars, lov...|(16,[0,1,2,6,8,14...|(16,[0,1,2,6,8,14...|\n",
            "|         US|   18123821| RTWHVNV6X4CNJ|B004ZWR9RQ|     552138758|Stride Spark Kine...|         Grocery|          5|            0|          0|   N|                Y|          Five Stars|                good| 2015-08-31|     Five Stars good| [five, stars, good]| [five, stars, good]|(16,[2,6,8],[1.0,...|(16,[2,6,8],[0.27...|\n",
            "|         US|   23649464| RIG9AWFOGRDVO|B00AL6QBZ6|     681475449|Herr's Popcorn Ho...|         Grocery|          2|            1|          1|   N|                Y|           Not Happy|The popcorn was s...| 2015-08-31|Not Happy The pop...|[not, happy, the,...|[happy, popcorn, ...|(16,[3,14,15],[1....|(16,[3,14,15],[0....|\n",
            "|         US|   32778285|R1S1XSG4ZCHDGS|B00BCNSTRA|     578681693|Larabar uber, 1.4...|         Grocery|          5|            1|          1|   N|                Y|          Five Stars|Love these bars, ...| 2015-08-31|Five Stars Love t...|[five, stars, lov...|[five, stars, lov...|(16,[0,1,2,4,5,6,...|(16,[0,1,2,4,5,6,...|\n",
            "|         US|   46612941| RB15NBVY5ELVW|B0089MM2BG|     350968436|Shirakiku Soba No...|         Grocery|          5|            2|          2|   N|                Y|          Five Stars|Love the taste bu...| 2015-08-31|Five Stars Love t...|[five, stars, lov...|[five, stars, lov...|(16,[0,2,4,6,7,10...|(16,[0,2,4,6,7,10...|\n",
            "|         US|   31525399| R56358YM1ZJ7I|B00Y1C9770|     729982780|Jif Chocolate Nut...|         Grocery|          5|            0|          0|   N|                N|      Great tasting!|I'm a member of t...| 2015-08-31|Great tasting! I'...|[great, tasting!,...|[great, tasting!,...|(16,[0,1,2,4,5,6,...|(16,[0,1,2,4,5,6,...|\n",
            "|         US|   19624355|R1ODXB3C9UP3NL|B00J074W94|       2499702|Orgain Organic Pl...|         Grocery|          1|            1|          3|   N|                N|Disgusting now an...|Used to be a dece...| 2015-08-31|Disgusting now an...|[disgusting, now,...|[disgusting, diff...|(16,[0,1,2,3,5,6,...|(16,[0,1,2,3,5,6,...|\n",
            "|         US|   31910375|R155ZMVLD5C9BP|B0001VKKOO|     189938205|Bragg - All Natur...|         Grocery|          4|            3|          4|   N|                Y|If you like soy s...|I cannot tell the...| 2015-08-31|If you like soy s...|[if, you, like, s...|[like, soy, sauce...|(16,[0,1,2,3,4,5,...|(16,[0,1,2,3,4,5,...|\n",
            "|         US|   12816533|R2IXW43PUNYM0G|B007TGH4CK|     398128262|Wholesome Sweeten...|         Grocery|          4|            1|          1|   N|                Y|          Four Stars|Good flavor and s...| 2015-08-31|Four Stars Good f...|[four, stars, goo...|[four, stars, goo...|(16,[2,6,7,8,11,1...|(16,[2,6,7,8,11,1...|\n",
            "|         US|   23208852|R3LYEG1QCK2BG0|B002HMN6SC|      18057786|Kadoya Pure Sesam...|         Grocery|          5|            0|          0|   N|                Y|          Five Stars|Great to use in r...| 2015-08-31|Five Stars Great ...|[five, stars, gre...|[five, stars, gre...|(16,[0,2,6,13,14]...|(16,[0,2,6,13,14]...|\n",
            "|         US|   17348415|R20LREICPM3YH0|B004NRHAZO|     595020880|Nishiki Premium B...|         Grocery|          5|            0|          0|   N|                Y|          Five Stars|It's rice. Have e...| 2015-08-31|Five Stars It's r...|[five, stars, it'...|[five, stars, ric...|(16,[2,5,6,7,9,12...|(16,[2,5,6,7,9,12...|\n",
            "|         US|   46763945| RHA5COCZDVB13|B00V7LJIG8|     173088090|Everly Passion Fr...|         Grocery|          5|            0|          0|   N|                Y|          Five Stars|Very good tasting...| 2015-08-31|Five Stars Very g...|[five, stars, ver...|[five, stars, goo...|(16,[2,4,6,8,9,14...|(16,[2,4,6,8,9,14...|\n",
            "|         US|     961747| RT9BGRQANMANE|B0000E2YFI|     120269621|Charms Blue Razzb...|         Grocery|          5|            0|          0|   N|                Y|           Excellent|They were perfect...| 2015-08-31|Excellent They we...|[excellent, they,...|[excellent, perfe...|(16,[4,5,9,13,14]...|(16,[4,5,9,13,14]...|\n",
            "|         US|   16888081| ROD1TU5JCS7JQ|B00VK5SQOQ|     204992966|Food Should Taste...|         Grocery|          5|            0|          0|   N|                N|              YUMMY!|Wow, these are so...| 2015-08-31|YUMMY! Wow, these...|[yummy!, wow,, th...|[yummy!, wow,, so...|(16,[0,1,3,4,6,8,...|(16,[0,1,3,4,6,8,...|\n",
            "|         US|   22765168|R3T6TTD2IN0EFZ|B00XDXMLL2|     971154239|Skippy Creamy Pea...|         Grocery|          1|            4|          4|   N|                N|1 Out Of 5 Of My ...|I bought this fro...| 2015-08-31|1 Out Of 5 Of My ...|[1, out, of, 5, o...|[1, 5, co-workers...|(16,[0,1,2,3,4,5,...|(16,[0,1,2,3,4,5,...|\n",
            "|         US|   36328996|R1OCUGZ444NKV3|B00MN4KX3A|     787182505|Celestial Seasoni...|         Grocery|          5|            5|          5|   N|                Y|delicious tea and...|I love this tea, ...| 2015-08-31|delicious tea and...|[delicious, tea, ...|[delicious, tea, ...|(16,[0,1,2,3,5,6,...|(16,[0,1,2,3,5,6,...|\n",
            "|         US|   27092724| RCQQGWTC4J4TZ|B004NTCE1M|     653570135|Nutiva Organic Vi...|         Grocery|          4|            0|          0|   N|                Y|    Best coconut oil|I have used servo...| 2015-08-31|Best coconut oil ...|[best, coconut, o...|[best, coconut, o...|(16,[0,1,2,3,4,5,...|(16,[0,1,2,3,4,5,...|\n",
            "+-----------+-----------+--------------+----------+--------------+--------------------+----------------+-----------+-------------+-----------+----+-----------------+--------------------+--------------------+-----------+--------------------+--------------------+--------------------+--------------------+--------------------+\n",
            "only showing top 20 rows\n",
            "\n"
          ],
          "name": "stdout"
        }
      ]
    },
    {
      "cell_type": "code",
      "metadata": {
        "colab": {
          "base_uri": "https://localhost:8080/"
        },
        "id": "4HDXvipqhjQ1",
        "outputId": "07cd8154-c184-4573-bdea-b00e8454985e"
      },
      "source": [
        " #drop non-useful columns\n",
        "reviews = scaledData.drop('marketplace', 'customer_id', 'review_id', 'product_parent', 'product_title', 'product_category', \n",
        "                          'vine', 'verified_purchase', 'review_date', 'helpful_votes', 'total_votes')\n",
        "reviews.show()"
      ],
      "execution_count": null,
      "outputs": [
        {
          "output_type": "stream",
          "text": [
            "+----------+-----------+--------------------+--------------------+--------------------+--------------------+--------------------+--------------------+--------------------+\n",
            "|product_id|star_rating|     review_headline|         review_body|              joined|             tokened|             stopped|              hashed|                 idf|\n",
            "+----------+-----------+--------------------+--------------------+--------------------+--------------------+--------------------+--------------------+--------------------+\n",
            "|B000SAQCWC|          5|Using these for y...|As a family aller...|Using these for y...|[using, these, fo...|[using, years, -,...|(16,[0,1,3,4,5,6,...|(16,[0,1,3,4,5,6,...|\n",
            "|B00509LVIQ|          5|           Wonderful|My favorite nut. ...|Wonderful My favo...|[wonderful, my, f...|[wonderful, favor...|(16,[0,1,2,3,4,6,...|(16,[0,1,2,3,4,6,...|\n",
            "|B00KHXESLC|          5|          Five Stars|This green tea ta...|Five Stars This g...|[five, stars, thi...|[five, stars, gre...|(16,[1,2,6,7,13],...|(16,[1,2,6,7,13],...|\n",
            "|B000F8JIIC|          5|          Five Stars|I love Melissa's ...|Five Stars I love...|[five, stars, i, ...|[five, stars, lov...|(16,[0,1,2,6,8,14...|(16,[0,1,2,6,8,14...|\n",
            "|B004ZWR9RQ|          5|          Five Stars|                good|     Five Stars good| [five, stars, good]| [five, stars, good]|(16,[2,6,8],[1.0,...|(16,[2,6,8],[0.27...|\n",
            "|B00AL6QBZ6|          2|           Not Happy|The popcorn was s...|Not Happy The pop...|[not, happy, the,...|[happy, popcorn, ...|(16,[3,14,15],[1....|(16,[3,14,15],[0....|\n",
            "|B00BCNSTRA|          5|          Five Stars|Love these bars, ...|Five Stars Love t...|[five, stars, lov...|[five, stars, lov...|(16,[0,1,2,4,5,6,...|(16,[0,1,2,4,5,6,...|\n",
            "|B0089MM2BG|          5|          Five Stars|Love the taste bu...|Five Stars Love t...|[five, stars, lov...|[five, stars, lov...|(16,[0,2,4,6,7,10...|(16,[0,2,4,6,7,10...|\n",
            "|B00Y1C9770|          5|      Great tasting!|I'm a member of t...|Great tasting! I'...|[great, tasting!,...|[great, tasting!,...|(16,[0,1,2,4,5,6,...|(16,[0,1,2,4,5,6,...|\n",
            "|B00J074W94|          1|Disgusting now an...|Used to be a dece...|Disgusting now an...|[disgusting, now,...|[disgusting, diff...|(16,[0,1,2,3,5,6,...|(16,[0,1,2,3,5,6,...|\n",
            "|B0001VKKOO|          4|If you like soy s...|I cannot tell the...|If you like soy s...|[if, you, like, s...|[like, soy, sauce...|(16,[0,1,2,3,4,5,...|(16,[0,1,2,3,4,5,...|\n",
            "|B007TGH4CK|          4|          Four Stars|Good flavor and s...|Four Stars Good f...|[four, stars, goo...|[four, stars, goo...|(16,[2,6,7,8,11,1...|(16,[2,6,7,8,11,1...|\n",
            "|B002HMN6SC|          5|          Five Stars|Great to use in r...|Five Stars Great ...|[five, stars, gre...|[five, stars, gre...|(16,[0,2,6,13,14]...|(16,[0,2,6,13,14]...|\n",
            "|B004NRHAZO|          5|          Five Stars|It's rice. Have e...|Five Stars It's r...|[five, stars, it'...|[five, stars, ric...|(16,[2,5,6,7,9,12...|(16,[2,5,6,7,9,12...|\n",
            "|B00V7LJIG8|          5|          Five Stars|Very good tasting...|Five Stars Very g...|[five, stars, ver...|[five, stars, goo...|(16,[2,4,6,8,9,14...|(16,[2,4,6,8,9,14...|\n",
            "|B0000E2YFI|          5|           Excellent|They were perfect...|Excellent They we...|[excellent, they,...|[excellent, perfe...|(16,[4,5,9,13,14]...|(16,[4,5,9,13,14]...|\n",
            "|B00VK5SQOQ|          5|              YUMMY!|Wow, these are so...|YUMMY! Wow, these...|[yummy!, wow,, th...|[yummy!, wow,, so...|(16,[0,1,3,4,6,8,...|(16,[0,1,3,4,6,8,...|\n",
            "|B00XDXMLL2|          1|1 Out Of 5 Of My ...|I bought this fro...|1 Out Of 5 Of My ...|[1, out, of, 5, o...|[1, 5, co-workers...|(16,[0,1,2,3,4,5,...|(16,[0,1,2,3,4,5,...|\n",
            "|B00MN4KX3A|          5|delicious tea and...|I love this tea, ...|delicious tea and...|[delicious, tea, ...|[delicious, tea, ...|(16,[0,1,2,3,5,6,...|(16,[0,1,2,3,5,6,...|\n",
            "|B004NTCE1M|          4|    Best coconut oil|I have used servo...|Best coconut oil ...|[best, coconut, o...|[best, coconut, o...|(16,[0,1,2,3,4,5,...|(16,[0,1,2,3,4,5,...|\n",
            "+----------+-----------+--------------------+--------------------+--------------------+--------------------+--------------------+--------------------+--------------------+\n",
            "only showing top 20 rows\n",
            "\n"
          ],
          "name": "stdout"
        }
      ]
    },
    {
      "cell_type": "code",
      "metadata": {
        "colab": {
          "base_uri": "https://localhost:8080/"
        },
        "id": "Ag70PT4UwtJp",
        "outputId": "950458cf-24f1-46ca-bbc7-e5d43f1e947c"
      },
      "source": [
        "# seeing if words are in dataframe and getting the count of the words\n",
        "# common words: https://bit.ly/3mGZWEu, \n",
        "from pyspark.sql.functions import col, udf\n",
        "from pyspark.sql.types import StringType, IntegerType, FloatType\n",
        "from pyspark.sql.functions import monotonically_increasing_id \n",
        "\n",
        "\n",
        "neg = [\"broken\", \"broke\", \"brake\", \"dead\", \"died\", \"busted\", \"cracked\", \"ruin\", \"ruined\", \"failure\", \"failed\", \"chipped\", \"unstable\", \"defective\", \"shotty\", \"bent\", \"stop\", \"stopped\", \t\t\n",
        "\t      \"poor\", \"poorly\", \"risk\", \"risky\", \"bias\", \"bad\", \"sucks\", \"cheap\", \"tiny\", \"pain\", \"junk\",\n",
        "\t      \"replace\", \"rid\", \"back\", \"return\", \"tossed\", \"waste\", \"wasted\", \"highly\", \"too\", \"only\",\n",
        "       \t\"difficult\", \"adverse\", \"lack\", \"unclear\", \"negative\", \"wrong\",\n",
        "       \t\"hazard\", \"harm\", \"error\", \"severe\", \"exclusion\", \"hard\", \"absence\", \"loss\", \"falls\",\n",
        "\t      \"terrible\", \"disappointed\", \"disapointing\", \"horrible\", \"horribly\", \"ridiculously\", \"ridiculous\", \"inaccurate\", \"useless\", \"complex\", \"limitation\", \"limited\", \"confusing\",\n",
        "\t      \"junk\", \"crap\", \"shit\", \"shitty\",\"sad\",\n",
        "\t      \"no\", \"not\", \"none\", \"nobody\", \"nothing\", \"neither\", \"nowhere\", \"never\", \"hardly\", \"scarcely\", \"barely\", \"doesn’t\", \"isn’t\", \"wasn’t\", \"shouldn’t\", \"wouldn’t\", \"couldn’t\", \n",
        "        \"won’t\", \"can’t\", \"don’t\", \"doesnt\", \"didn't\" ,\"isnt\", \"wasnt\", \"shouldnt\", \"wouldnt\", \"couldnt\", \"wont\", \"cant\", \"dont\", \"didnt\",\n",
        "        \"quit\", \"issue\", \"issues\", \"concerns\", \"concerned\", \"concern\", \"limitations\", \"problem\", \"problems\", \"hassle\", \"bother\"]\n",
        "\n",
        "def check(list):\n",
        "  counter = 0\n",
        "  for word in list:\n",
        "    if word in neg:\n",
        "      counter += 1\n",
        "  return counter\n",
        "\n",
        "def wordCount(list):\n",
        "  return len(list)\n",
        "\n",
        "def number(list):\n",
        "  return int(list)\n",
        "\n",
        "def ratio(list):\n",
        "  return float(list)\n",
        "\n",
        "pies = udf(lambda w : check (w), IntegerType())\n",
        "apples = udf(lambda t : wordCount (t), IntegerType())\n",
        "peach = udf(lambda e : number (e), IntegerType())\n",
        "pear = udf(lambda f : ratio (f), FloatType())\n",
        "zebra = reviews.withColumn('neg_count', pies(col('tokened')))\n",
        "zebra = zebra.select(\"*\").withColumn(\"id\", monotonically_increasing_id())\n",
        "zebra = zebra.select(\"*\").withColumn(\"total_word_count\", apples(col('tokened')))\n",
        "zebra = zebra.select(\"*\").withColumn(\"star_rating\", peach(col('star_rating')))\n",
        "zebra = zebra.select(\"*\").withColumn(\"ratio\", pear(col('neg_count')/col('total_word_count')))\n",
        "# zebra = zebra[zebra['total_word_count'] > 10]\n",
        "zebra.show()\n"
      ],
      "execution_count": null,
      "outputs": [
        {
          "output_type": "stream",
          "text": [
            "+----------+-----------+--------------------+--------------------+--------------------+--------------------+--------------------+--------------------+--------------------+---------+---+----------------+------------+\n",
            "|product_id|star_rating|     review_headline|         review_body|              joined|             tokened|             stopped|              hashed|                 idf|neg_count| id|total_word_count|       ratio|\n",
            "+----------+-----------+--------------------+--------------------+--------------------+--------------------+--------------------+--------------------+--------------------+---------+---+----------------+------------+\n",
            "|B000SAQCWC|          5|Using these for y...|As a family aller...|Using these for y...|[using, these, fo...|[using, years, -,...|(16,[0,1,3,4,5,6,...|(16,[0,1,3,4,5,6,...|        0|  0|              91|         0.0|\n",
            "|B00509LVIQ|          5|           Wonderful|My favorite nut. ...|Wonderful My favo...|[wonderful, my, f...|[wonderful, favor...|(16,[0,1,2,3,4,6,...|(16,[0,1,2,3,4,6,...|        0|  1|              18|         0.0|\n",
            "|B00KHXESLC|          5|          Five Stars|This green tea ta...|Five Stars This g...|[five, stars, thi...|[five, stars, gre...|(16,[1,2,6,7,13],...|(16,[1,2,6,7,13],...|        0|  2|              13|         0.0|\n",
            "|B000F8JIIC|          5|          Five Stars|I love Melissa's ...|Five Stars I love...|[five, stars, i, ...|[five, stars, lov...|(16,[0,1,2,6,8,14...|(16,[0,1,2,6,8,14...|        0|  3|              18|         0.0|\n",
            "|B004ZWR9RQ|          5|          Five Stars|                good|     Five Stars good| [five, stars, good]| [five, stars, good]|(16,[2,6,8],[1.0,...|(16,[2,6,8],[0.27...|        0|  4|               3|         0.0|\n",
            "|B00AL6QBZ6|          2|           Not Happy|The popcorn was s...|Not Happy The pop...|[not, happy, the,...|[happy, popcorn, ...|(16,[3,14,15],[1....|(16,[3,14,15],[0....|        1|  5|               6|  0.16666667|\n",
            "|B00BCNSTRA|          5|          Five Stars|Love these bars, ...|Five Stars Love t...|[five, stars, lov...|[five, stars, lov...|(16,[0,1,2,4,5,6,...|(16,[0,1,2,4,5,6,...|        0|  6|              16|         0.0|\n",
            "|B0089MM2BG|          5|          Five Stars|Love the taste bu...|Five Stars Love t...|[five, stars, lov...|[five, stars, lov...|(16,[0,2,4,6,7,10...|(16,[0,2,4,6,7,10...|        1|  7|              21|  0.04761905|\n",
            "|B00Y1C9770|          5|      Great tasting!|I'm a member of t...|Great tasting! I'...|[great, tasting!,...|[great, tasting!,...|(16,[0,1,2,4,5,6,...|(16,[0,1,2,4,5,6,...|        0|  8|              47|         0.0|\n",
            "|B00J074W94|          1|Disgusting now an...|Used to be a dece...|Disgusting now an...|[disgusting, now,...|[disgusting, diff...|(16,[0,1,2,3,5,6,...|(16,[0,1,2,3,5,6,...|        4|  9|              60|  0.06666667|\n",
            "|B0001VKKOO|          4|If you like soy s...|I cannot tell the...|If you like soy s...|[if, you, like, s...|[like, soy, sauce...|(16,[0,1,2,3,4,5,...|(16,[0,1,2,3,4,5,...|        0| 10|             117|         0.0|\n",
            "|B007TGH4CK|          4|          Four Stars|Good flavor and s...|Four Stars Good f...|[four, stars, goo...|[four, stars, goo...|(16,[2,6,7,8,11,1...|(16,[2,6,7,8,11,1...|        0| 11|              20|         0.0|\n",
            "|B002HMN6SC|          5|          Five Stars|Great to use in r...|Five Stars Great ...|[five, stars, gre...|[five, stars, gre...|(16,[0,2,6,13,14]...|(16,[0,2,6,13,14]...|        0| 12|               7|         0.0|\n",
            "|B004NRHAZO|          5|          Five Stars|It's rice. Have e...|Five Stars It's r...|[five, stars, it'...|[five, stars, ric...|(16,[2,5,6,7,9,12...|(16,[2,5,6,7,9,12...|        0| 13|              10|         0.0|\n",
            "|B00V7LJIG8|          5|          Five Stars|Very good tasting...|Five Stars Very g...|[five, stars, ver...|[five, stars, goo...|(16,[2,4,6,8,9,14...|(16,[2,4,6,8,9,14...|        0| 14|              15|         0.0|\n",
            "|B0000E2YFI|          5|           Excellent|They were perfect...|Excellent They we...|[excellent, they,...|[excellent, perfe...|(16,[4,5,9,13,14]...|(16,[4,5,9,13,14]...|        0| 15|               9|         0.0|\n",
            "|B00VK5SQOQ|          5|              YUMMY!|Wow, these are so...|YUMMY! Wow, these...|[yummy!, wow,, th...|[yummy!, wow,, so...|(16,[0,1,3,4,6,8,...|(16,[0,1,3,4,6,8,...|        1| 16|              21|  0.04761905|\n",
            "|B00XDXMLL2|          1|1 Out Of 5 Of My ...|I bought this fro...|1 Out Of 5 Of My ...|[1, out, of, 5, o...|[1, 5, co-workers...|(16,[0,1,2,3,4,5,...|(16,[0,1,2,3,4,5,...|        1| 17|             177|0.0056497175|\n",
            "|B00MN4KX3A|          5|delicious tea and...|I love this tea, ...|delicious tea and...|[delicious, tea, ...|[delicious, tea, ...|(16,[0,1,2,3,5,6,...|(16,[0,1,2,3,5,6,...|        1| 18|              67| 0.014925373|\n",
            "|B004NTCE1M|          4|    Best coconut oil|I have used servo...|Best coconut oil ...|[best, coconut, o...|[best, coconut, o...|(16,[0,1,2,3,4,5,...|(16,[0,1,2,3,4,5,...|        0| 19|              81|         0.0|\n",
            "+----------+-----------+--------------------+--------------------+--------------------+--------------------+--------------------+--------------------+--------------------+---------+---+----------------+------------+\n",
            "only showing top 20 rows\n",
            "\n"
          ],
          "name": "stdout"
        }
      ]
    },
    {
      "cell_type": "code",
      "metadata": {
        "colab": {
          "base_uri": "https://localhost:8080/"
        },
        "id": "6eE1WH_qP73_",
        "outputId": "821b92f5-b154-400e-e900-6b142cb0fdf5"
      },
      "source": [
        "# smaller dataframe to work with\n",
        "(panda, fish) = zebra.randomSplit([0.2, 0.8])\n",
        "panda.show()"
      ],
      "execution_count": null,
      "outputs": [
        {
          "output_type": "stream",
          "text": [
            "+----------+-----------+--------------------+--------------------+--------------------+--------------------+--------------------+--------------------+--------------------+---------+------+----------------+-----------+\n",
            "|product_id|star_rating|     review_headline|         review_body|              joined|             tokened|             stopped|              hashed|                 idf|neg_count|    id|total_word_count|      ratio|\n",
            "+----------+-----------+--------------------+--------------------+--------------------+--------------------+--------------------+--------------------+--------------------+---------+------+----------------+-----------+\n",
            "|0268956898|          5|You will lose wei...|This coffee has b...|You will lose wei...|[you, will, lose,...|[lose, weight, fe...|(16,[0,1,4,5,6,7,...|(16,[0,1,4,5,6,7,...|        0|116630|              37|        0.0|\n",
            "|3334353648|          5|     Fresh and Good.|Good Fresh ginger...|Fresh and Good. G...|[fresh, and, good...|[fresh, good., go...|(16,[1,2,3,5,7,8,...|(16,[1,2,3,5,7,8,...|        0| 51304|              33|        0.0|\n",
            "|3960361378|          5|          Five Stars|I love the chocol...|Five Stars I love...|[five, stars, i, ...|[five, stars, lov...|(16,[0,1,2,6,9,10...|(16,[0,1,2,6,9,10...|        0|134415|              13|        0.0|\n",
            "|4562135158|          1|            All duds|I am very dissapo...|All duds I am ver...|[all, duds, i, am...|[duds, dissapoint...|(16,[4,6,8,9,11,1...|(16,[4,6,8,9,11,1...|        1|252744|              24|0.041666668|\n",
            "|4639725183|          5|          Five Stars|      Love this tea!|Five Stars Love t...|[five, stars, lov...|[five, stars, lov...|(16,[0,2,6],[1.0,...|(16,[0,2,6],[0.39...|        0| 34150|               5|        0.0|\n",
            "|4639725183|          5|           Great tea|Love the tea. The...|Great tea Love th...|[great, tea, love...|[great, tea, love...|(16,[0,4,6,9,10,1...|(16,[0,4,6,9,10,1...|        0| 55049|              20|        0.0|\n",
            "|4639725418|          2| Not the best flavor|Weird peppery fla...|Not the best flav...|[not, the, best, ...|[best, flavor, we...|(16,[0,3,4,6,9,11...|(16,[0,3,4,6,9,11...|        2|224618|              12| 0.16666667|\n",
            "|4639725418|          5|          Five Stars|Love Fresh grated...|Five Stars Love F...|[five, stars, lov...|[five, stars, lov...|(16,[0,2,6,9,14],...|(16,[0,2,6,9,14],...|        0| 19366|               6|        0.0|\n",
            "|4639725418|          5|This is item that...|This is item that...|This is item that...|[this, is, item, ...|[item, unable, fi...|(16,[0,1,2,3,5,7,...|(16,[0,1,2,3,5,7,...|        0|  1628|              48|        0.0|\n",
            "|5245786656|          5|Nice plants nice ...|They lived for a ...|Nice plants nice ...|[nice, plants, ni...|[nice, plants, ni...|(16,[0,1,2,3,5,6,...|(16,[0,1,2,3,5,6,...|        3|316507|              50|       0.06|\n",
            "|5253635351|          2|           Two Stars|Didn't help my as...|Two Stars Didn't ...|[two, stars, didn...|[two, stars, help...|(16,[2,3,5,8],[1....|(16,[2,3,5,8],[0....|        1|356526|               6| 0.16666667|\n",
            "|5463213682|          5|               Yummy|Pricy but worth i...|Yummy Pricy but w...|[yummy, pricy, bu...|[yummy, pricy, wo...|(16,[1,3,10,13,15...|(16,[1,3,10,13,15...|        0| 67915|              10|        0.0|\n",
            "|616719923X|          5|  Best KitKats Ever!|If you haven't tr...|Best KitKats Ever...|[best, kitkats, e...|[best, kitkats, e...|(16,[0,1,2,3,4,5,...|(16,[0,1,2,3,4,5,...|        1|101813|              32|    0.03125|\n",
            "|7621915358|          5|you got, to get i...|I've drink this c...|you got, to get i...|[you, got,, to, g...|[got,, get, drink...|(16,[2,3,4,5,9,10...|(16,[2,3,4,5,9,10...|        1|178397|              33|0.030303031|\n",
            "|8166679507|          4|... corner not in...|Had a chip on the...|... corner not in...|[..., corner, not...|[..., corner, pkg...|(16,[1,2,7,8,10,1...|(16,[1,2,7,8,10,1...|        2|187378|              35|0.057142857|\n",
            "|9742356831|          2|Meeh - it's too s...|Super hot and not...|Meeh - it's too s...|[meeh, -, it's, t...|[meeh, -, spicy, ...|(16,[0,1,3,5,6,10...|(16,[0,1,3,5,6,10...|        2|216577|              21|  0.0952381|\n",
            "|9742356831|          4|          Four Stars|                 YUM|      Four Stars YUM|  [four, stars, yum]|  [four, stars, yum]|(16,[2,7,11],[1.0...|(16,[2,7,11],[0.2...|        0|222424|               3|        0.0|\n",
            "|9742356831|          4|          good curry|pretty good curry...|good curry pretty...|[good, curry, pre...|[good, curry, pre...|(16,[0,2,3,8,11,1...|(16,[0,2,3,8,11,1...|        1|379995|              23| 0.04347826|\n",
            "|9742356831|          5|Absolutely perfec...|Absolutely perfec...|Absolutely perfec...|[absolutely, perf...|[absolutely, perf...|(16,[0,1,2,5,7,8,...|(16,[0,1,2,5,7,8,...|        0| 26844|              51|        0.0|\n",
            "|9742356831|          5|          Five Stars|Great flavor! A l...|Five Stars Great ...|[five, stars, gre...|[five, stars, gre...|(16,[1,2,3,6,8,12...|(16,[1,2,3,6,8,12...|        0| 42517|              15|        0.0|\n",
            "+----------+-----------+--------------------+--------------------+--------------------+--------------------+--------------------+--------------------+--------------------+---------+------+----------------+-----------+\n",
            "only showing top 20 rows\n",
            "\n"
          ],
          "name": "stdout"
        }
      ]
    },
    {
      "cell_type": "code",
      "metadata": {
        "colab": {
          "base_uri": "https://localhost:8080/"
        },
        "id": "a_seH_aIWZZx",
        "outputId": "0941ead3-f434-4b61-8247-c996896b117d"
      },
      "source": [
        "dogs = zebra.filter((zebra.id > 0) & (zebra.id < 2402212))\n",
        "dogs.show()"
      ],
      "execution_count": null,
      "outputs": [
        {
          "output_type": "stream",
          "text": [
            "+----------+-----------+--------------------+--------------------+--------------------+--------------------+--------------------+--------------------+--------------------+---------+---+----------------+------------+\n",
            "|product_id|star_rating|     review_headline|         review_body|              joined|             tokened|             stopped|              hashed|                 idf|neg_count| id|total_word_count|       ratio|\n",
            "+----------+-----------+--------------------+--------------------+--------------------+--------------------+--------------------+--------------------+--------------------+---------+---+----------------+------------+\n",
            "|B00509LVIQ|          5|           Wonderful|My favorite nut. ...|Wonderful My favo...|[wonderful, my, f...|[wonderful, favor...|(16,[0,1,2,3,4,6,...|(16,[0,1,2,3,4,6,...|        0|  1|              18|         0.0|\n",
            "|B00KHXESLC|          5|          Five Stars|This green tea ta...|Five Stars This g...|[five, stars, thi...|[five, stars, gre...|(16,[1,2,6,7,13],...|(16,[1,2,6,7,13],...|        0|  2|              13|         0.0|\n",
            "|B000F8JIIC|          5|          Five Stars|I love Melissa's ...|Five Stars I love...|[five, stars, i, ...|[five, stars, lov...|(16,[0,1,2,6,8,14...|(16,[0,1,2,6,8,14...|        0|  3|              18|         0.0|\n",
            "|B004ZWR9RQ|          5|          Five Stars|                good|     Five Stars good| [five, stars, good]| [five, stars, good]|(16,[2,6,8],[1.0,...|(16,[2,6,8],[0.27...|        0|  4|               3|         0.0|\n",
            "|B00AL6QBZ6|          2|           Not Happy|The popcorn was s...|Not Happy The pop...|[not, happy, the,...|[happy, popcorn, ...|(16,[3,14,15],[1....|(16,[3,14,15],[0....|        1|  5|               6|  0.16666667|\n",
            "|B00BCNSTRA|          5|          Five Stars|Love these bars, ...|Five Stars Love t...|[five, stars, lov...|[five, stars, lov...|(16,[0,1,2,4,5,6,...|(16,[0,1,2,4,5,6,...|        0|  6|              16|         0.0|\n",
            "|B0089MM2BG|          5|          Five Stars|Love the taste bu...|Five Stars Love t...|[five, stars, lov...|[five, stars, lov...|(16,[0,2,4,6,7,10...|(16,[0,2,4,6,7,10...|        1|  7|              21|  0.04761905|\n",
            "|B00Y1C9770|          5|      Great tasting!|I'm a member of t...|Great tasting! I'...|[great, tasting!,...|[great, tasting!,...|(16,[0,1,2,4,5,6,...|(16,[0,1,2,4,5,6,...|        0|  8|              47|         0.0|\n",
            "|B00J074W94|          1|Disgusting now an...|Used to be a dece...|Disgusting now an...|[disgusting, now,...|[disgusting, diff...|(16,[0,1,2,3,5,6,...|(16,[0,1,2,3,5,6,...|        4|  9|              60|  0.06666667|\n",
            "|B0001VKKOO|          4|If you like soy s...|I cannot tell the...|If you like soy s...|[if, you, like, s...|[like, soy, sauce...|(16,[0,1,2,3,4,5,...|(16,[0,1,2,3,4,5,...|        0| 10|             117|         0.0|\n",
            "|B007TGH4CK|          4|          Four Stars|Good flavor and s...|Four Stars Good f...|[four, stars, goo...|[four, stars, goo...|(16,[2,6,7,8,11,1...|(16,[2,6,7,8,11,1...|        0| 11|              20|         0.0|\n",
            "|B002HMN6SC|          5|          Five Stars|Great to use in r...|Five Stars Great ...|[five, stars, gre...|[five, stars, gre...|(16,[0,2,6,13,14]...|(16,[0,2,6,13,14]...|        0| 12|               7|         0.0|\n",
            "|B004NRHAZO|          5|          Five Stars|It's rice. Have e...|Five Stars It's r...|[five, stars, it'...|[five, stars, ric...|(16,[2,5,6,7,9,12...|(16,[2,5,6,7,9,12...|        0| 13|              10|         0.0|\n",
            "|B00V7LJIG8|          5|          Five Stars|Very good tasting...|Five Stars Very g...|[five, stars, ver...|[five, stars, goo...|(16,[2,4,6,8,9,14...|(16,[2,4,6,8,9,14...|        0| 14|              15|         0.0|\n",
            "|B0000E2YFI|          5|           Excellent|They were perfect...|Excellent They we...|[excellent, they,...|[excellent, perfe...|(16,[4,5,9,13,14]...|(16,[4,5,9,13,14]...|        0| 15|               9|         0.0|\n",
            "|B00VK5SQOQ|          5|              YUMMY!|Wow, these are so...|YUMMY! Wow, these...|[yummy!, wow,, th...|[yummy!, wow,, so...|(16,[0,1,3,4,6,8,...|(16,[0,1,3,4,6,8,...|        1| 16|              21|  0.04761905|\n",
            "|B00XDXMLL2|          1|1 Out Of 5 Of My ...|I bought this fro...|1 Out Of 5 Of My ...|[1, out, of, 5, o...|[1, 5, co-workers...|(16,[0,1,2,3,4,5,...|(16,[0,1,2,3,4,5,...|        1| 17|             177|0.0056497175|\n",
            "|B00MN4KX3A|          5|delicious tea and...|I love this tea, ...|delicious tea and...|[delicious, tea, ...|[delicious, tea, ...|(16,[0,1,2,3,5,6,...|(16,[0,1,2,3,5,6,...|        1| 18|              67| 0.014925373|\n",
            "|B004NTCE1M|          4|    Best coconut oil|I have used servo...|Best coconut oil ...|[best, coconut, o...|[best, coconut, o...|(16,[0,1,2,3,4,5,...|(16,[0,1,2,3,4,5,...|        0| 19|              81|         0.0|\n",
            "|B004BGM3HC|          5|          Five Stars|Taste as remember...|Five Stars Taste ...|[five, stars, tas...|[five, stars, tas...|(16,[2,3,6,10,15]...|(16,[2,3,6,10,15]...|        0| 20|               9|         0.0|\n",
            "+----------+-----------+--------------------+--------------------+--------------------+--------------------+--------------------+--------------------+--------------------+---------+---+----------------+------------+\n",
            "only showing top 20 rows\n",
            "\n"
          ],
          "name": "stdout"
        }
      ]
    },
    {
      "cell_type": "code",
      "metadata": {
        "colab": {
          "base_uri": "https://localhost:8080/"
        },
        "id": "BmuwSDJPihwv",
        "outputId": "bcd80845-ab24-4c6a-f2b0-c681e3e2ff43"
      },
      "source": [
        "features = dogs.drop(\"product_id\", \"star_rating\", \"review_headline\", \"review_body\", \"joined\", \"tokened\", \"stopped\", \"hashed\", \"id\", \"total_word_count\")\n",
        "features.show()"
      ],
      "execution_count": null,
      "outputs": [
        {
          "output_type": "stream",
          "text": [
            "+--------------------+---------+------------+\n",
            "|                 idf|neg_count|       ratio|\n",
            "+--------------------+---------+------------+\n",
            "|(16,[0,1,2,3,4,6,...|        0|         0.0|\n",
            "|(16,[1,2,6,7,13],...|        0|         0.0|\n",
            "|(16,[0,1,2,6,8,14...|        0|         0.0|\n",
            "|(16,[2,6,8],[0.27...|        0|         0.0|\n",
            "|(16,[3,14,15],[0....|        1|  0.16666667|\n",
            "|(16,[0,1,2,4,5,6,...|        0|         0.0|\n",
            "|(16,[0,2,4,6,7,10...|        1|  0.04761905|\n",
            "|(16,[0,1,2,4,5,6,...|        0|         0.0|\n",
            "|(16,[0,1,2,3,5,6,...|        4|  0.06666667|\n",
            "|(16,[0,1,2,3,4,5,...|        0|         0.0|\n",
            "|(16,[2,6,7,8,11,1...|        0|         0.0|\n",
            "|(16,[0,2,6,13,14]...|        0|         0.0|\n",
            "|(16,[2,5,6,7,9,12...|        0|         0.0|\n",
            "|(16,[2,4,6,8,9,14...|        0|         0.0|\n",
            "|(16,[4,5,9,13,14]...|        0|         0.0|\n",
            "|(16,[0,1,3,4,6,8,...|        1|  0.04761905|\n",
            "|(16,[0,1,2,3,4,5,...|        1|0.0056497175|\n",
            "|(16,[0,1,2,3,5,6,...|        1| 0.014925373|\n",
            "|(16,[0,1,2,3,4,5,...|        0|         0.0|\n",
            "|(16,[2,3,6,10,15]...|        0|         0.0|\n",
            "+--------------------+---------+------------+\n",
            "only showing top 20 rows\n",
            "\n"
          ],
          "name": "stdout"
        }
      ]
    },
    {
      "cell_type": "code",
      "metadata": {
        "id": "Tfea1KUuiYcA"
      },
      "source": [
        "from pyspark.ml.feature import VectorAssembler\n",
        "assembler = VectorAssembler(\n",
        "    inputCols=features.columns,\n",
        "    outputCol=\"features\")"
      ],
      "execution_count": null,
      "outputs": []
    },
    {
      "cell_type": "code",
      "metadata": {
        "id": "TS_OmpPrjV2k"
      },
      "source": [
        "output = assembler.transform(dogs).select('features','star_rating')"
      ],
      "execution_count": null,
      "outputs": []
    },
    {
      "cell_type": "code",
      "metadata": {
        "id": "qMcsZPm5jz7z"
      },
      "source": [
        "train,test = output.randomSplit([0.75, 0.25])"
      ],
      "execution_count": null,
      "outputs": []
    },
    {
      "cell_type": "code",
      "metadata": {
        "colab": {
          "base_uri": "https://localhost:8080/"
        },
        "id": "fb6Yso8d4iK5",
        "outputId": "aa750930-e0a4-463b-86a1-9da5fa5babcb"
      },
      "source": [
        "from pyspark.ml.regression import LinearRegression\n",
        "\n",
        "model = LinearRegression(featuresCol='features', labelCol=\"star_rating\")\n",
        "print(type(dogs))\n",
        "fitted_model = model.fit(train)\n",
        "print(\"Coefficients: \" + str(fitted_model.coefficients))\n",
        "print(\"Intercept: \" + str(fitted_model.intercept))"
      ],
      "execution_count": null,
      "outputs": [
        {
          "output_type": "stream",
          "text": [
            "<class 'pyspark.sql.dataframe.DataFrame'>\n",
            "Coefficients: [0.08249260103598646,0.0010068700690373778,-0.2087658296108812,-0.007323467606618105,-0.035910211690995814,-0.014540547422961573,0.31303633674342757,-0.040959062542633415,-0.0063829667557174325,-0.00491461188698809,-0.0314192168194487,0.036067912708002844,-0.013221706364462916,0.07747153767200315,0.14627848224121662,-0.09899722951567654,-0.20692175678210184,-6.700768367785838]\n",
            "Intercept: 4.566397288457888\n"
          ],
          "name": "stdout"
        }
      ]
    },
    {
      "cell_type": "code",
      "metadata": {
        "colab": {
          "base_uri": "https://localhost:8080/"
        },
        "id": "cthRlDv5q6gb",
        "outputId": "8bf8a24a-ba94-4d3b-f88d-6c02193b3c43"
      },
      "source": [
        "trainSummary = fitted_model.summary\n",
        "print(\"RMSE: %f\" % trainSummary.rootMeanSquaredError)\n",
        "print(\"\\nr2: %f\" % trainSummary.r2)"
      ],
      "execution_count": null,
      "outputs": [
        {
          "output_type": "stream",
          "text": [
            "RMSE: 1.075899\n",
            "\n",
            "r2: 0.183877\n"
          ],
          "name": "stdout"
        }
      ]
    },
    {
      "cell_type": "code",
      "metadata": {
        "colab": {
          "base_uri": "https://localhost:8080/"
        },
        "id": "wXs5P1EGZeNl",
        "outputId": "a4c68d0a-69d5-4407-b144-bae57143416d"
      },
      "source": [
        "from pyspark.sql.functions import abs\n",
        "predictions = fitted_model.transform(test)\n",
        "x = ((predictions['star_rating']- predictions['prediction'])/predictions['star_rating'])*100\n",
        "predictions = predictions.withColumn('Accuracy', abs(x))\n",
        "predictions.select(\"prediction\",\"star_rating\",\"Accuracy\",\"features\").show()"
      ],
      "execution_count": null,
      "outputs": [
        {
          "output_type": "stream",
          "text": [
            "+-----------------+-----------+------------------+--------------------+\n",
            "|       prediction|star_rating|          Accuracy|            features|\n",
            "+-----------------+-----------+------------------+--------------------+\n",
            "|4.632209248968409|          1| 363.2209248968409|(18,[0],[0.797792...|\n",
            "|4.632209248968409|          1| 363.2209248968409|(18,[0],[0.797792...|\n",
            "|4.632209248968409|          3| 54.40697496561363|(18,[0],[0.797792...|\n",
            "|4.632209248968409|          4|15.805231224210225|(18,[0],[0.797792...|\n",
            "|4.632209248968409|          4|15.805231224210225|(18,[0],[0.797792...|\n",
            "|4.632209248968409|          4|15.805231224210225|(18,[0],[0.797792...|\n",
            "|4.632209248968409|          5|7.3558150206318205|(18,[0],[0.797792...|\n",
            "|4.632209248968409|          5|7.3558150206318205|(18,[0],[0.797792...|\n",
            "|4.632209248968409|          5|7.3558150206318205|(18,[0],[0.797792...|\n",
            "|4.632209248968409|          5|7.3558150206318205|(18,[0],[0.797792...|\n",
            "|4.632209248968409|          5|7.3558150206318205|(18,[0],[0.797792...|\n",
            "|4.632209248968409|          5|7.3558150206318205|(18,[0],[0.797792...|\n",
            "|4.632209248968409|          5|7.3558150206318205|(18,[0],[0.797792...|\n",
            "|4.632209248968409|          5|7.3558150206318205|(18,[0],[0.797792...|\n",
            "|4.632209248968409|          5|7.3558150206318205|(18,[0],[0.797792...|\n",
            "|4.632209248968409|          5|7.3558150206318205|(18,[0],[0.797792...|\n",
            "|4.632209248968409|          5|7.3558150206318205|(18,[0],[0.797792...|\n",
            "|4.632209248968409|          5|7.3558150206318205|(18,[0],[0.797792...|\n",
            "|4.632209248968409|          5|7.3558150206318205|(18,[0],[0.797792...|\n",
            "|4.632209248968409|          5|7.3558150206318205|(18,[0],[0.797792...|\n",
            "+-----------------+-----------+------------------+--------------------+\n",
            "only showing top 20 rows\n",
            "\n"
          ],
          "name": "stdout"
        }
      ]
    },
    {
      "cell_type": "code",
      "metadata": {
        "colab": {
          "base_uri": "https://localhost:8080/"
        },
        "id": "T1uLHqHzqOzF",
        "outputId": "be105da4-8011-45f3-c8be-e3cb4166ac90"
      },
      "source": [
        "#r square for test dataset\n",
        "from pyspark.ml.evaluation import RegressionEvaluator\n",
        "pred_evaluator = RegressionEvaluator(predictionCol=\"prediction\", \\\n",
        "                 labelCol=\"star_rating\",metricName=\"r2\")\n",
        "print(\"R Squared (R2) on test data = %g\" % pred_evaluator.evaluate(predictions))"
      ],
      "execution_count": null,
      "outputs": [
        {
          "output_type": "stream",
          "text": [
            "R Squared (R2) on test data = 0.185658\n"
          ],
          "name": "stdout"
        }
      ]
    },
    {
      "cell_type": "code",
      "metadata": {
        "colab": {
          "base_uri": "https://localhost:8080/"
        },
        "id": "Rec18Wjb0FGP",
        "outputId": "913fc16e-1712-416c-ca3e-ef4ee4aeffbf"
      },
      "source": [
        "#adjusted r2\n",
        "r2 = trainSummary.r2\n",
        "n = dogs.count()\n",
        "p = len(dogs.columns)\n",
        "adjusted_r2 = 1-(1-r2)*(n-1)/(n-p-1)\n",
        "adjusted_r2"
      ],
      "execution_count": null,
      "outputs": [
        {
          "output_type": "execute_result",
          "data": {
            "text/plain": [
              "0.18385278742252487"
            ]
          },
          "metadata": {
            "tags": []
          },
          "execution_count": 92
        }
      ]
    },
    {
      "cell_type": "code",
      "metadata": {
        "id": "ow-QGLB51CtE"
      },
      "source": [
        "lin_reg = LinearRegression(featuresCol = 'features', labelCol='star_rating',maxIter=50, regParam=0.12, elasticNetParam=0.2)\n",
        "linear_model = lin_reg.fit(train)"
      ],
      "execution_count": null,
      "outputs": []
    }
  ]
}