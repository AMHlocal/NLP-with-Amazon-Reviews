{
  "nbformat": 4,
  "nbformat_minor": 0,
  "metadata": {
    "colab": {
      "name": "Untitled0.ipynb",
      "provenance": [],
      "collapsed_sections": [],
      "authorship_tag": "ABX9TyNGzEGuuXNJRwIWaKkza3oI",
      "include_colab_link": true
    },
    "kernelspec": {
      "name": "python3",
      "display_name": "Python 3"
    }
  },
  "cells": [
    {
      "cell_type": "markdown",
      "metadata": {
        "id": "view-in-github",
        "colab_type": "text"
      },
      "source": [
        "<a href=\"https://colab.research.google.com/github/AMHlocal/final-project/blob/gs-branch/Cloud-ETL.ipynb\" target=\"_parent\"><img src=\"https://colab.research.google.com/assets/colab-badge.svg\" alt=\"Open In Colab\"/></a>"
      ]
    },
    {
      "cell_type": "markdown",
      "metadata": {
        "id": "eyXLyBF0lqGC"
      },
      "source": [
        "\n",
        "**The code in the first cell will update the Spark version**\n",
        "\n",
        "\n"
      ]
    },
    {
      "cell_type": "code",
      "metadata": {
        "id": "4l60qeLWOtCQ",
        "colab": {
          "base_uri": "https://localhost:8080/"
        },
        "outputId": "941ce555-027c-4dd7-969d-a23dd9ccea1f"
      },
      "source": [
        "import os\n",
        "# Find the latest version of spark 3.0  from http://www-us.apache.org/dist/spark/ and enter as the spark version\n",
        "# For example:\n",
        "spark_version = 'spark-3.0.1'\n",
        "# spark_version = 'spark-3.<spark version>'\n",
        "os.environ['SPARK_VERSION']=spark_version\n",
        "\n",
        "# Install Spark and Java\n",
        "!apt-get update\n",
        "!apt-get install openjdk-11-jdk-headless -qq > /dev/null\n",
        "!wget -q http://www-us.apache.org/dist/spark/$SPARK_VERSION/$SPARK_VERSION-bin-hadoop2.7.tgz\n",
        "!tar xf $SPARK_VERSION-bin-hadoop2.7.tgz\n",
        "!pip install -q findspark\n",
        "\n",
        "# Set Environment Variables\n",
        "import os\n",
        "os.environ[\"JAVA_HOME\"] = \"/usr/lib/jvm/java-11-openjdk-amd64\"\n",
        "os.environ[\"SPARK_HOME\"] = f\"/content/{spark_version}-bin-hadoop2.7\"\n",
        "\n",
        "# Start a SparkSession\n",
        "import findspark\n",
        "findspark.init()\n"
      ],
      "execution_count": 2,
      "outputs": [
        {
          "output_type": "stream",
          "text": [
            "\r0% [Working]\r            \rIgn:1 https://developer.download.nvidia.com/compute/cuda/repos/ubuntu1804/x86_64  InRelease\n",
            "Get:2 https://cloud.r-project.org/bin/linux/ubuntu bionic-cran40/ InRelease [3,626 B]\n",
            "Get:3 http://security.ubuntu.com/ubuntu bionic-security InRelease [88.7 kB]\n",
            "Get:4 http://ppa.launchpad.net/c2d4u.team/c2d4u4.0+/ubuntu bionic InRelease [15.9 kB]\n",
            "Ign:5 https://developer.download.nvidia.com/compute/machine-learning/repos/ubuntu1804/x86_64  InRelease\n",
            "Hit:6 http://archive.ubuntu.com/ubuntu bionic InRelease\n",
            "Get:7 https://developer.download.nvidia.com/compute/cuda/repos/ubuntu1804/x86_64  Release [697 B]\n",
            "Hit:8 https://developer.download.nvidia.com/compute/machine-learning/repos/ubuntu1804/x86_64  Release\n",
            "Get:9 https://developer.download.nvidia.com/compute/cuda/repos/ubuntu1804/x86_64  Release.gpg [836 B]\n",
            "Get:10 http://archive.ubuntu.com/ubuntu bionic-updates InRelease [88.7 kB]\n",
            "Get:11 http://ppa.launchpad.net/graphics-drivers/ppa/ubuntu bionic InRelease [21.3 kB]\n",
            "Get:12 http://archive.ubuntu.com/ubuntu bionic-backports InRelease [74.6 kB]\n",
            "Ign:14 https://developer.download.nvidia.com/compute/cuda/repos/ubuntu1804/x86_64  Packages\n",
            "Get:14 https://developer.download.nvidia.com/compute/cuda/repos/ubuntu1804/x86_64  Packages [444 kB]\n",
            "Get:15 http://ppa.launchpad.net/c2d4u.team/c2d4u4.0+/ubuntu bionic/main Sources [1,692 kB]\n",
            "Get:16 http://security.ubuntu.com/ubuntu bionic-security/universe amd64 Packages [1,369 kB]\n",
            "Get:17 http://archive.ubuntu.com/ubuntu bionic-updates/restricted amd64 Packages [265 kB]\n",
            "Get:18 http://archive.ubuntu.com/ubuntu bionic-updates/universe amd64 Packages [2,134 kB]\n",
            "Get:19 http://security.ubuntu.com/ubuntu bionic-security/main amd64 Packages [1,815 kB]\n",
            "Get:20 http://security.ubuntu.com/ubuntu bionic-security/restricted amd64 Packages [236 kB]\n",
            "Get:21 http://ppa.launchpad.net/c2d4u.team/c2d4u4.0+/ubuntu bionic/main amd64 Packages [866 kB]\n",
            "Get:22 http://archive.ubuntu.com/ubuntu bionic-updates/main amd64 Packages [2,244 kB]\n",
            "Get:23 http://archive.ubuntu.com/ubuntu bionic-updates/multiverse amd64 Packages [54.3 kB]\n",
            "Get:24 http://ppa.launchpad.net/graphics-drivers/ppa/ubuntu bionic/main amd64 Packages [46.5 kB]\n",
            "Fetched 11.5 MB in 3s (3,652 kB/s)\n",
            "Reading package lists... Done\n"
          ],
          "name": "stdout"
        }
      ]
    },
    {
      "cell_type": "code",
      "metadata": {
        "id": "s3Od6gqJloYl"
      },
      "source": [
        "from pyspark.sql import SparkSession\n",
        "spark = SparkSession.builder.appName(\"CloudETLProjectAnalysis\").getOrCreate()"
      ],
      "execution_count": 3,
      "outputs": []
    },
    {
      "cell_type": "markdown",
      "metadata": {
        "id": "Ubtov6GbwTwM"
      },
      "source": [
        "**Load in connection to S3 cloud data**"
      ]
    },
    {
      "cell_type": "code",
      "metadata": {
        "colab": {
          "base_uri": "https://localhost:8080/"
        },
        "id": "W1DSAec2sjnH",
        "outputId": "01db9f11-7cc9-44bc-cd38-ea7973b04de2"
      },
      "source": [
        "from pyspark import SparkFiles\n",
        "# Load in tsv reviews from S3 into a DataFrame\n",
        "url = \"https://cobrakaireviews.s3.us-east-2.amazonaws.com/amazon_reviews_us_Tools_v1_00.tsv\"\n",
        "spark.sparkContext.addFile(url)\n",
        "\n",
        "# https://stackoverflow.com/questions/61799363/read-tsv-file-in-pyspark\n",
        "df = spark.read.csv(SparkFiles.get(\"amazon_reviews_us_Tools_v1_00.tsv\"), sep=r'\\t', header=True)\n",
        "\n",
        "df.show(20)"
      ],
      "execution_count": 17,
      "outputs": [
        {
          "output_type": "stream",
          "text": [
            "+-----------+-----------+--------------+----------+--------------+--------------------+----------------+-----------+-------------+-----------+----+-----------------+--------------------+--------------------+-----------+\n",
            "|marketplace|customer_id|     review_id|product_id|product_parent|       product_title|product_category|star_rating|helpful_votes|total_votes|vine|verified_purchase|     review_headline|         review_body|review_date|\n",
            "+-----------+-----------+--------------+----------+--------------+--------------------+----------------+-----------+-------------+-----------+----+-----------------+--------------------+--------------------+-----------+\n",
            "|         US|   15785389|R2UM5QMHBHC90Q|B00H5U9ZD6|     115362950|WallPeg 12 sq ft ...|           Tools|          5|            0|          0|   N|                Y|Great organizer, ...|Very nice. Will o...| 2015-08-31|\n",
            "|         US|   47910848|  RF0D1LEIF6L7|B001TJGCS0|     570955425|Nite Ize Nite Daw...|           Tools|          4|            0|          0|   N|                Y|Like it, but the ...|Like it, but the ...| 2015-08-31|\n",
            "|         US|   36328996|  RM6YKIWQVNSY|B000NIK8JW|     128843593|Stanley 84-058 4 ...|           Tools|          1|            6|          6|   N|                Y|        poor quality|We were excited t...| 2015-08-31|\n",
            "|         US|   51785809|R1RL3L68ASPS36|B008ZYRGUA|     407828107|Powerextra 14.4V ...|           Tools|          4|            0|          0|   N|                Y|          Four Stars|Quick delivery. P...| 2015-08-31|\n",
            "|         US|   40757491|R1U4XFBFAG34CY|B00K5CA0GC|     490746675|Waterproof Invisi...|           Tools|          5|            0|          0|   N|                Y|          Five Stars|Quality waterproo...| 2015-08-31|\n",
            "|         US|   35544833|R3KFIK8P0I91PL|B00AIJAA94|     148352067|Crime Scene Do No...|           Tools|          5|            0|          0|   N|                Y|Excellent Decorat...|Ordered for my hu...| 2015-08-31|\n",
            "|         US|   16474909| RENOAY76PPK1O|B00JKEI6K8|     331801084|Aweek® 2 Pcs Bicy...|           Tools|          5|            0|          0|   N|                Y|          Five Stars|GREAT SELLER PROD...| 2015-08-31|\n",
            "|         US|   22601598| RINV884I0NL5V|B00AGCHVS6|     471514859|Ryobi P102 Genuin...|           Tools|          1|            0|          0|   N|                Y|Worked great for ...|My battery has di...| 2015-08-31|\n",
            "|         US|   16129808| R5KJH6CXZH2PX|B002S0O7U4|     162253576|Wiha 66995 6-Piec...|           Tools|          5|            0|          0|   N|                Y|       Great quality|Great product at ...| 2015-08-31|\n",
            "|         US|   24382335| RO69JF6QWD0W1|B0084YHXMW|      69530650|TOMTOP LED Submar...|           Tools|          5|            0|          0|   N|                Y|          Five Stars|           Excellent| 2015-08-31|\n",
            "|         US|   49796324|R3L9NQBH3FI55C|B00MLSS1SW|     916693555|Black & Decker BD...|           Tools|          4|            1|          1|   N|                Y|Really worked great!|This little sande...| 2015-08-31|\n",
            "|         US|   33289687| R4YH95YPHVU0C|B00D4WLS2A|      39333316|Crain 126 Staple ...|           Tools|          5|            0|          0|   N|                Y|         LOVE IT!!!!|This is the most ...| 2015-08-31|\n",
            "|         US|   10916386|R10M1WWDDQBGG2|B00JGCDV5Y|     550596607|Diamond Semi Roun...|           Tools|          2|            0|          0|   N|                Y|I needed to cut s...|I needed to cut s...| 2015-08-31|\n",
            "|         US|   34071500| RV3KWQBTNIO62|B00N0PS3YM|     735538025|It Mall 9 LED 375...|           Tools|          5|            1|          1|   N|                Y|   Works pretty well|Lights up small d...| 2015-08-31|\n",
            "|         US|   50594486|R1M7YUNLZI0G9F|B0000DD4KV|     506501960|IRWIN Tools Metri...|           Tools|          5|            1|          1|   N|                Y|          Five Stars|Great product for...| 2015-08-31|\n",
            "|         US|   21945887|R2MTL2D4E4HEF4|B0009H5FB8|     268586246|743022-A Backing ...|           Tools|          5|            0|          0|   N|                Y|          Five Stars|Many thanks for t...| 2015-08-31|\n",
            "|         US|   47749608| RXAHWIC1584UQ|B00NKSMPZW|     824618679|ClearArmor 141001...|           Tools|          5|           20|         23|   N|                Y|          Five Stars|geart product :) ...| 2015-08-31|\n",
            "|         US|   48880662| RMOIQFERVQDWS|B00RBAB92K|     156791442|KKmoon 9cm Mini A...|           Tools|          5|            0|          0|   N|                Y|          Five Stars|           very good| 2015-08-31|\n",
            "|         US|    4660265| R710G45MKODY9|B00QGBNZVI|     962324810|Refun E6 High Pow...|           Tools|          2|            1|          1|   N|                Y|           Two Stars|Scratches on lenses.| 2015-08-31|\n",
            "|         US|   18397238|R23ZIUGUM7TBMY|B00XXU3CDG|     543062309|Dr.meter S20 Mois...|           Tools|          1|            0|          1|   N|                Y|Don't waste your ...|It's a piece of $...| 2015-08-31|\n",
            "+-----------+-----------+--------------+----------+--------------+--------------------+----------------+-----------+-------------+-----------+----+-----------------+--------------------+--------------------+-----------+\n",
            "only showing top 20 rows\n",
            "\n"
          ],
          "name": "stdout"
        }
      ]
    },
    {
      "cell_type": "markdown",
      "metadata": {
        "id": "MswSpDqM6hU8"
      },
      "source": [
        "**Remove vine reviews rows**"
      ]
    },
    {
      "cell_type": "code",
      "metadata": {
        "id": "YajaeSVCwFci",
        "outputId": "eded9a4f-3eb4-46ad-de82-f27be0b249e5",
        "colab": {
          "base_uri": "https://localhost:8080/"
        }
      },
      "source": [
        "df_filtered = df[df['vine'] == \"N\"]\n",
        "# df_filtered.show(20)\n",
        "df_filtered.describe().show(20)"
      ],
      "execution_count": 26,
      "outputs": [
        {
          "output_type": "stream",
          "text": [
            "+-------+-----------+--------------------+--------------+--------------------+-------------------+--------------------+----------------+-----------------+------------------+------------------+-------+-----------------+--------------------+--------------------+-----------+\n",
            "|summary|marketplace|         customer_id|     review_id|          product_id|     product_parent|       product_title|product_category|      star_rating|     helpful_votes|       total_votes|   vine|verified_purchase|     review_headline|         review_body|review_date|\n",
            "+-------+-----------+--------------------+--------------+--------------------+-------------------+--------------------+----------------+-----------------+------------------+------------------+-------+-----------------+--------------------+--------------------+-----------+\n",
            "|  count|    1733334|             1733334|       1733334|             1733334|            1733334|             1733334|         1733334|          1733334|           1733334|           1733334|1733334|          1733334|             1733334|             1733218|    1733260|\n",
            "|   mean|       null|2.8277278018362876E7|          null| 5.723182770446428E9|5.030438699021199E8|  235550.54545454544|            null|4.261172976471932|1.8402633306679497| 2.309258342592945|   null|             null|                 NaN|   2.813953488372093|       null|\n",
            "| stddev|       null|1.5456940674310714E7|          null|3.4225244963197575E9| 2.85093601540369E8|  429111.89106510754|            null|1.215446614494189|13.137045134865584|14.027419541880217|   null|             null|                 NaN|   4.401902337177247|       null|\n",
            "|    min|         US|            10000062|R10006SDPVLTSG|          0205062040|          100003841|\" BAHA'I WAY \" ST...|           Tools|                1|                 0|                 0|      N|                N|              \u001a\u001a\u001a\u001a\u001a\u001a|\u000408/07/14: Update...| 1999-11-09|\n",
            "|    max|         US|             9999952| RZZZZ0649QCME|          B01E7Z0OYU|          999989950|™ [KANTHALCO] Bla...|           Tools|                5|                99|               995|      N|                Y|😳Brightness in a...|    🙌😮 white light| 2015-08-31|\n",
            "+-------+-----------+--------------------+--------------+--------------------+-------------------+--------------------+----------------+-----------------+------------------+------------------+-------+-----------------+--------------------+--------------------+-----------+\n",
            "\n"
          ],
          "name": "stdout"
        }
      ]
    },
    {
      "cell_type": "markdown",
      "metadata": {
        "id": "BYVdnoxCmH07"
      },
      "source": [
        "**Transform DataFrame**"
      ]
    },
    {
      "cell_type": "code",
      "metadata": {
        "colab": {
          "base_uri": "https://localhost:8080/"
        },
        "id": "bzso9RNMluUY",
        "outputId": "f0c25fca-7db7-4880-fda3-564187d91552"
      },
      "source": [
        "# product id dataframe\n",
        "productid_df = df_filtered.groupby([\"product_id\", \"product_title\"]).agg({\"star_rating\": \"avg\", \"helpful_votes\":\"count\"})\n",
        "productid_df.show(10)"
      ],
      "execution_count": 27,
      "outputs": [
        {
          "output_type": "stream",
          "text": [
            "+----------+--------------------+------------------+--------------------+\n",
            "|product_id|       product_title|  avg(star_rating)|count(helpful_votes)|\n",
            "+----------+--------------------+------------------+--------------------+\n",
            "|B000JNNWQ2|IRWIN Tools VISE-...| 4.684863523573201|                 403|\n",
            "|B000OECQOK|Titan 17005 Stain...| 4.810126582278481|                 158|\n",
            "|B0045W0MD4|The American Red ...|4.5042918454935625|                 466|\n",
            "|B00DQQ9ET8|de.power DP-010AA...|4.6923076923076925|                  13|\n",
            "|B001P30BQE|DEWALT DG5204 Pro...|4.5646258503401365|                 294|\n",
            "|B0002TKID8|Channellock GLS-1...|4.6976744186046515|                  43|\n",
            "|B003O684GO|Tajima AC-500B 3/...|               5.0|                   4|\n",
            "|B00T96T070|UltraFire WF-68B ...|               4.5|                   4|\n",
            "|B001445114|Stiletto AG-102 A...|               4.0|                  24|\n",
            "|B00002X1ZX|Stanley Tools 28-...| 4.380952380952381|                  84|\n",
            "+----------+--------------------+------------------+--------------------+\n",
            "only showing top 10 rows\n",
            "\n"
          ],
          "name": "stdout"
        }
      ]
    },
    {
      "cell_type": "code",
      "metadata": {
        "colab": {
          "base_uri": "https://localhost:8080/"
        },
        "id": "7sxZxh2xrDMl",
        "outputId": "39cd74dd-fe91-4c5d-fd93-02730fc73837"
      },
      "source": [
        "from pyspark.sql.functions import desc\n",
        "productid_df = productid_df.withColumnRenamed(\"count(helpful_votes)\", \"total_helpful_votes\")\\\n",
        "                                     .withColumnRenamed(\"avg(star_rating)\", \"avg_rating\")\n",
        "productid_df.orderBy(desc(\"total_helpful_votes\")).show(40)"
      ],
      "execution_count": 28,
      "outputs": [
        {
          "output_type": "stream",
          "text": [
            "+----------+--------------------+------------------+-------------------+\n",
            "|product_id|       product_title|        avg_rating|total_helpful_votes|\n",
            "+----------+--------------------+------------------+-------------------+\n",
            "|B006E0QAFY|UltraFire? 1000 L...| 4.268136784915308|               9387|\n",
            "|B001T7QJ9O|Howard Leight Imp...| 4.445344129554656|               5434|\n",
            "|B000IKK0OI|CH Hanson 0 Stud ...|4.6162816775061675|               4459|\n",
            "|B000O8OTNC|Smith's PP1 Pocke...| 4.347020530796194|               3994|\n",
            "|B00004VWKQ|AccuSharp Knife S...| 4.628138974888201|               2907|\n",
            "|B0010O748Q|SE FS374 All-Weat...| 4.045292439372325|               2804|\n",
            "|B000RB38X8|SE MZ101B Helping...| 3.880326046683957|               2699|\n",
            "|B003UCODIA|SE MH1047L Illumi...| 4.151193633952254|               2639|\n",
            "|B002RLR0EY|DEWALT DC970K-2 1...| 4.669767441860465|               2580|\n",
            "|B0013092CS|3M WorkTunes Wire...| 4.017305315203956|               2427|\n",
            "|B0018S4XIS|     Rayovac Lantern| 4.613266583229036|               2397|\n",
            "|B0011UIPIW|Streamlight Nano ...| 4.355698924731183|               2325|\n",
            "|B0064EICKG|ProSensor 710 Fra...| 4.578100674623768|               1927|\n",
            "|B005FEGYJC|LE Headlamp LED, ...| 4.084627745045528|               1867|\n",
            "|B003IT5F14|Work Sharp WSKTS ...| 4.688674181427805|               1863|\n",
            "|B0015UC17E|Streamlight  Styl...| 4.642697881828316|               1794|\n",
            "|B004DT6TEK|Gerber Bear Gryll...| 4.538898353208404|               1761|\n",
            "|B003TU0XG4|Dremel 7300-PT 4....| 4.303972366148532|               1737|\n",
            "|B008MROLX0|UltraFire CREE XM...| 3.935838150289017|               1730|\n",
            "|B00009LI4K|3M Peltor Optime 105|  4.55868544600939|               1704|\n",
            "|B000IE0YIQ|Black & Decker AS...|3.4910287081339715|               1672|\n",
            "|B002ZK45IQ|Gerber Shard Keyc...| 4.409560723514212|               1548|\n",
            "|B002Q8AJSM|SE JT6218 5-Piece...| 4.444078947368421|               1520|\n",
            "|B0007ZJ1IK|Campbell Hausfeld...| 3.857429718875502|               1494|\n",
            "|B001ID4ZY0|SE CC4580 Militar...| 3.876010781671159|               1484|\n",
            "|B005ZEWGSA|GGI Watch Repair ...| 4.195637355146558|               1467|\n",
            "|B0014KMDZ0|Stanley 66-344 4-...| 4.384294649061848|               1439|\n",
            "|B00E3OXGQY|UV Sight's Handhe...| 4.531751570132589|               1433|\n",
            "|B005NNF0YU|Black & Decker LD...| 4.481186685962373|               1382|\n",
            "|B0037V0EW8|TEKTON 5941 Digit...|4.3075237399561725|               1369|\n",
            "|B000GSLKIW|Neiko 01407A Elec...| 4.338507021433851|               1353|\n",
            "|B005DI0XM4|Leatherman - Wing...| 4.648952095808383|               1336|\n",
            "|B005FEGYCO|LE Adjustable Foc...|4.6136534133533385|               1333|\n",
            "|B002OOZERY|Dorcy Lumen High ...|4.4911059551430785|               1293|\n",
            "|B000NK5VY2|SE 7924LP Heavy-D...|3.9494163424124515|               1285|\n",
            "|B0002TW1D8|SE 7503SD 3-Piece...| 4.612421383647798|               1272|\n",
            "|B003M2F7NI|Armor All 2.5 Gal...| 4.410640066500416|               1203|\n",
            "|B000XU43IC|Leatherman 830850...| 4.583403185247276|               1193|\n",
            "|B000PICTYC|SOG Tactical Toma...|4.5880872483221475|               1192|\n",
            "|B0000302ZV|Dremel 4486 Multi...|  4.55770850884583|               1187|\n",
            "+----------+--------------------+------------------+-------------------+\n",
            "only showing top 40 rows\n",
            "\n"
          ],
          "name": "stdout"
        }
      ]
    }
  ]
}