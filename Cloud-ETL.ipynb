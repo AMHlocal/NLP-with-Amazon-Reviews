{
  "nbformat": 4,
  "nbformat_minor": 0,
  "metadata": {
    "colab": {
      "name": "Untitled0.ipynb",
      "provenance": [],
      "collapsed_sections": [],
      "authorship_tag": "ABX9TyNNFAI/xPxassIRQAJn1y/1",
      "include_colab_link": true
    },
    "kernelspec": {
      "name": "python3",
      "display_name": "Python 3"
    }
  },
  "cells": [
    {
      "cell_type": "markdown",
      "metadata": {
        "id": "view-in-github",
        "colab_type": "text"
      },
      "source": [
        "<a href=\"https://colab.research.google.com/github/AMHlocal/final-project/blob/gs-branch/Cloud-ETL.ipynb\" target=\"_parent\"><img src=\"https://colab.research.google.com/assets/colab-badge.svg\" alt=\"Open In Colab\"/></a>"
      ]
    },
    {
      "cell_type": "markdown",
      "metadata": {
        "id": "eyXLyBF0lqGC"
      },
      "source": [
        "\n",
        "**The code in the first cell will update the Spark version**\n",
        "\n",
        "\n"
      ]
    },
    {
      "cell_type": "code",
      "metadata": {
        "id": "4l60qeLWOtCQ",
        "colab": {
          "base_uri": "https://localhost:8080/"
        },
        "outputId": "410b1832-29b1-4674-e9e4-48803147c794"
      },
      "source": [
        "import os\n",
        "# Find the latest version of spark 3.0  from http://www-us.apache.org/dist/spark/ and enter as the spark version\n",
        "# For example:\n",
        "spark_version = 'spark-3.0.1'\n",
        "# spark_version = 'spark-3.<spark version>'\n",
        "os.environ['SPARK_VERSION']=spark_version\n",
        "\n",
        "# Install Spark and Java\n",
        "!apt-get update\n",
        "!apt-get install openjdk-11-jdk-headless -qq > /dev/null\n",
        "!wget -q http://www-us.apache.org/dist/spark/$SPARK_VERSION/$SPARK_VERSION-bin-hadoop2.7.tgz\n",
        "!tar xf $SPARK_VERSION-bin-hadoop2.7.tgz\n",
        "!pip install -q findspark\n",
        "\n",
        "# Set Environment Variables\n",
        "import os\n",
        "os.environ[\"JAVA_HOME\"] = \"/usr/lib/jvm/java-11-openjdk-amd64\"\n",
        "os.environ[\"SPARK_HOME\"] = f\"/content/{spark_version}-bin-hadoop2.7\"\n",
        "\n",
        "# Start a SparkSession\n",
        "import findspark\n",
        "findspark.init()\n"
      ],
      "execution_count": null,
      "outputs": [
        {
          "output_type": "stream",
          "text": [
            "\r0% [Working]\r            \rIgn:1 https://developer.download.nvidia.com/compute/cuda/repos/ubuntu1804/x86_64  InRelease\n",
            "\r0% [Waiting for headers] [Waiting for headers] [Waiting for headers] [Waiting f\r                                                                               \rGet:2 https://cloud.r-project.org/bin/linux/ubuntu bionic-cran40/ InRelease [3,626 B]\n",
            "\r0% [Waiting for headers] [Waiting for headers] [2 InRelease 3,626 B/3,626 B 100\r0% [Waiting for headers] [Waiting for headers] [Waiting for headers] [Waiting f\r0% [2 InRelease gpgv 3,626 B] [Waiting for headers] [Waiting for headers] [Wait\r                                                                               \rHit:3 http://archive.ubuntu.com/ubuntu bionic InRelease\n",
            "\r0% [2 InRelease gpgv 3,626 B] [Waiting for headers] [Waiting for headers] [Wait\r                                                                               \rGet:4 http://security.ubuntu.com/ubuntu bionic-security InRelease [88.7 kB]\n",
            "\r                                                                               \rGet:5 http://ppa.launchpad.net/c2d4u.team/c2d4u4.0+/ubuntu bionic InRelease [15.9 kB]\n",
            "\r0% [2 InRelease gpgv 3,626 B] [Waiting for headers] [4 InRelease 14.2 kB/88.7 k\r                                                                               \rIgn:6 https://developer.download.nvidia.com/compute/machine-learning/repos/ubuntu1804/x86_64  InRelease\n",
            "\r0% [2 InRelease gpgv 3,626 B] [Waiting for headers] [4 InRelease 14.2 kB/88.7 k\r                                                                               \rGet:7 https://developer.download.nvidia.com/compute/cuda/repos/ubuntu1804/x86_64  Release [697 B]\n",
            "\r0% [2 InRelease gpgv 3,626 B] [Waiting for headers] [4 InRelease 14.2 kB/88.7 k\r                                                                               \rHit:8 https://developer.download.nvidia.com/compute/machine-learning/repos/ubuntu1804/x86_64  Release\n",
            "\r0% [2 InRelease gpgv 3,626 B] [Waiting for headers] [4 InRelease 14.2 kB/88.7 k\r                                                                               \rGet:9 https://developer.download.nvidia.com/compute/cuda/repos/ubuntu1804/x86_64  Release.gpg [836 B]\n",
            "Get:10 http://archive.ubuntu.com/ubuntu bionic-updates InRelease [88.7 kB]\n",
            "Get:11 http://ppa.launchpad.net/graphics-drivers/ppa/ubuntu bionic InRelease [21.3 kB]\n",
            "Get:12 http://archive.ubuntu.com/ubuntu bionic-backports InRelease [74.6 kB]\n",
            "Ign:14 https://developer.download.nvidia.com/compute/cuda/repos/ubuntu1804/x86_64  Packages\n",
            "Get:14 https://developer.download.nvidia.com/compute/cuda/repos/ubuntu1804/x86_64  Packages [443 kB]\n",
            "Get:15 http://ppa.launchpad.net/c2d4u.team/c2d4u4.0+/ubuntu bionic/main Sources [1,691 kB]\n",
            "Get:16 http://security.ubuntu.com/ubuntu bionic-security/main amd64 Packages [1,800 kB]\n",
            "Get:17 http://archive.ubuntu.com/ubuntu bionic-updates/restricted amd64 Packages [259 kB]\n",
            "Get:18 http://archive.ubuntu.com/ubuntu bionic-updates/main amd64 Packages [2,227 kB]\n",
            "Get:19 http://security.ubuntu.com/ubuntu bionic-security/restricted amd64 Packages [230 kB]\n",
            "Get:20 http://security.ubuntu.com/ubuntu bionic-security/universe amd64 Packages [1,365 kB]\n",
            "Get:21 http://archive.ubuntu.com/ubuntu bionic-updates/universe amd64 Packages [2,131 kB]\n",
            "Get:22 http://ppa.launchpad.net/c2d4u.team/c2d4u4.0+/ubuntu bionic/main amd64 Packages [865 kB]\n",
            "Get:23 http://archive.ubuntu.com/ubuntu bionic-updates/multiverse amd64 Packages [54.3 kB]\n",
            "Get:24 http://ppa.launchpad.net/graphics-drivers/ppa/ubuntu bionic/main amd64 Packages [46.5 kB]\n",
            "Fetched 11.4 MB in 3s (3,714 kB/s)\n",
            "Reading package lists... Done\n"
          ],
          "name": "stdout"
        }
      ]
    },
    {
      "cell_type": "code",
      "metadata": {
        "id": "s3Od6gqJloYl"
      },
      "source": [
        "from pyspark.sql import SparkSession\n",
        "spark = SparkSession.builder.appName(\"CloudETLProjectAnalysis\").getOrCreate()"
      ],
      "execution_count": 3,
      "outputs": []
    },
    {
      "cell_type": "markdown",
      "metadata": {
        "id": "Ubtov6GbwTwM"
      },
      "source": [
        "**Load in connection to S3 cloud data**"
      ]
    },
    {
      "cell_type": "code",
      "metadata": {
        "id": "W1DSAec2sjnH",
        "outputId": "2730f8e2-010a-4695-8f3a-7a7603350952",
        "colab": {
          "base_uri": "https://localhost:8080/"
        }
      },
      "source": [
        "from pyspark import SparkFiles\n",
        "# Load in tsv reviews from S3 into a DataFrame\n",
        "url = \"https://cobrakaireviews.s3.us-east-2.amazonaws.com/amazon_reviews_us_Tools_v1_00.tsv\"\n",
        "spark.sparkContext.addFile(url)\n",
        "\n",
        "df = spark.read.csv(SparkFiles.get(\"amazon_reviews_us_Tools_v1_00.tsv\"), sep=r'\\t', header=True)\n",
        "\n",
        "df.show(100)"
      ],
      "execution_count": 12,
      "outputs": [
        {
          "output_type": "stream",
          "text": [
            "+-----------+-----------+--------------+----------+--------------+--------------------+----------------+-----------+-------------+-----------+----+-----------------+--------------------+--------------------+-----------+\n",
            "|marketplace|customer_id|     review_id|product_id|product_parent|       product_title|product_category|star_rating|helpful_votes|total_votes|vine|verified_purchase|     review_headline|         review_body|review_date|\n",
            "+-----------+-----------+--------------+----------+--------------+--------------------+----------------+-----------+-------------+-----------+----+-----------------+--------------------+--------------------+-----------+\n",
            "|         US|   15785389|R2UM5QMHBHC90Q|B00H5U9ZD6|     115362950|WallPeg 12 sq ft ...|           Tools|          5|            0|          0|   N|                Y|Great organizer, ...|Very nice. Will o...| 2015-08-31|\n",
            "|         US|   47910848|  RF0D1LEIF6L7|B001TJGCS0|     570955425|Nite Ize Nite Daw...|           Tools|          4|            0|          0|   N|                Y|Like it, but the ...|Like it, but the ...| 2015-08-31|\n",
            "|         US|   36328996|  RM6YKIWQVNSY|B000NIK8JW|     128843593|Stanley 84-058 4 ...|           Tools|          1|            6|          6|   N|                Y|        poor quality|We were excited t...| 2015-08-31|\n",
            "|         US|   51785809|R1RL3L68ASPS36|B008ZYRGUA|     407828107|Powerextra 14.4V ...|           Tools|          4|            0|          0|   N|                Y|          Four Stars|Quick delivery. P...| 2015-08-31|\n",
            "|         US|   40757491|R1U4XFBFAG34CY|B00K5CA0GC|     490746675|Waterproof Invisi...|           Tools|          5|            0|          0|   N|                Y|          Five Stars|Quality waterproo...| 2015-08-31|\n",
            "|         US|   35544833|R3KFIK8P0I91PL|B00AIJAA94|     148352067|Crime Scene Do No...|           Tools|          5|            0|          0|   N|                Y|Excellent Decorat...|Ordered for my hu...| 2015-08-31|\n",
            "|         US|   16474909| RENOAY76PPK1O|B00JKEI6K8|     331801084|Aweek® 2 Pcs Bicy...|           Tools|          5|            0|          0|   N|                Y|          Five Stars|GREAT SELLER PROD...| 2015-08-31|\n",
            "|         US|   22601598| RINV884I0NL5V|B00AGCHVS6|     471514859|Ryobi P102 Genuin...|           Tools|          1|            0|          0|   N|                Y|Worked great for ...|My battery has di...| 2015-08-31|\n",
            "|         US|   16129808| R5KJH6CXZH2PX|B002S0O7U4|     162253576|Wiha 66995 6-Piec...|           Tools|          5|            0|          0|   N|                Y|       Great quality|Great product at ...| 2015-08-31|\n",
            "|         US|   24382335| RO69JF6QWD0W1|B0084YHXMW|      69530650|TOMTOP LED Submar...|           Tools|          5|            0|          0|   N|                Y|          Five Stars|           Excellent| 2015-08-31|\n",
            "|         US|   49796324|R3L9NQBH3FI55C|B00MLSS1SW|     916693555|Black & Decker BD...|           Tools|          4|            1|          1|   N|                Y|Really worked great!|This little sande...| 2015-08-31|\n",
            "|         US|   33289687| R4YH95YPHVU0C|B00D4WLS2A|      39333316|Crain 126 Staple ...|           Tools|          5|            0|          0|   N|                Y|         LOVE IT!!!!|This is the most ...| 2015-08-31|\n",
            "|         US|   10916386|R10M1WWDDQBGG2|B00JGCDV5Y|     550596607|Diamond Semi Roun...|           Tools|          2|            0|          0|   N|                Y|I needed to cut s...|I needed to cut s...| 2015-08-31|\n",
            "|         US|   34071500| RV3KWQBTNIO62|B00N0PS3YM|     735538025|It Mall 9 LED 375...|           Tools|          5|            1|          1|   N|                Y|   Works pretty well|Lights up small d...| 2015-08-31|\n",
            "|         US|   50594486|R1M7YUNLZI0G9F|B0000DD4KV|     506501960|IRWIN Tools Metri...|           Tools|          5|            1|          1|   N|                Y|          Five Stars|Great product for...| 2015-08-31|\n",
            "|         US|   21945887|R2MTL2D4E4HEF4|B0009H5FB8|     268586246|743022-A Backing ...|           Tools|          5|            0|          0|   N|                Y|          Five Stars|Many thanks for t...| 2015-08-31|\n",
            "|         US|   47749608| RXAHWIC1584UQ|B00NKSMPZW|     824618679|ClearArmor 141001...|           Tools|          5|           20|         23|   N|                Y|          Five Stars|geart product :) ...| 2015-08-31|\n",
            "|         US|   48880662| RMOIQFERVQDWS|B00RBAB92K|     156791442|KKmoon 9cm Mini A...|           Tools|          5|            0|          0|   N|                Y|          Five Stars|           very good| 2015-08-31|\n",
            "|         US|    4660265| R710G45MKODY9|B00QGBNZVI|     962324810|Refun E6 High Pow...|           Tools|          2|            1|          1|   N|                Y|           Two Stars|Scratches on lenses.| 2015-08-31|\n",
            "|         US|   18397238|R23ZIUGUM7TBMY|B00XXU3CDG|     543062309|Dr.meter S20 Mois...|           Tools|          1|            0|          1|   N|                Y|Don't waste your ...|It's a piece of $...| 2015-08-31|\n",
            "|         US|   16550751|R2IF94B3Q0G8M7|B006M9NIDO|       3303513|Gerber Dime Multi...|           Tools|          5|            0|          0|   N|                Y|          Five Stars|it works great, a...| 2015-08-31|\n",
            "|         US|    4963734|R2X8RBH29297K2|B0002KO1XK|      18119447|Performance Tool ...|           Tools|          1|            1|          1|   N|                Y|the quality of ma...|the quality of ma...| 2015-08-31|\n",
            "|         US|   20967560|R3ERFD8C1DESO9|B001EC3JME|     830091486|Nite Ize Clip-On ...|           Tools|          5|            0|          0|   N|                Y|  Excellent Product!|I use this holste...| 2015-08-31|\n",
            "|         US|   49773613|R2ZTYQVMFODRKI|B003TU0XFU|     268884688|Dremel 7300-N/8 M...|           Tools|          5|            0|          0|   N|                Y|Works better than...|Works better than...| 2015-08-31|\n",
            "|         US|   29327140|R2BIO5UAWH0UF8|B00I04TJIM|      98344961|Columbia River Kn...|           Tools|          4|            1|          2|   N|                Y|Great price and g...|A preferred EDC. ...| 2015-08-31|\n",
            "|         US|   15375432|R36I4QJCD3DMQY|B007RB82CS|     532704912|Streamlight 88030...|           Tools|          5|            0|          0|   N|                Y|          Five Stars|Careful they get ...| 2015-08-31|\n",
            "|         US|   42060310| R68L4LBFDU3PZ|B00035I4TQ|     839816722|WaterCop Wireless...|           Tools|          5|            0|          0|   N|                N|          Five Stars|Easy to work with...| 2015-08-31|\n",
            "|         US|    1153066| RX4SGDGFDB89P|B007WU7VS0|     974908768|Milwaukee M18 FUE...|           Tools|          5|            0|          0|   N|                Y|          Five Stars|     Works great !!!| 2015-08-31|\n",
            "|         US|   37950229|R1HFUWMZTMH6AZ|B000NCY3BW|      35628650|KP Industries Kne...|           Tools|          5|            0|          0|   N|                Y|   Easy on my knees!|These worked very...| 2015-08-31|\n",
            "|         US|   46827072| RZ40MU2YMUGJ8|B00V02JLLQ|     556036183|SOLARAY PRO ZX-1X...|           Tools|          4|            0|          1|   N|                N|          Four Stars|I like Solaray so...| 2015-08-31|\n",
            "|         US|     129483|R2CQRUL72HCL5V|B001T7GZQQ|     991917217|Streamlight 69220...|           Tools|          5|            0|          0|   N|                Y|has withstood hol...|Arrived fast, has...| 2015-08-31|\n",
            "|         US|   17747349|R30ZANODRQL08O|B000X2L0PO|     228942675|MXV Pocket Dust M...|           Tools|          5|            0|          0|   N|                Y|          Five Stars|Easy to breath th...| 2015-08-31|\n",
            "|         US|   43708482|R18YOK33LMMIF6|B002ENHNL0|     242522707|Bosch 1581AVS Jig...|           Tools|          5|            0|          1|   N|                Y|          Five Stars|Great price,swift...| 2015-08-31|\n",
            "|         US|   50797935|R3PQSS2ZO7X5LO|B003DZ02MA|     423147438|G & F CUTShield C...|           Tools|          5|            0|          0|   N|                N|        Great gloves|While I did recei...| 2015-08-31|\n",
            "|         US|    8759894|R3C9MQI1BLUL65|B0051OEV2I|     508077349|Hex Ball Adaptor ...|           Tools|          4|            1|          1|   N|                Y|          Four Stars|Works as expected...| 2015-08-31|\n",
            "|         US|   46599773|R2GKCC3WR0I8QI|B003AOFEVI|     608305543|Crews Klondike Sa...|           Tools|          5|            0|          0|   N|                Y|180 degree protec...|Just be careful w...| 2015-08-31|\n",
            "|         US|   52253312|R17KA7579R040E|B00495ZF3O|     655034668|CLC Custom Leathe...|           Tools|          5|            1|          1|   N|                Y|Better than the t...|It is very diffic...| 2015-08-31|\n",
            "|         US|   15775397|R2MJEBQ99OQ4SN|B00NU1JJ4Y|     476093522|Snug Kids Earmuff...|           Tools|          4|            0|          0|   N|                Y|festivals and the...|perrfect! got the...| 2015-08-31|\n",
            "|         US|   25626103|R1VTPNCFAVPA26|B000642GAW|     451747613|12-Volt Inflator,...|           Tools|          5|            0|          0|   N|                Y|             great!!|2nd one I have ow...| 2015-08-31|\n",
            "|         US|     364893| RZERZJ3D95994|B0049X8D94|     998520152|Seville Classics ...|           Tools|          5|            0|          0|   N|                Y|          Five Stars|excellent experie...| 2015-08-31|\n",
            "|         US|     546746|R1W9J5OC6TZ352|B00BD5G9TW|     133249693|Bosch 1297D 1/4-S...|           Tools|          5|            1|          1|   N|                Y|   This is the best.|I have four other...| 2015-08-31|\n",
            "|         US|   17692623|R3D8NX8C42Q8WI|B000JNNWQ2|     484754758|IRWIN Tools VISE-...|           Tools|          5|            0|          1|   N|                N|          Five Stars|These are great! ...| 2015-08-31|\n",
            "|         US|   46939536| RKJ3DL93Z9I63|B000S76N4M|     876357523|               Rhino|           Tools|          5|            0|          0|   N|                Y|Amazing product M...|Amazing product<b...| 2015-08-31|\n",
            "|         US|   45732437|R380QVAIDUC84N|B003WE9ZG6|      55840696|ArcOne G-FLY-A110...|           Tools|          1|            1|          1|   N|                Y|             No Way.|Uncomfortable aro...| 2015-08-31|\n",
            "|         US|   44433356|R3C2GQ8I3JIIMD|B007VMKI6G|     501904520|Rockwell RK9034 J...|           Tools|          3|            0|          0|   N|                Y|Just ok! All most...|Just ok !<br /><b...| 2015-08-31|\n",
            "|         US|   13548431| RRSWSWBZK5E53|B002Z32OSG|     311114396|Stud Lever Stud N...|           Tools|          4|            0|          0|   N|                Y|         Very useful|Exerts more force...| 2015-08-31|\n",
            "|         US|   23766818|R3FVJ6T7AJM9A3|B0007ZKHK6|     732920944|Makita 443060-3 C...|           Tools|          4|            0|          0|   N|                Y|          Four Stars|Product is good, ...| 2015-08-31|\n",
            "|         US|   50823959| RIOALZ33FUIIJ|B00UTGOLP0|     288965232|Stanley Lever Loc...|           Tools|          1|            1|          2|   N|                Y|          Five Stars|very nice tape!! ...| 2015-08-31|\n",
            "|         US|   25755311| RX12UO2SK6QBM|B0012XT8B6|     557400413|SureFire EarPro E...|           Tools|          5|            0|          0|   N|                Y|          Five Stars|Good product easy...| 2015-08-31|\n",
            "|         US|   50954363| RQFE4YRO59HPJ|B00LIB54BA|     890347712|TEMCo 1 Gauge AWG...|           Tools|          5|            0|          0|   N|                Y|            Ok cable|          Seems fine| 2015-08-31|\n",
            "|         US|   45009223|R3M9MG0VV486E0|B00RXCD5G4|     224349836|JawayTool 125pc R...|           Tools|          5|            0|          0|   N|                Y|          Five Stars|good product,,,us...| 2015-08-31|\n",
            "|         US|   35949656| RG30H8US3USOY|B00LGANH8K|     655313950|Bosch GLM 15 Comp...|           Tools|          5|            0|          0|   N|                Y|        Works Great!|  Works as expected.| 2015-08-31|\n",
            "|         US|   13585901|R3GH5AIGSUS2FP|B00PFB4APK|      99339929|Dimart Class 2.5 ...|           Tools|          5|            0|          0|   N|                Y|          Five Stars|   Items are perfect| 2015-08-31|\n",
            "|         US|   25066841|R2MSL3OBCTCUPI|B00YK10X4S|     114324600|Tesla invader 2 w...|           Tools|          5|            5|          5|   N|                Y|Great Product, Gr...|Bought my box fro...| 2015-08-31|\n",
            "|         US|   35711630|R2HN7475KOR8R9|B00CWDPF6W|     338735562|SE 7624BC-5 Gun C...|           Tools|          5|            0|          0|   N|                Y|          Five Stars|   Very good product| 2015-08-31|\n",
            "|         US|    9657704| RRRDHL6X7FNZY|B0094B9BHE|     776177279|BLACK+DECKER BDED...|           Tools|          5|            1|          1|   N|                Y|great quality at ...|Outstanding power...| 2015-08-31|\n",
            "|         US|   36328996|R39BYN9DVPT3S3|B00002X2HQ|      69993346|Stanley 46-071 Al...|           Tools|          5|            0|          0|   N|                Y|               handy|Good tool and see...| 2015-08-31|\n",
            "|         US|   47479587| R195PWFJPB2AK|B00HXD2V36|     474224096|Bostitch BTFP7232...|           Tools|          5|            0|          0|   N|                Y|          Five Stars|Used it on a rebu...| 2015-08-31|\n",
            "|         US|   42982739|R10MY87H1N19TY|B00004WFT5|     109385386|DMT F70X Diamond ...|           Tools|          5|            0|          0|   N|                Y|fantastic for the...|fantastic for the...| 2015-08-31|\n",
            "|         US|   15461244|R3097OG5G3UMOD|B006EHYDTM|     120362154|Stanley Wet/Dry V...|           Tools|          3|            1|          1|   N|                N|  Noisy but it works|I've had my Stanl...| 2015-08-31|\n",
            "|         US|   19608213|R1M22O9G2R45M3|B000TSWOLQ|     985815480|SE 9266SRP 6” Dou...|           Tools|          4|            0|          0|   N|                Y|                Nice|Useful little ite...| 2015-08-31|\n",
            "|         US|   23125239|R2ZFNVOUPB34Z4|B00HNFUU0K|      67630508|Streamlight 69242...|           Tools|          1|            7|         10|   N|                N|Excellent product...|Excellent product...| 2015-08-31|\n",
            "|         US|   47038344| R5J9L1E8DQVJJ|B00QGBNZVI|     962324810|Refun E6 High Pow...|           Tools|          5|            0|          0|   N|                Y|          Five Stars|   Very good product| 2015-08-31|\n",
            "|         US|   15251662|R1FQWUP6V312K0|B00L9BKPIQ|     383810803|Ergodyne Chill-It...|           Tools|          5|            0|          0|   N|                Y|          Five Stars|works when you wo...| 2015-08-31|\n",
            "|         US|   47910848|R3JPL8SFU3C1AM|B000USRG90|     554435651|Uvex S1933X-3 Sky...|           Tools|          3|            0|          0|   N|                Y|My mistake. These...|My mistake.  Thes...| 2015-08-31|\n",
            "|         US|   25790169| RXFTXGD17C8IN|B0049CBAX6|     294476696|DA84090 12 inch P...|           Tools|          5|            0|          0|   N|                Y|          Five Stars|          Heavy Duty| 2015-08-31|\n",
            "|         US|   53082915| RSBELAIC899DO|B00LPFIPPQ|     848632692|WEN 6510 Oscillating|           Tools|          5|           46|         51|   N|                Y|Professional sand...|I don't have a lo...| 2015-08-31|\n",
            "|         US|   14780088| RB7AF2WXQCBNH|B00004T7OI|     405425868|General Tools S83...|           Tools|          5|            0|          0|   N|                Y|          Five Stars|Work great, great...| 2015-08-31|\n",
            "|         US|   25776384|R33FI0JDQUG8LU|B000Q4C6Y8|     415994740|Gerber 46048 Spor...|           Tools|          5|            0|          0|   N|                Y|          Five Stars|Perfect for my Bu...| 2015-08-31|\n",
            "|         US|    4251765|R3DL1RJ95BVSJM|B00L3US71U|      87509879|Fein FMM 350Q TOP...|           Tools|          5|            0|          0|   N|                Y|Very versatile to...|     Awesome tool!!!| 2015-08-31|\n",
            "|         US|   28709813|R2V7N6URKUZMZZ|B00004RHAO|     153834347|Dewalt DW4930 4\" ...|           Tools|          4|            0|          0|   N|                Y|          Four Stars|                good| 2015-08-31|\n",
            "|         US|   12870854|R248BRDLHU4R4N|B001M0O170|     735138046|GearWrench 80066 ...|           Tools|          4|            0|          0|   N|                Y|         Great Deal.|Great deal on jus...| 2015-08-31|\n",
            "|         US|   27253061|R1J0OCYN9PG20L|B0002SPLQ8|     990638815|7 Pc. Torx Driver...|           Tools|          5|            0|          0|   N|                Y|          Five Stars|Great product, fa...| 2015-08-31|\n",
            "|         US|   29840292|R2ISG130YXILMI|B000BQR7TU|     229777293|Stanley 43-511 Ma...|           Tools|          5|            1|          1|   N|                Y|       great product|Great quality pro...| 2015-08-31|\n",
            "|         US|   14226567| R4YWXPIQREQ1C|B008X448KS|     473479573|WORX WX254L SD Se...|           Tools|          5|            0|          0|   N|                Y|          Five Stars|           Excelente| 2015-08-31|\n",
            "|         US|     654414|R198ZUWLAOLN4R|B009OY4UZE|     671167237|Ultra Bright CREE...|           Tools|          5|            0|          0|   N|                Y|          Five Stars|             Awesome| 2015-08-31|\n",
            "|         US|   22116451|R2VDOVTV5IYX08|B00002N6RV|     680365720|Shop-vac 9010700 ...|           Tools|          5|            0|          0|   N|                Y|It is what I need...|It is what I need...| 2015-08-31|\n",
            "|         US|   11008267|R3SUBZ4QLCOCS2|B000NPAVYW|     205293778|Uvex - Tomcat Saf...|           Tools|          3|            0|          0|   N|                Y|Scratch easily, n...|They aren't the m...| 2015-08-31|\n",
            "|         US|   32541085|R1S9NGI8AUP72A|B00X4ENL4Q|     318269095|Tech Tools Animal...|           Tools|          1|            0|          1|   N|                Y|        NEVER WORKED|Super bummed.  Bo...| 2015-08-31|\n",
            "|         US|   35742527|R1XXPAPYZ74EET|B0079XHISS|     589357068|Festool 574689 EB...|           Tools|          4|            3|          4|   N|                Y|Great router, poo...|This is a truly e...| 2015-08-31|\n",
            "|         US|   21346047| RUME7ESPMTSPW|B0063T3JW8|     767042432|249 Piece Rotary ...|           Tools|          5|            0|          0|   N|                Y|          Five Stars|            Love it!| 2015-08-31|\n",
            "|         US|    2676761| RWSD60FH1WI7L|B00REG8JNS|     700313984|TR Industrial For...|           Tools|          5|            1|          1|   N|                Y|          Five Stars|Wish I had bought...| 2015-08-31|\n",
            "|         US|    3627827|R2DZP5GTV2QJU5|B000GHYJ8G|     665214671|Black and Decker ...|           Tools|          5|            0|          0|   N|                Y|          Five Stars|No review everthi...| 2015-08-31|\n",
            "|         US|   26370810| R9AF52781ROV1|B000NPUKY8|     120327107|TEKTON 6610 5/32-...|           Tools|          5|            0|          0|   N|                Y|                Nice|Not only does thi...| 2015-08-31|\n",
            "|         US|   47909536| RI0PKBO5VBMBF|B00002262M|     993515273|Adjustable Mobile...|           Tools|          4|            0|          0|   N|                Y|Their customer se...|This is my third ...| 2015-08-31|\n",
            "|         US|   47121742| RYWLG1S7ES4HD|B00545PHI6|     514002351|DEWALT Bare-Tool ...|           Tools|          2|            0|          1|   N|                Y|            not bad.|Not bad but strug...| 2015-08-31|\n",
            "|         US|   42427484|R19FX1C3R908ZJ|B00004Z063|     369757120|Eazy Power 73610 ...|           Tools|          3|            0|          0|   N|                Y|         Three Stars|not very flexible...| 2015-08-31|\n",
            "|         US|   47052235|R1BVK8W5NSKRLU|B0064EICKG|      53515083|ProSensor 710 Fra...|           Tools|          5|            1|          1|   N|                Y|This stud finder ...|This is clearly t...| 2015-08-31|\n",
            "|         US|   48166169|R30351R83FZGHL|B00TGUEFX8|     504781823|Stainless Steel G...|           Tools|          5|            0|          0|   N|                Y|          Five Stars|      as advertised!| 2015-08-31|\n",
            "|         US|   20308714|R1CAD6DZPVFAFT|B00CRAARMC|     412826989|SecurityIng Water...|           Tools|          5|            0|          0|   N|                Y|I have used the l...|I have used the l...| 2015-08-31|\n",
            "|         US|   22290932|R2G5J3QYLOELAO|B00VCPAJX0|     192201862|Fenix UC30 960 Lu...|           Tools|          5|            1|          2|   N|                Y|     Flashlight Envy|This is a great l...| 2015-08-31|\n",
            "|         US|   25145037|R3GA6ZB9SU2XR6|B0009STAYA|     640002378|Enkay 149-C 6 pc....|           Tools|          1|            1|          1|   N|                Y|dont waste your m...|Old...rock hard. ...| 2015-08-31|\n",
            "|         US|   50041943|R2W5D2VH8V1VAL|B00V7T1YRQ|     912624182|J5 Tactical V1-PR...|           Tools|          4|            0|          0|   N|                Y|A good general us...|A good general us...| 2015-08-31|\n",
            "|         US|    1162063|R2243F40THV4GI|B000AEQQX6|     993782349|Bosch CO2148 21/6...|           Tools|          5|            0|          0|   N|                Y|          Five Stars|Great bit! Effort...| 2015-08-31|\n",
            "|         US|     123192|R2CZNB57SIWY73|B00Z9X6THQ|     991476625|Goxi 18v Battery ...|           Tools|          5|            0|          2|   N|                Y|Batteries perform...|Batteries perform...| 2015-08-31|\n",
            "|         US|   38586881|R1WI0OLEXW4G6L|B0007ZJ1IK|     815739501|Campbell Hausfeld...|           Tools|          2|            0|          0|   N|                Y|           Two Stars|The latch and con...| 2015-08-31|\n",
            "|         US|   44506014| RBDNVB95YJN8F|B00166OALC|     768381073|3M Tekk Virtua An...|           Tools|          5|            0|          0|   N|                N|          Five Stars|Good price. Fits ...| 2015-08-31|\n",
            "|         US|   25175351|R13R7ZDQ6P8QW3|B003UCODIA|     497942344|SE MH1047L Illumi...|           Tools|          2|            0|          0|   N|                Y|It'll Do For Only...|Ehh. It's built c...| 2015-08-31|\n",
            "|         US|   36479105| RXYTRFZZ7TVPT|B0010X8PGM|     595050670|Howard Leight by ...|           Tools|          3|            1|          2|   N|                Y|OK glasses, not f...|Too much wind all...| 2015-08-31|\n",
            "|         US|   52287759|R2X8I6O0YQRNYX|B0000CBJCT|     724314816|Klein Tools 76011...|           Tools|          4|            0|          0|   N|                Y|nibbler for thin ...|The thickness of ...| 2015-08-31|\n",
            "+-----------+-----------+--------------+----------+--------------+--------------------+----------------+-----------+-------------+-----------+----+-----------------+--------------------+--------------------+-----------+\n",
            "only showing top 100 rows\n",
            "\n"
          ],
          "name": "stdout"
        }
      ]
    }
  ]
}